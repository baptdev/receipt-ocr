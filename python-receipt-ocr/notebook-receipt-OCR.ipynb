{
 "cells": [
  {
   "attachments": {},
   "cell_type": "markdown",
   "metadata": {},
   "source": [
    "# Receipt OCR  "
   ]
  },
  {
   "attachments": {},
   "cell_type": "markdown",
   "metadata": {},
   "source": [
    "### ressources\n",
    "\n",
    "http://asprise.com/ocr/api/docs/html/receipt-ocr.html <br/>\n",
    "https://asprise.com/receipt-ocr-data-capture-api/extract-text-reader-scanner-index.html"
   ]
  },
  {
   "cell_type": "code",
   "execution_count": 5,
   "metadata": {},
   "outputs": [
    {
     "name": "stdout",
     "output_type": "stream",
     "text": [
      "=== Python Receipt OCR using API\n"
     ]
    }
   ],
   "source": [
    "import requests\n",
    "import pandas as pd\n",
    "import json\n",
    "import seaborn as sns\n",
    "\n",
    "print(\"=== Python Receipt OCR using API\")"
   ]
  },
  {
   "attachments": {},
   "cell_type": "markdown",
   "metadata": {},
   "source": [
    "### OCRing the receipt"
   ]
  },
  {
   "cell_type": "code",
   "execution_count": 6,
   "metadata": {},
   "outputs": [
    {
     "name": "stdout",
     "output_type": "stream",
     "text": [
      "{\n",
      "  \"ref_no\" : \"ocr_python_123\",\n",
      "  \"success\" : false,\n",
      "  \"message\" : \"Daily quota exceeded. Try again in a few hours or contact us to increase the quota: ocr@asprise.com\",\n",
      "  \"get_help\" : \"Please contact support@asprise.com for assistance.\"\n",
      "}\n"
     ]
    }
   ],
   "source": [
    "Buffer_flag = False\n",
    "\n",
    "if Buffer_flag == False:\n",
    "  receiptOcrEndpoint = 'https://ocr.asprise.com/api/v1/receipt' # Receipt OCR API endpoint\n",
    "  imageFile = \"img/1.jpg\" # // Modify this to use your own file if necessary\n",
    "  r = requests.post(receiptOcrEndpoint, data = { \\\n",
    "    'client_id': 'TEST',        # Use 'TEST' for testing purpose \\\n",
    "    'recognizer': 'auto',       # can be 'US', 'CA', 'JP', 'SG' or 'auto' \\\n",
    "    'ref_no': 'ocr_python_123', # optional caller provided ref code \\\n",
    "    }, \\\n",
    "    files = {\"file\": open(imageFile, \"rb\")})\n",
    "\n",
    "  # Writing to sample.json\n",
    "  with open(\"sample.json\", \"w\") as outfile:\n",
    "      json.dump(r.json(), outfile)\n",
    "      #https://www.geeksforgeeks.org/reading-and-writing-json-to-a-file-in-python/\n",
    "\n",
    "  print(r.text) # result in JSON\n"
   ]
  },
  {
   "cell_type": "code",
   "execution_count": 7,
   "metadata": {},
   "outputs": [
    {
     "name": "stdout",
     "output_type": "stream",
     "text": [
      "{'request_id': 'P_218.186.139.27_kl96a7ie_o9k', 'ref_no': 'AspDemo_1613550458205_154', 'file_name': 'SG-01s.jpg', 'request_received_on': 1613550460551, 'success': True, 'image_width': 1200, 'image_height': 1600, 'image_rotation': -0.006, 'recognition_completed_on': 1613550461387, 'receipts': [{'merchant_name': \"McDonald's\", 'merchant_address': '600 @ Toa Payoh #01-02, Singapore 319515', 'merchant_phone': '62596362', 'merchant_website': None, 'merchant_tax_reg_no': 'M2-0023981-4', 'merchant_company_reg_no': None, 'merchant_logo': '/ocr/api/img/demo/logos/mcd.jpg', 'region': None, 'mall': '600 @ Toa Payoh', 'country': 'SG', 'receipt_no': '002201330026', 'date': '2016-01-13', 'time': '15:49', 'items': [{'amount': 2.95, 'description': 'Med Ice Lemon Tea', 'flags': '', 'qty': 1, 'remarks': None, 'unitPrice': None}, {'amount': 2.4, 'description': 'Coffee with Milk', 'flags': '', 'qty': 1, 'remarks': None, 'unitPrice': None}], 'currency': 'SGD', 'total': 5.35, 'subtotal': None, 'tax': 0.35, 'service_charge': None, 'tip': None, 'payment_method': 'cash', 'payment_details': None, 'credit_card_type': None, 'credit_card_number': None, 'ocr_text': \"         McDonald's Toa Payoh Central\\n            600 @ Toa Payoh #01-02,\\n              Singapore 319515\\n                Tel: 62596362\\n       McDonald's Restaurants Pte Ltd\\n          GST REGN NO : M2-0023981-4\\n                 TAX INVOICE\\n   INV# 002201330026\\n  ORD $57 -REG # 1 - 13/01/2016 15:49:52\\n  QTY ITEM                            TOTAL\\n    1 Med Ice Lemon Tea                2.95\\n    1 Coffee with Milk                 2.40\\n Eat- In Total (incl GST)              5.35\\n Cash Tendered                         10.00\\n Change                                 4.65\\n TOTAL INCLUDES GST OF                  0.35\\n     Thank You and Have A Nice Day\", 'ocr_confidence': 96.6, 'width': 954, 'height': 1170, 'avg_char_width': None, 'avg_line_height': None, 'source_locations': {'date': [[{'y': 684, 'x': 500}, {'y': 681, 'x': 965}, {'y': 747, 'x': 966}, {'y': 750, 'x': 501}]], 'total': [[{'y': 957, 'x': 936}, {'y': 957, 'x': 1041}, {'y': 1012, 'x': 1041}, {'y': 1012, 'x': 936}]], 'receipt_no': [[{'y': 588, 'x': 246}, {'y': 587, 'x': 528}, {'y': 645, 'x': 528}, {'y': 646, 'x': 246}]], 'doc': [[{'y': 163, 'x': 44}, {'y': 157, 'x': 1094}, {'y': 1444, 'x': 1102}, {'y': 1450, 'x': 52}]], 'merchant_name': [[{'y': 223, 'x': 254}, {'y': 215, 'x': 876}, {'y': 260, 'x': 877}, {'y': 269, 'x': 255}]], 'tax': [[{'y': 1200, 'x': 949}, {'y': 1201, 'x': 1057}, {'y': 1258, 'x': 1056}, {'y': 1257, 'x': 948}]], 'merchant_address': [[{'y': 262, 'x': 318}, {'y': 261, 'x': 832}, {'y': 309, 'x': 832}, {'y': 309, 'x': 318}], [{'y': 308, 'x': 383}, {'y': 304, 'x': 768}, {'y': 356, 'x': 769}, {'y': 361, 'x': 384}]], 'merchant_phone': [[{'y': 354, 'x': 539}, {'y': 354, 'x': 719}, {'y': 396, 'x': 719}, {'y': 397, 'x': 539}]], 'merchant_tax_reg_no': [[{'y': 444, 'x': 574}, {'y': 438, 'x': 856}, {'y': 482, 'x': 857}, {'y': 488, 'x': 575}]]}}]}\n"
     ]
    }
   ],
   "source": [
    "with open(\"test.json\", \"r\") as openfile:\n",
    "    #reading from json file\n",
    "    json_object = json.load(openfile)\n",
    "\n",
    "print(json_object)"
   ]
  },
  {
   "attachments": {},
   "cell_type": "markdown",
   "metadata": {},
   "source": [
    "### Find all the items in the receipt"
   ]
  },
  {
   "cell_type": "code",
   "execution_count": 8,
   "metadata": {},
   "outputs": [
    {
     "name": "stdout",
     "output_type": "stream",
     "text": [
      "items:  [{'amount': 2.95, 'description': 'Med Ice Lemon Tea', 'flags': '', 'qty': 1, 'remarks': None, 'unitPrice': None}, {'amount': 2.4, 'description': 'Coffee with Milk', 'flags': '', 'qty': 1, 'remarks': None, 'unitPrice': None}]\n",
      "total:  5.35\n",
      "taxes:  0.35\n"
     ]
    }
   ],
   "source": [
    "if json_object[\"receipts\"] is not None: \n",
    "    receipt_object = json_object[\"receipts\"]\n",
    "    # Access the \"items\" list within the \"receipts\" object\n",
    "    items = json_object[\"receipts\"][0][\"items\"]\n",
    "    total = json_object[\"receipts\"][0][\"total\"]\n",
    "    taxes = json_object[\"receipts\"][0][\"tax\"]\n",
    "    print(\"items: \",items)\n",
    "    print(\"total: \",total)\n",
    "    print(\"taxes: \",taxes)\n",
    "\n",
    "else:\n",
    "    print(\"Error is\"+json_object[\"message\"])"
   ]
  },
  {
   "attachments": {},
   "cell_type": "markdown",
   "metadata": {},
   "source": [
    "### Translation"
   ]
  },
  {
   "attachments": {},
   "cell_type": "markdown",
   "metadata": {},
   "source": [
    "Ressources : https://www.thepythoncode.com/article/translate-text-in-python"
   ]
  },
  {
   "cell_type": "code",
   "execution_count": 9,
   "metadata": {},
   "outputs": [],
   "source": [
    "from googletrans import Translator\n",
    "\n",
    "#init the Google API translator\n",
    "translator = Translator()"
   ]
  },
  {
   "cell_type": "code",
   "execution_count": 10,
   "metadata": {},
   "outputs": [
    {
     "name": "stdout",
     "output_type": "stream",
     "text": [
      "Description :  Thé au citron à glace Med\n",
      "Description :  Café au lait\n"
     ]
    }
   ],
   "source": [
    "for item in items: \n",
    "    description = item[\"description\"]\n",
    "    translation = translator.translate(description, dest=\"fr\")\n",
    "    item[\"description\"] = translation.text\n",
    "\n",
    "for item in items:\n",
    "    print(\"Description : \", item[\"description\"])"
   ]
  },
  {
   "attachments": {},
   "cell_type": "markdown",
   "metadata": {},
   "source": [
    "### product"
   ]
  },
  {
   "cell_type": "code",
   "execution_count": 11,
   "metadata": {},
   "outputs": [
    {
     "name": "stdout",
     "output_type": "stream",
     "text": [
      "\n",
      "\n",
      "[]\n"
     ]
    }
   ],
   "source": [
    "#iterate over each item and add them if flaf != none\n",
    "product = []\n",
    "\n",
    "for item in items:\n",
    "    flag = item[\"flags\"]\n",
    "    if flag != \"\":\n",
    "        product.append(item)\n",
    "    #elif :\n",
    "        #find total price\n",
    "    else:\n",
    "        #nothing to do\n",
    "        print()\n",
    "print(product)"
   ]
  },
  {
   "attachments": {},
   "cell_type": "markdown",
   "metadata": {},
   "source": [
    "### Pandas dataframe"
   ]
  },
  {
   "cell_type": "code",
   "execution_count": 18,
   "metadata": {},
   "outputs": [],
   "source": [
    "items_df = pd.DataFrame(items)\n",
    "product_df = pd.DataFrame(product)"
   ]
  },
  {
   "cell_type": "code",
   "execution_count": 17,
   "metadata": {},
   "outputs": [
    {
     "ename": "KeyError",
     "evalue": "'description'",
     "output_type": "error",
     "traceback": [
      "\u001b[1;31m---------------------------------------------------------------------------\u001b[0m",
      "\u001b[1;31mKeyError\u001b[0m                                  Traceback (most recent call last)",
      "File \u001b[1;32md:\\Anaconda3\\envs\\myenv\\lib\\site-packages\\pandas\\core\\indexes\\base.py:3802\u001b[0m, in \u001b[0;36mIndex.get_loc\u001b[1;34m(self, key, method, tolerance)\u001b[0m\n\u001b[0;32m   3801\u001b[0m \u001b[39mtry\u001b[39;00m:\n\u001b[1;32m-> 3802\u001b[0m     \u001b[39mreturn\u001b[39;00m \u001b[39mself\u001b[39;49m\u001b[39m.\u001b[39;49m_engine\u001b[39m.\u001b[39;49mget_loc(casted_key)\n\u001b[0;32m   3803\u001b[0m \u001b[39mexcept\u001b[39;00m \u001b[39mKeyError\u001b[39;00m \u001b[39mas\u001b[39;00m err:\n",
      "File \u001b[1;32md:\\Anaconda3\\envs\\myenv\\lib\\site-packages\\pandas\\_libs\\index.pyx:138\u001b[0m, in \u001b[0;36mpandas._libs.index.IndexEngine.get_loc\u001b[1;34m()\u001b[0m\n",
      "File \u001b[1;32md:\\Anaconda3\\envs\\myenv\\lib\\site-packages\\pandas\\_libs\\index.pyx:165\u001b[0m, in \u001b[0;36mpandas._libs.index.IndexEngine.get_loc\u001b[1;34m()\u001b[0m\n",
      "File \u001b[1;32mpandas\\_libs\\hashtable_class_helper.pxi:5745\u001b[0m, in \u001b[0;36mpandas._libs.hashtable.PyObjectHashTable.get_item\u001b[1;34m()\u001b[0m\n",
      "File \u001b[1;32mpandas\\_libs\\hashtable_class_helper.pxi:5753\u001b[0m, in \u001b[0;36mpandas._libs.hashtable.PyObjectHashTable.get_item\u001b[1;34m()\u001b[0m\n",
      "\u001b[1;31mKeyError\u001b[0m: 'description'",
      "\nThe above exception was the direct cause of the following exception:\n",
      "\u001b[1;31mKeyError\u001b[0m                                  Traceback (most recent call last)",
      "Cell \u001b[1;32mIn[17], line 2\u001b[0m\n\u001b[0;32m      1\u001b[0m items_df[\u001b[39m\"\u001b[39m\u001b[39mamount\u001b[39m\u001b[39m\"\u001b[39m], items_df[\u001b[39m\"\u001b[39m\u001b[39mdescription\u001b[39m\u001b[39m\"\u001b[39m] \u001b[39m=\u001b[39m items_df[\u001b[39m\"\u001b[39m\u001b[39mdescription\u001b[39m\u001b[39m\"\u001b[39m], items_df[\u001b[39m\"\u001b[39m\u001b[39mamount\u001b[39m\u001b[39m\"\u001b[39m] \n\u001b[1;32m----> 2\u001b[0m product_df[\u001b[39m\"\u001b[39m\u001b[39mamount\u001b[39m\u001b[39m\"\u001b[39m], product_df[\u001b[39m\"\u001b[39m\u001b[39mdescription\u001b[39m\u001b[39m\"\u001b[39m] \u001b[39m=\u001b[39m product_df[\u001b[39m\"\u001b[39;49m\u001b[39mdescription\u001b[39;49m\u001b[39m\"\u001b[39;49m], product_df[\u001b[39m\"\u001b[39m\u001b[39mamount\u001b[39m\u001b[39m\"\u001b[39m]\n",
      "File \u001b[1;32md:\\Anaconda3\\envs\\myenv\\lib\\site-packages\\pandas\\core\\frame.py:3807\u001b[0m, in \u001b[0;36mDataFrame.__getitem__\u001b[1;34m(self, key)\u001b[0m\n\u001b[0;32m   3805\u001b[0m \u001b[39mif\u001b[39;00m \u001b[39mself\u001b[39m\u001b[39m.\u001b[39mcolumns\u001b[39m.\u001b[39mnlevels \u001b[39m>\u001b[39m \u001b[39m1\u001b[39m:\n\u001b[0;32m   3806\u001b[0m     \u001b[39mreturn\u001b[39;00m \u001b[39mself\u001b[39m\u001b[39m.\u001b[39m_getitem_multilevel(key)\n\u001b[1;32m-> 3807\u001b[0m indexer \u001b[39m=\u001b[39m \u001b[39mself\u001b[39;49m\u001b[39m.\u001b[39;49mcolumns\u001b[39m.\u001b[39;49mget_loc(key)\n\u001b[0;32m   3808\u001b[0m \u001b[39mif\u001b[39;00m is_integer(indexer):\n\u001b[0;32m   3809\u001b[0m     indexer \u001b[39m=\u001b[39m [indexer]\n",
      "File \u001b[1;32md:\\Anaconda3\\envs\\myenv\\lib\\site-packages\\pandas\\core\\indexes\\base.py:3804\u001b[0m, in \u001b[0;36mIndex.get_loc\u001b[1;34m(self, key, method, tolerance)\u001b[0m\n\u001b[0;32m   3802\u001b[0m     \u001b[39mreturn\u001b[39;00m \u001b[39mself\u001b[39m\u001b[39m.\u001b[39m_engine\u001b[39m.\u001b[39mget_loc(casted_key)\n\u001b[0;32m   3803\u001b[0m \u001b[39mexcept\u001b[39;00m \u001b[39mKeyError\u001b[39;00m \u001b[39mas\u001b[39;00m err:\n\u001b[1;32m-> 3804\u001b[0m     \u001b[39mraise\u001b[39;00m \u001b[39mKeyError\u001b[39;00m(key) \u001b[39mfrom\u001b[39;00m \u001b[39merr\u001b[39;00m\n\u001b[0;32m   3805\u001b[0m \u001b[39mexcept\u001b[39;00m \u001b[39mTypeError\u001b[39;00m:\n\u001b[0;32m   3806\u001b[0m     \u001b[39m# If we have a listlike key, _check_indexing_error will raise\u001b[39;00m\n\u001b[0;32m   3807\u001b[0m     \u001b[39m#  InvalidIndexError. Otherwise we fall through and re-raise\u001b[39;00m\n\u001b[0;32m   3808\u001b[0m     \u001b[39m#  the TypeError.\u001b[39;00m\n\u001b[0;32m   3809\u001b[0m     \u001b[39mself\u001b[39m\u001b[39m.\u001b[39m_check_indexing_error(key)\n",
      "\u001b[1;31mKeyError\u001b[0m: 'description'"
     ]
    }
   ],
   "source": [
    "items_df[\"amount\"], items_df[\"description\"] = items_df[\"description\"], items_df[\"amount\"] \n",
    "product_df[\"amount\"], product_df[\"description\"] = product_df[\"description\"], product_df[\"amount\"] \n"
   ]
  }
 ],
 "metadata": {
  "kernelspec": {
   "display_name": "myenv",
   "language": "python",
   "name": "python3"
  },
  "language_info": {
   "codemirror_mode": {
    "name": "ipython",
    "version": 3
   },
   "file_extension": ".py",
   "mimetype": "text/x-python",
   "name": "python",
   "nbconvert_exporter": "python",
   "pygments_lexer": "ipython3",
   "version": "3.10.11"
  },
  "orig_nbformat": 4
 },
 "nbformat": 4,
 "nbformat_minor": 2
}
