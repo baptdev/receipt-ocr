{
 "cells": [
  {
   "attachments": {},
   "cell_type": "markdown",
   "metadata": {},
   "source": [
    "# Receipt OCR  "
   ]
  },
  {
   "attachments": {},
   "cell_type": "markdown",
   "metadata": {},
   "source": [
    "### ressources\n",
    "\n",
    "http://asprise.com/ocr/api/docs/html/receipt-ocr.html <br/>\n",
    "https://asprise.com/receipt-ocr-data-capture-api/extract-text-reader-scanner-index.html"
   ]
  },
  {
   "cell_type": "code",
   "execution_count": 35,
   "metadata": {},
   "outputs": [
    {
     "name": "stdout",
     "output_type": "stream",
     "text": [
      "=== Python Receipt OCR using API\n"
     ]
    }
   ],
   "source": [
    "import os\n",
    "import requests\n",
    "import pandas as pd\n",
    "import json\n",
    "from googletrans import Translator\n",
    "\n",
    "\n",
    "print(\"=== Python Receipt OCR using API\")"
   ]
  },
  {
   "attachments": {},
   "cell_type": "markdown",
   "metadata": {},
   "source": [
    "### OCRing the receipt"
   ]
  },
  {
   "cell_type": "code",
   "execution_count": 95,
   "metadata": {},
   "outputs": [],
   "source": [
    "OverAsked = True\n",
    "receiptOcrEndpoint = 'https://ocr.asprise.com/api/v1/receipt' # Receipt OCR API endpoint\n",
    "folder_path_img = \"receipts/jpg\" #folder path\n",
    "folder_path_json = \"receipts/json\" \n",
    "folder_path_pdf = \"receipts/pdf\""
   ]
  },
  {
   "attachments": {},
   "cell_type": "markdown",
   "metadata": {},
   "source": [
    "### Convert pdf to jpg"
   ]
  },
  {
   "cell_type": "code",
   "execution_count": 98,
   "metadata": {},
   "outputs": [
    {
     "ename": "ModuleNotFoundError",
     "evalue": "No module named 'pdf2image'",
     "output_type": "error",
     "traceback": [
      "\u001b[1;31m---------------------------------------------------------------------------\u001b[0m",
      "\u001b[1;31mModuleNotFoundError\u001b[0m                       Traceback (most recent call last)",
      "Cell \u001b[1;32mIn[98], line 1\u001b[0m\n\u001b[1;32m----> 1\u001b[0m \u001b[39mfrom\u001b[39;00m \u001b[39mpdf2image\u001b[39;00m \u001b[39mimport\u001b[39;00m convert_from_path\n\u001b[0;32m      4\u001b[0m \u001b[39m# Store Pdf with convert_from_path function\u001b[39;00m\n\u001b[0;32m      5\u001b[0m images \u001b[39m=\u001b[39m convert_from_path(folder_path_pdf)\n",
      "\u001b[1;31mModuleNotFoundError\u001b[0m: No module named 'pdf2image'"
     ]
    }
   ],
   "source": [
    "from pdf2image import convert_from_path\n",
    " \n",
    " \n",
    "# Store Pdf with convert_from_path function\n",
    "images = convert_from_path(folder_path_pdf)\n",
    "   \n",
    "for i in range(len(images)): \n",
    "    # Save pages as images in the pdf\n",
    "    images[i].save(folder_path_img + 'page'+ str(i) +'.jpg', 'JPEG')\n",
    "\n",
    "\n"
   ]
  },
  {
   "attachments": {},
   "cell_type": "markdown",
   "metadata": {},
   "source": [
    "#### Read jpg file and save into json"
   ]
  },
  {
   "cell_type": "code",
   "execution_count": 96,
   "metadata": {},
   "outputs": [],
   "source": [
    "#iterate over the files in the folder \n",
    "if OverAsked == False:\n",
    "  for filename in os.listdir(folder_path_img):\n",
    "    if filename.endswith(\".jpg\"):\n",
    "        image_path = os.path.join(folder_path_img, filename)\n",
    "        r = requests.post(receiptOcrEndpoint, data = { \\\n",
    "        'client_id': 'TEST',        # Use 'TEST' for testing purpose \\\n",
    "        'recognizer': 'auto',       # can be 'US', 'CA', 'JP', 'SG' or 'auto' \\\n",
    "        'ref_no': 'ocr_python_123', # optional caller provided ref code \\\n",
    "        }, \\\n",
    "        files = {\"file\": open(image_path, \"rb\")})\n",
    "\n",
    "        # Save the json response to a file\n",
    "        json_filename = os.path.splitext(filename)[0] + \".json\"\n",
    "        json_path = os.path.join(folder_path_json, json_filename)        \n",
    "        with open(json_path, \"w\") as outfile:\n",
    "            json.dump(r.json(), outfile)\n",
    "            #https://www.geeksforgeeks.org/reading-and-writing-json-to-a-file-in-python/\n",
    "\n",
    "        print(f\"Processed {filename} - Result saved to {json_filename}\")\n",
    "        print(r.text)"
   ]
  },
  {
   "cell_type": "code",
   "execution_count": 63,
   "metadata": {},
   "outputs": [
    {
     "name": "stdout",
     "output_type": "stream",
     "text": [
      "{'ocr_type': 'receipts', 'request_id': 'P_92.184.97.11_lj1jfdr2_i4p', 'ref_no': 'AspDemo_1687099400190_538', 'file_name': 'test.jpg', 'request_received_on': 1687099406943, 'success': True, 'image_width': 694, 'image_height': 1650, 'image_rotation': 0.009, 'recognition_completed_on': 1687099408070, 'receipts': [{'merchant_name': 'LIDL Müllerstraße 48-48a', 'merchant_address': '13349 Berlin-Wedding', 'merchant_phone': None, 'merchant_website': None, 'merchant_tax_reg_no': None, 'merchant_company_reg_no': None, 'region': None, 'mall': None, 'country': 'DE', 'receipt_no': 'DE813388858', 'date': '2023-06-17', 'time': '14:15', 'items': [{'amount': 1.12, 'category': None, 'description': 'Bananen kg', 'flags': ' A', 'qty': None, 'remarks': None, 'tags': None, 'unitPrice': None}, {'amount': 2.99, 'category': None, 'description': 'Apfel rot, fru.-süß', 'flags': ' A', 'qty': None, 'remarks': None, 'tags': None, 'unitPrice': None}, {'amount': 1.99, 'category': None, 'description': 'Mexikanisches Gemüse', 'flags': ' A', 'qty': None, 'remarks': None, 'tags': None, 'unitPrice': None}, {'amount': 1.99, 'category': None, 'description': 'Feinschmeckergemüse', 'flags': ' A', 'qty': None, 'remarks': None, 'tags': None, 'unitPrice': None}, {'amount': 2.49, 'category': None, 'description': 'Knuspermüsli + Schoko', 'flags': ' A', 'qty': None, 'remarks': None, 'tags': None, 'unitPrice': None}, {'amount': 0.89, 'category': None, 'description': 'Apfelmus gezuckert', 'flags': ' A', 'qty': None, 'remarks': None, 'tags': None, 'unitPrice': None}, {'amount': 0.75, 'category': None, 'description': 'Traube-Nuß Sch. 100g', 'flags': ' A', 'qty': None, 'remarks': None, 'tags': None, 'unitPrice': None}, {'amount': 12.22, 'category': None, 'description': 'zu zahlen', 'flags': '', 'qty': None, 'remarks': None, 'tags': None, 'unitPrice': None}, {'amount': 12.22, 'category': None, 'description': 'Kreditkarte', 'flags': '', 'qty': None, 'remarks': None, 'tags': None, 'unitPrice': None}, {'amount': 12.22, 'category': None, 'description': 'A 7%0,8011,42', 'flags': '', 'qty': None, 'remarks': None, 'tags': None, 'unitPrice': None}], 'currency': 'EUR', 'total': 12.22, 'subtotal': None, 'tax': None, 'service_charge': None, 'tip': None, 'payment_method': None, 'payment_details': None, 'credit_card_type': None, 'credit_card_number': None, 'ocr_text': '                 LIDL\\n            Müllerstraße 48-48a\\n           13349 Berlin-Wedding\\n                                     EUR\\n Bananen kg                         1,12 A\\n   0,872 kg x 1,29 EUR/kg\\n Apfel rot, fru.-süß               2,99 A\\n Mexikanisches Gemüse               1,99 A\\n Feinschmeckergemüse                1,99 A\\n Knuspermüsli + Schoko             2,49 A\\n Apfelmus gezuckert                0,89 A\\n Traube-Nuß Sch. 100g              0,75 A\\n zu zahlen                         12,22\\n Kreditkarte                       12,22\\n  MWSTX       MWST Netto = Brutto\\n A 7%         0,80      11,42      12,22\\n Summe        0,80      11,42      12,22\\n    Lade dir die Lidl Plus App herunter\\n  und spare bei deinem nächsten Einkauf.\\n TSE Transaktionsnummer: 363189\\n Seriennr. Kasse: LDL-000-5044-1\\n Prüfwert: 07Kkp0cRjGwjzwvwR9aZz0n6wPRZ6R0b\\n 05umdMAKgn2If + GhkQCX + uz 1HCDSG41eodV3hdOCHt\\n BfinhJqgQiXqm9BOU1Ou + vWmAA5RJQjz1 + ea08da7LW\\n 1toHnupiLbqz\\n Signaturzähler: 736505\\n 2023-06-17T12: 15: 40.000Z\\n 2023-06-17T12: 16: 13.000Z\\n 5044 764277/01              17.06.23 14:15\\n          UST-ID-NR: DE813388858\\n              Bezahlung VISA', 'ocr_confidence': 94.61, 'width': 669, 'height': 1601, 'avg_char_width': 15.6026, 'avg_line_height': 29.4637, 'conf_amount': 83, 'source_locations': {'date': [[{'y': 1436, 'x': 448}, {'y': 1438, 'x': 687}, {'y': 1492, 'x': 686}, {'y': 1490, 'x': 448}]], 'total': [[{'y': 740, 'x': 548}, {'y': 740, 'x': 635}, {'y': 771, 'x': 634}, {'y': 771, 'x': 548}]], 'receipt_no': [[{'y': 1484, 'x': 326}, {'y': 1484, 'x': 514}, {'y': 1515, 'x': 514}, {'y': 1515, 'x': 326}]], 'merchant_name': [[{'y': 30, 'x': 281}, {'y': 37, 'x': 437}, {'y': 84, 'x': 435}, {'y': 77, 'x': 279}], [{'y': 75, 'x': 189}, {'y': 94, 'x': 509}, {'y': 124, 'x': 507}, {'y': 106, 'x': 187}]], 'doc': [[{'y': -56, 'x': -12}, {'y': -50, 'x': 723}, {'y': 1711, 'x': 706}, {'y': 1704, 'x': -29}]], 'merchant_address': [[{'y': 111, 'x': 172}, {'y': 135, 'x': 526}, {'y': 168, 'x': 523}, {'y': 144, 'x': 170}]]}}]}\n"
     ]
    }
   ],
   "source": [
    "with open(folder_path_json+\"/test.json\", \"r\") as openfile:\n",
    "    #reading from json file\n",
    "    json_object = json.load(openfile)\n",
    "\n",
    "print(json_object)"
   ]
  },
  {
   "attachments": {},
   "cell_type": "markdown",
   "metadata": {},
   "source": [
    "### Find all the items in the receipt"
   ]
  },
  {
   "cell_type": "code",
   "execution_count": 64,
   "metadata": {},
   "outputs": [
    {
     "name": "stdout",
     "output_type": "stream",
     "text": [
      "items:  [{'amount': 1.12, 'category': None, 'description': 'Bananen kg', 'flags': ' A', 'qty': None, 'remarks': None, 'tags': None, 'unitPrice': None}, {'amount': 2.99, 'category': None, 'description': 'Apfel rot, fru.-süß', 'flags': ' A', 'qty': None, 'remarks': None, 'tags': None, 'unitPrice': None}, {'amount': 1.99, 'category': None, 'description': 'Mexikanisches Gemüse', 'flags': ' A', 'qty': None, 'remarks': None, 'tags': None, 'unitPrice': None}, {'amount': 1.99, 'category': None, 'description': 'Feinschmeckergemüse', 'flags': ' A', 'qty': None, 'remarks': None, 'tags': None, 'unitPrice': None}, {'amount': 2.49, 'category': None, 'description': 'Knuspermüsli + Schoko', 'flags': ' A', 'qty': None, 'remarks': None, 'tags': None, 'unitPrice': None}, {'amount': 0.89, 'category': None, 'description': 'Apfelmus gezuckert', 'flags': ' A', 'qty': None, 'remarks': None, 'tags': None, 'unitPrice': None}, {'amount': 0.75, 'category': None, 'description': 'Traube-Nuß Sch. 100g', 'flags': ' A', 'qty': None, 'remarks': None, 'tags': None, 'unitPrice': None}, {'amount': 12.22, 'category': None, 'description': 'zu zahlen', 'flags': '', 'qty': None, 'remarks': None, 'tags': None, 'unitPrice': None}, {'amount': 12.22, 'category': None, 'description': 'Kreditkarte', 'flags': '', 'qty': None, 'remarks': None, 'tags': None, 'unitPrice': None}, {'amount': 12.22, 'category': None, 'description': 'A 7%0,8011,42', 'flags': '', 'qty': None, 'remarks': None, 'tags': None, 'unitPrice': None}]\n",
      "total:  12.22\n",
      "taxes:  None\n"
     ]
    }
   ],
   "source": [
    "if json_object[\"receipts\"] is not None: \n",
    "    receipt_object = json_object[\"receipts\"]\n",
    "    # Access the \"items\" list within the \"receipts\" object\n",
    "    items = json_object[\"receipts\"][0][\"items\"]\n",
    "    total = json_object[\"receipts\"][0][\"total\"]\n",
    "    taxes = json_object[\"receipts\"][0][\"tax\"]\n",
    "    print(\"items: \",items)\n",
    "    print(\"total: \",total)\n",
    "    print(\"taxes: \",taxes)\n",
    "\n",
    "else:\n",
    "    print(\"Error is\"+json_object[\"message\"])"
   ]
  },
  {
   "attachments": {},
   "cell_type": "markdown",
   "metadata": {},
   "source": [
    "### Translation"
   ]
  },
  {
   "attachments": {},
   "cell_type": "markdown",
   "metadata": {},
   "source": [
    "Ressources : https://www.thepythoncode.com/article/translate-text-in-python"
   ]
  },
  {
   "cell_type": "code",
   "execution_count": 39,
   "metadata": {},
   "outputs": [],
   "source": [
    "#init the Google API translator\n",
    "translator = Translator()"
   ]
  },
  {
   "cell_type": "code",
   "execution_count": 43,
   "metadata": {},
   "outputs": [
    {
     "name": "stdout",
     "output_type": "stream",
     "text": [
      "Description :  Banane kg\n",
      "Description :  oignons jaunes\n",
      "Description :  PC mangue\n",
      "Description :  Pêche\n",
      "Description :  Légumes asiatiques\n",
      "Description :  Bioland Type 630\n",
      "Description :  H-lait H, 1,5% OGT\n",
      "Description :  Fr.aier.a.bo.ha octobre\n",
      "Description :  Sel de piment\n",
      "Description :  Fusillis\n",
      "Description :  Sauce de pomme sugared\n",
      "Description :  Carotte multi-fruits\n",
      "Description :  Canneberries sult.mix\n",
      "Description :  Pain maître\n",
      "Description :  Poulet\n",
      "Description :  payer\n",
      "Description :  Carte de crédit\n",
      "Description :  Un 7% 1 6523,54\n",
      "Description :  B 19% 0,321,67\n"
     ]
    }
   ],
   "source": [
    "for item in items: \n",
    "    description = item[\"description\"]\n",
    "    translation = translator.translate(description, dest=\"fr\")\n",
    "    item[\"description\"] = translation.text\n",
    "    print(\"Description : \", item[\"description\"])"
   ]
  },
  {
   "attachments": {},
   "cell_type": "markdown",
   "metadata": {},
   "source": [
    "### Product"
   ]
  },
  {
   "cell_type": "code",
   "execution_count": null,
   "metadata": {},
   "outputs": [
    {
     "name": "stdout",
     "output_type": "stream",
     "text": [
      "\n",
      "\n",
      "\n",
      "\n",
      "[{'amount': 1.19, 'category': None, 'description': 'Banane kg', 'flags': ' A', 'qty': None, 'remarks': None, 'tags': None, 'unitPrice': None}, {'amount': 2.99, 'category': None, 'description': 'Nectarine', 'flags': ' A', 'qty': None, 'remarks': None, 'tags': None, 'unitPrice': None}, {'amount': 1.79, 'category': None, 'description': 'Del.Koch Ham', 'flags': ' A', 'qty': None, 'remarks': None, 'tags': None, 'unitPrice': None}, {'amount': 0.89, 'category': None, 'description': 'Sauce de pomme sugared', 'flags': ' A', 'qty': None, 'remarks': None, 'tags': None, 'unitPrice': None}, {'amount': 0.99, 'category': None, 'description': 'Jeunes haricots', 'flags': ' A', 'qty': None, 'remarks': None, 'tags': None, 'unitPrice': None}, {'amount': 4.05, 'category': None, 'description': 'Papier toilette 3lg', 'flags': ' B', 'qty': None, 'remarks': None, 'tags': None, 'unitPrice': None}, {'amount': 2.85, 'category': None, 'description': 'Torchons de cuisine', 'flags': ' B', 'qty': None, 'remarks': None, 'tags': None, 'unitPrice': None}, {'amount': 0.65, 'category': None, 'description': 'Par', 'flags': ' B', 'qty': None, 'remarks': None, 'tags': None, 'unitPrice': None}, {'amount': 1.95, 'category': None, 'description': 'Hygienespray Univer', 'flags': ' B', 'qty': None, 'remarks': None, 'tags': None, 'unitPrice': None}, {'amount': 0.75, 'category': None, 'description': 'Éponge', 'flags': ' B', 'qty': None, 'remarks': None, 'tags': None, 'unitPrice': None}, {'amount': 1.89, 'category': None, 'description': 'Sacs à déchets 601 25', 'flags': ' B', 'qty': None, 'remarks': None, 'tags': None, 'unitPrice': None}, {'amount': 1.99, 'category': None, 'description': 'Tout usage', 'flags': ' B', 'qty': None, 'remarks': None, 'tags': None, 'unitPrice': None}, {'amount': 9.99, 'category': None, 'description': \"Fresh Hold '' 0384936\", 'flags': ' B', 'qty': None, 'remarks': None, 'tags': None, 'unitPrice': None}]\n"
     ]
    }
   ],
   "source": [
    "#iterate over each item and add them if flaf != none\n",
    "products = []\n",
    "\n",
    "for item in items:\n",
    "    flag = item[\"flags\"]\n",
    "    if flag != \"\":\n",
    "        products.append(item)\n",
    "    #elif :\n",
    "        #find total price\n",
    "    else:\n",
    "        #nothing to do\n",
    "        print()\n",
    "print(products)"
   ]
  },
  {
   "attachments": {},
   "cell_type": "markdown",
   "metadata": {},
   "source": [
    "### Pandas dataframe"
   ]
  },
  {
   "cell_type": "code",
   "execution_count": null,
   "metadata": {},
   "outputs": [],
   "source": [
    "items_df = pd.DataFrame(items)\n",
    "products_df = pd.DataFrame(products)"
   ]
  },
  {
   "cell_type": "code",
   "execution_count": null,
   "metadata": {},
   "outputs": [
    {
     "name": "stdout",
     "output_type": "stream",
     "text": [
      "               description  amount\n",
      "0                Banane kg    1.19\n",
      "1                Nectarine    2.99\n",
      "2             Del.Koch Ham    1.79\n",
      "3   Sauce de pomme sugared    0.89\n",
      "4          Jeunes haricots    0.99\n",
      "5      Papier toilette 3lg    4.05\n",
      "6      Torchons de cuisine    2.85\n",
      "7                      Par    0.65\n",
      "8      Hygienespray Univer    1.95\n",
      "9                   Éponge    0.75\n",
      "10   Sacs à déchets 601 25    1.89\n",
      "11              Tout usage    1.99\n",
      "12   Fresh Hold '' 0384936    9.99\n"
     ]
    }
   ],
   "source": [
    "export_csv = pd.DataFrame(products_df[[\"description\", \"amount\"]])\n",
    "print(export_csv)\n",
    "export_csv.to_csv('receipts/export_data.csv', index=False, sep=\";\")"
   ]
  },
  {
   "attachments": {},
   "cell_type": "markdown",
   "metadata": {},
   "source": [
    "## All in one"
   ]
  },
  {
   "cell_type": "code",
   "execution_count": 93,
   "metadata": {},
   "outputs": [
    {
     "name": "stdout",
     "output_type": "stream",
     "text": [
      "{'ocr_type': 'receipts', 'request_id': 'P_92.184.97.11_lj1c71nq_ur8', 'ref_no': 'ocr_python_123', 'file_name': '1.jpg', 'request_received_on': 1687087260711, 'success': True, 'image_width': 1117, 'image_height': 1650, 'image_rotation': -0.033, 'recognition_completed_on': 1687087261622, 'receipts': [{'merchant_name': 'Zwiebeln gelb', 'merchant_address': None, 'merchant_phone': None, 'merchant_website': None, 'merchant_tax_reg_no': None, 'merchant_company_reg_no': None, 'region': None, 'mall': None, 'country': 'DE', 'receipt_no': None, 'date': None, 'time': None, 'items': [{'amount': 1.36, 'category': None, 'description': 'Bananen kg', 'flags': ' A', 'qty': None, 'remarks': None, 'tags': None, 'unitPrice': None}, {'amount': 2.99, 'category': None, 'description': 'Zwiebeln gelb', 'flags': ' A', 'qty': None, 'remarks': None, 'tags': None, 'unitPrice': None}, {'amount': 1.39, 'category': None, 'description': 'Mango Stk', 'flags': ' A', 'qty': None, 'remarks': None, 'tags': None, 'unitPrice': None}, {'amount': 1.99, 'category': None, 'description': 'Pfirsiche', 'flags': ' A', 'qty': None, 'remarks': None, 'tags': None, 'unitPrice': None}, {'amount': 1.99, 'category': None, 'description': 'Asiatisches Gemüse', 'flags': ' A', 'qty': None, 'remarks': None, 'tags': None, 'unitPrice': None}, {'amount': 1.59, 'category': None, 'description': 'Bioland Type 630', 'flags': ' A', 'qty': None, 'remarks': None, 'tags': None, 'unitPrice': None}, {'amount': 0.95, 'category': None, 'description': 'H-Milch 1,5% OGT', 'flags': ' A', 'qty': None, 'remarks': None, 'tags': None, 'unitPrice': None}, {'amount': 1.99, 'category': None, 'description': 'Fr.Eier.a.Bo.ha OKT', 'flags': ' A', 'qty': None, 'remarks': None, 'tags': None, 'unitPrice': None}, {'amount': 1.09, 'category': None, 'description': 'Chilisalz', 'flags': ' A', 'qty': None, 'remarks': None, 'tags': None, 'unitPrice': None}, {'amount': 0.79, 'category': None, 'description': 'Fusilli', 'flags': ' A', 'qty': None, 'remarks': None, 'tags': None, 'unitPrice': None}, {'amount': 0.89, 'category': None, 'description': 'Apfelmus gezuckert', 'flags': ' A', 'qty': None, 'remarks': None, 'tags': None, 'unitPrice': None}, {'amount': 1.99, 'category': None, 'description': 'Mehrfrucht-Karotten', 'flags': ' B', 'qty': None, 'remarks': None, 'tags': None, 'unitPrice': None}, {'amount': 2.19, 'category': None, 'description': 'Cranberries Sult.Mix', 'flags': ' A', 'qty': None, 'remarks': None, 'tags': None, 'unitPrice': None}, {'amount': 1.99, 'category': None, 'description': 'Meisterbrot', 'flags': ' A', 'qty': None, 'remarks': None, 'tags': None, 'unitPrice': None}, {'amount': 3.99, 'category': None, 'description': 'Hähnchen-Geschn', 'flags': ' A', 'qty': None, 'remarks': None, 'tags': None, 'unitPrice': None}, {'amount': 27.18, 'category': None, 'description': 'zu zahlen', 'flags': '', 'qty': None, 'remarks': None, 'tags': None, 'unitPrice': None}, {'amount': 27.18, 'category': None, 'description': 'Kreditkarte', 'flags': '', 'qty': None, 'remarks': None, 'tags': None, 'unitPrice': None}, {'amount': 25.19, 'category': None, 'description': 'A 7%1,6523,54', 'flags': '', 'qty': None, 'remarks': None, 'tags': None, 'unitPrice': None}, {'amount': 1.99, 'category': None, 'description': 'B 19 %0,321,67', 'flags': '', 'qty': None, 'remarks': None, 'tags': None, 'unitPrice': None}], 'currency': 'EUR', 'total': 27.18, 'subtotal': None, 'tax': None, 'service_charge': None, 'tip': None, 'payment_method': None, 'payment_details': None, 'credit_card_type': None, 'credit_card_number': None, 'ocr_text': '                                       EUR\\n Bananen kg                           1,36 A\\n   1,182 kg x 1,15 EUR/kg\\n Zwiebeln gelb                        2,99 A\\n Mango Stk                            1,39 A\\n Pfirsiche                           1,99 A\\n Asiatisches Gemüse                  1,99 A\\n Bioland Type 630                    1,59 A\\n H-Milch 1,5% OGT                    0,95 A\\n Fr.Eier.a.Bo.ha OKT                 1,99 A\\n Chilisalz                           1,09 A\\n Fusilli                             0,79 A\\n Apfelmus gezuckert                  0,89 A\\n Mehrfrucht-Karotten                 1,99 B\\n Cranberries Sult.Mix               2,19 A\\n Meisterbrot                         1,99 A\\n Hähnchen-Geschn.                   3,99 A\\n zu zahlen                         27,18\\n Kreditkarte                       27,18\\n  MWSTX       MWST + Netto Netto  Brutto\\n A 7%         1,65      23,54      25,19\\n B 19 %       0,32       1,67       1,99\\n Summe        1,97      25,21      27,18', 'ocr_confidence': 97.96, 'width': 1053, 'height': 1576, 'avg_char_width': 24.5823, 'avg_line_height': 47.2215, 'conf_amount': 83, 'source_locations': {'total': [[{'y': 1538, 'x': 878}, {'y': 1535, 'x': 1014}, {'y': 1589, 'x': 1015}, {'y': 1592, 'x': 879}]], 'merchant_name': [[{'y': 233, 'x': 23}, {'y': 201, 'x': 363}, {'y': 260, 'x': 369}, {'y': 292, 'x': 28}]], 'doc': [[{'y': -32, 'x': -44}, {'y': -70, 'x': 1114}, {'y': 1662, 'x': 1170}, {'y': 1700, 'x': 12}]]}}]}\n",
      "items:  [{'amount': 1.12, 'category': None, 'description': 'Bananen kg', 'flags': ' A', 'qty': None, 'remarks': None, 'tags': None, 'unitPrice': None}, {'amount': 2.99, 'category': None, 'description': 'Apfel rot, fru.-süß', 'flags': ' A', 'qty': None, 'remarks': None, 'tags': None, 'unitPrice': None}, {'amount': 1.99, 'category': None, 'description': 'Mexikanisches Gemüse', 'flags': ' A', 'qty': None, 'remarks': None, 'tags': None, 'unitPrice': None}, {'amount': 1.99, 'category': None, 'description': 'Feinschmeckergemüse', 'flags': ' A', 'qty': None, 'remarks': None, 'tags': None, 'unitPrice': None}, {'amount': 2.49, 'category': None, 'description': 'Knuspermüsli + Schoko', 'flags': ' A', 'qty': None, 'remarks': None, 'tags': None, 'unitPrice': None}, {'amount': 0.89, 'category': None, 'description': 'Apfelmus gezuckert', 'flags': ' A', 'qty': None, 'remarks': None, 'tags': None, 'unitPrice': None}, {'amount': 0.75, 'category': None, 'description': 'Traube-Nuß Sch. 100g', 'flags': ' A', 'qty': None, 'remarks': None, 'tags': None, 'unitPrice': None}, {'amount': 12.22, 'category': None, 'description': 'zu zahlen', 'flags': '', 'qty': None, 'remarks': None, 'tags': None, 'unitPrice': None}, {'amount': 12.22, 'category': None, 'description': 'Kreditkarte', 'flags': '', 'qty': None, 'remarks': None, 'tags': None, 'unitPrice': None}, {'amount': 12.22, 'category': None, 'description': 'A 7%0,8011,42', 'flags': '', 'qty': None, 'remarks': None, 'tags': None, 'unitPrice': None}]\n",
      "total:  [27.18]\n",
      "[{'amount': 1.36, 'category': None, 'description': 'Bananen kg', 'flags': ' A', 'qty': None, 'remarks': None, 'tags': None, 'unitPrice': None, 'merchant_name': 'Zwiebeln gelb', 'country': 'DE', 'date': '-'}, {'amount': 2.99, 'category': None, 'description': 'Zwiebeln gelb', 'flags': ' A', 'qty': None, 'remarks': None, 'tags': None, 'unitPrice': None, 'merchant_name': 'Zwiebeln gelb', 'country': 'DE', 'date': '-'}, {'amount': 1.39, 'category': None, 'description': 'Mango Stk', 'flags': ' A', 'qty': None, 'remarks': None, 'tags': None, 'unitPrice': None, 'merchant_name': 'Zwiebeln gelb', 'country': 'DE', 'date': '-'}, {'amount': 1.99, 'category': None, 'description': 'Pfirsiche', 'flags': ' A', 'qty': None, 'remarks': None, 'tags': None, 'unitPrice': None, 'merchant_name': 'Zwiebeln gelb', 'country': 'DE', 'date': '-'}, {'amount': 1.99, 'category': None, 'description': 'Asiatisches Gemüse', 'flags': ' A', 'qty': None, 'remarks': None, 'tags': None, 'unitPrice': None, 'merchant_name': 'Zwiebeln gelb', 'country': 'DE', 'date': '-'}, {'amount': 1.59, 'category': None, 'description': 'Bioland Type 630', 'flags': ' A', 'qty': None, 'remarks': None, 'tags': None, 'unitPrice': None, 'merchant_name': 'Zwiebeln gelb', 'country': 'DE', 'date': '-'}, {'amount': 0.95, 'category': None, 'description': 'H-Milch 1,5% OGT', 'flags': ' A', 'qty': None, 'remarks': None, 'tags': None, 'unitPrice': None, 'merchant_name': 'Zwiebeln gelb', 'country': 'DE', 'date': '-'}, {'amount': 1.99, 'category': None, 'description': 'Fr.Eier.a.Bo.ha OKT', 'flags': ' A', 'qty': None, 'remarks': None, 'tags': None, 'unitPrice': None, 'merchant_name': 'Zwiebeln gelb', 'country': 'DE', 'date': '-'}, {'amount': 1.09, 'category': None, 'description': 'Chilisalz', 'flags': ' A', 'qty': None, 'remarks': None, 'tags': None, 'unitPrice': None, 'merchant_name': 'Zwiebeln gelb', 'country': 'DE', 'date': '-'}, {'amount': 0.79, 'category': None, 'description': 'Fusilli', 'flags': ' A', 'qty': None, 'remarks': None, 'tags': None, 'unitPrice': None, 'merchant_name': 'Zwiebeln gelb', 'country': 'DE', 'date': '-'}, {'amount': 0.89, 'category': None, 'description': 'Apfelmus gezuckert', 'flags': ' A', 'qty': None, 'remarks': None, 'tags': None, 'unitPrice': None, 'merchant_name': 'Zwiebeln gelb', 'country': 'DE', 'date': '-'}, {'amount': 1.99, 'category': None, 'description': 'Mehrfrucht-Karotten', 'flags': ' B', 'qty': None, 'remarks': None, 'tags': None, 'unitPrice': None, 'merchant_name': 'Zwiebeln gelb', 'country': 'DE', 'date': '-'}, {'amount': 2.19, 'category': None, 'description': 'Cranberries Sult.Mix', 'flags': ' A', 'qty': None, 'remarks': None, 'tags': None, 'unitPrice': None, 'merchant_name': 'Zwiebeln gelb', 'country': 'DE', 'date': '-'}, {'amount': 1.99, 'category': None, 'description': 'Meisterbrot', 'flags': ' A', 'qty': None, 'remarks': None, 'tags': None, 'unitPrice': None, 'merchant_name': 'Zwiebeln gelb', 'country': 'DE', 'date': '-'}, {'amount': 3.99, 'category': None, 'description': 'Hähnchen-Geschn', 'flags': ' A', 'qty': None, 'remarks': None, 'tags': None, 'unitPrice': None, 'merchant_name': 'Zwiebeln gelb', 'country': 'DE', 'date': '-'}]\n",
      "{'ocr_type': 'receipts', 'request_id': 'P_92.184.97.11_lj1c73db_mot', 'ref_no': 'ocr_python_123', 'file_name': '2.jpg', 'request_received_on': 1687087262928, 'success': True, 'image_width': 1119, 'image_height': 1437, 'image_rotation': -0.011, 'recognition_completed_on': 1687087263413, 'receipts': [{'merchant_name': 'Del.Kochschinken', 'merchant_address': None, 'merchant_phone': None, 'merchant_website': None, 'merchant_tax_reg_no': None, 'merchant_company_reg_no': None, 'region': None, 'mall': None, 'country': 'DE', 'receipt_no': None, 'date': None, 'time': None, 'items': [{'amount': 1.19, 'category': None, 'description': 'Bananen kg', 'flags': ' A', 'qty': None, 'remarks': None, 'tags': None, 'unitPrice': None}, {'amount': 2.99, 'category': None, 'description': 'Nektarinen', 'flags': ' A', 'qty': None, 'remarks': None, 'tags': None, 'unitPrice': None}, {'amount': 1.79, 'category': None, 'description': 'Del.Kochschinken', 'flags': ' A', 'qty': None, 'remarks': None, 'tags': None, 'unitPrice': None}, {'amount': 0.89, 'category': None, 'description': 'Apfelmus gezuckert', 'flags': ' A', 'qty': None, 'remarks': None, 'tags': None, 'unitPrice': None}, {'amount': 0.99, 'category': None, 'description': 'Junge Brechbohnen', 'flags': ' A', 'qty': None, 'remarks': None, 'tags': None, 'unitPrice': None}, {'amount': 4.05, 'category': None, 'description': 'Toilettenpapier 3lg', 'flags': ' B', 'qty': None, 'remarks': None, 'tags': None, 'unitPrice': None}, {'amount': 2.85, 'category': None, 'description': 'Küchentücher', 'flags': ' B', 'qty': None, 'remarks': None, 'tags': None, 'unitPrice': None}, {'amount': 0.65, 'category': None, 'description': 'Per.Tragetasche', 'flags': ' B', 'qty': None, 'remarks': None, 'tags': None, 'unitPrice': None}, {'amount': 1.95, 'category': None, 'description': 'Hygienespray Univer', 'flags': ' B', 'qty': None, 'remarks': None, 'tags': None, 'unitPrice': None}, {'amount': 0.75, 'category': None, 'description': 'Topfschwamm', 'flags': ' B', 'qty': None, 'remarks': None, 'tags': None, 'unitPrice': None}, {'amount': 1.89, 'category': None, 'description': 'Abfallsäcke 601 25er', 'flags': ' B', 'qty': None, 'remarks': None, 'tags': None, 'unitPrice': None}, {'amount': 1.99, 'category': None, 'description': 'Allzweckrein.Tü', 'flags': ' B', 'qty': None, 'remarks': None, 'tags': None, 'unitPrice': None}, {'amount': 9.99, 'category': None, 'description': \"Frischhalt' '0384936\", 'flags': ' B', 'qty': None, 'remarks': None, 'tags': None, 'unitPrice': None}, {'amount': 31.97, 'category': None, 'description': 'zu zahlen', 'flags': '', 'qty': None, 'remarks': None, 'tags': None, 'unitPrice': None}, {'amount': 31.97, 'category': None, 'description': 'Kreditkarte', 'flags': '', 'qty': None, 'remarks': None, 'tags': None, 'unitPrice': None}, {'amount': 7.85, 'category': None, 'description': 'A 7%0,517,34', 'flags': '', 'qty': None, 'remarks': None, 'tags': None, 'unitPrice': None}, {'amount': 24.12, 'category': None, 'description': 'B 19 %3,8520,27', 'flags': '', 'qty': None, 'remarks': None, 'tags': None, 'unitPrice': None}], 'currency': 'EUR', 'total': 31.97, 'subtotal': None, 'tax': None, 'service_charge': None, 'tip': None, 'payment_method': None, 'payment_details': None, 'credit_card_type': None, 'credit_card_number': None, 'ocr_text': \"                                     EUR\\n Bananen kg                         1,19 A\\n   0,880 kg x 1,35 EUR/kg\\n Nektarinen                         2,99 A\\n Del.Kochschinken                   1,79 A\\n Apfelmus gezuckert                 0,89 A\\n Junge Brechbohnen                  0,99 A\\n Toilettenpapier 3lg.               4,05 B\\n Küchentücher                       2,85 B\\n Per.Tragetasche                   0,65 B\\n Hygienespray Univer.               1,95 B\\n Topfschwamm                       0,75 B\\n Abfallsäcke 601 25er               1,89 B\\n Allzweckrein.Tü                    1,99 B\\n Frischhalt' '0384936              9,99 B\\n zu zahlen                        31,97\\n Kreditkarte                      31,97\\n MWST        MWST + Netto Netto = Brutto\\n A 7%        0,51       7,34       7,85\\n B 19 %      3,85      20,27      24,12\\n Summe       4,36      27,61      31,97\", 'ocr_confidence': 97.47, 'width': 1030, 'height': 1405, 'avg_char_width': 24.8183, 'avg_line_height': 45.4989, 'conf_amount': 83, 'source_locations': {'total': [[{'y': 1358, 'x': 866}, {'y': 1360, 'x': 1007}, {'y': 1412, 'x': 1006}, {'y': 1410, 'x': 865}]], 'merchant_name': [[{'y': 272, 'x': 41}, {'y': 266, 'x': 461}, {'y': 316, 'x': 462}, {'y': 322, 'x': 43}]], 'doc': [[{'y': -55, 'x': -11}, {'y': -68, 'x': 1122}, {'y': 1477, 'x': 1139}, {'y': 1490, 'x': 5}]]}}]}\n",
      "items:  [{'amount': 1.12, 'category': None, 'description': 'Bananen kg', 'flags': ' A', 'qty': None, 'remarks': None, 'tags': None, 'unitPrice': None}, {'amount': 2.99, 'category': None, 'description': 'Apfel rot, fru.-süß', 'flags': ' A', 'qty': None, 'remarks': None, 'tags': None, 'unitPrice': None}, {'amount': 1.99, 'category': None, 'description': 'Mexikanisches Gemüse', 'flags': ' A', 'qty': None, 'remarks': None, 'tags': None, 'unitPrice': None}, {'amount': 1.99, 'category': None, 'description': 'Feinschmeckergemüse', 'flags': ' A', 'qty': None, 'remarks': None, 'tags': None, 'unitPrice': None}, {'amount': 2.49, 'category': None, 'description': 'Knuspermüsli + Schoko', 'flags': ' A', 'qty': None, 'remarks': None, 'tags': None, 'unitPrice': None}, {'amount': 0.89, 'category': None, 'description': 'Apfelmus gezuckert', 'flags': ' A', 'qty': None, 'remarks': None, 'tags': None, 'unitPrice': None}, {'amount': 0.75, 'category': None, 'description': 'Traube-Nuß Sch. 100g', 'flags': ' A', 'qty': None, 'remarks': None, 'tags': None, 'unitPrice': None}, {'amount': 12.22, 'category': None, 'description': 'zu zahlen', 'flags': '', 'qty': None, 'remarks': None, 'tags': None, 'unitPrice': None}, {'amount': 12.22, 'category': None, 'description': 'Kreditkarte', 'flags': '', 'qty': None, 'remarks': None, 'tags': None, 'unitPrice': None}, {'amount': 12.22, 'category': None, 'description': 'A 7%0,8011,42', 'flags': '', 'qty': None, 'remarks': None, 'tags': None, 'unitPrice': None}]\n",
      "total:  [27.18, 31.97]\n",
      "[{'amount': 1.36, 'category': None, 'description': 'Bananen kg', 'flags': ' A', 'qty': None, 'remarks': None, 'tags': None, 'unitPrice': None, 'merchant_name': 'Zwiebeln gelb', 'country': 'DE', 'date': '-'}, {'amount': 2.99, 'category': None, 'description': 'Zwiebeln gelb', 'flags': ' A', 'qty': None, 'remarks': None, 'tags': None, 'unitPrice': None, 'merchant_name': 'Zwiebeln gelb', 'country': 'DE', 'date': '-'}, {'amount': 1.39, 'category': None, 'description': 'Mango Stk', 'flags': ' A', 'qty': None, 'remarks': None, 'tags': None, 'unitPrice': None, 'merchant_name': 'Zwiebeln gelb', 'country': 'DE', 'date': '-'}, {'amount': 1.99, 'category': None, 'description': 'Pfirsiche', 'flags': ' A', 'qty': None, 'remarks': None, 'tags': None, 'unitPrice': None, 'merchant_name': 'Zwiebeln gelb', 'country': 'DE', 'date': '-'}, {'amount': 1.99, 'category': None, 'description': 'Asiatisches Gemüse', 'flags': ' A', 'qty': None, 'remarks': None, 'tags': None, 'unitPrice': None, 'merchant_name': 'Zwiebeln gelb', 'country': 'DE', 'date': '-'}, {'amount': 1.59, 'category': None, 'description': 'Bioland Type 630', 'flags': ' A', 'qty': None, 'remarks': None, 'tags': None, 'unitPrice': None, 'merchant_name': 'Zwiebeln gelb', 'country': 'DE', 'date': '-'}, {'amount': 0.95, 'category': None, 'description': 'H-Milch 1,5% OGT', 'flags': ' A', 'qty': None, 'remarks': None, 'tags': None, 'unitPrice': None, 'merchant_name': 'Zwiebeln gelb', 'country': 'DE', 'date': '-'}, {'amount': 1.99, 'category': None, 'description': 'Fr.Eier.a.Bo.ha OKT', 'flags': ' A', 'qty': None, 'remarks': None, 'tags': None, 'unitPrice': None, 'merchant_name': 'Zwiebeln gelb', 'country': 'DE', 'date': '-'}, {'amount': 1.09, 'category': None, 'description': 'Chilisalz', 'flags': ' A', 'qty': None, 'remarks': None, 'tags': None, 'unitPrice': None, 'merchant_name': 'Zwiebeln gelb', 'country': 'DE', 'date': '-'}, {'amount': 0.79, 'category': None, 'description': 'Fusilli', 'flags': ' A', 'qty': None, 'remarks': None, 'tags': None, 'unitPrice': None, 'merchant_name': 'Zwiebeln gelb', 'country': 'DE', 'date': '-'}, {'amount': 0.89, 'category': None, 'description': 'Apfelmus gezuckert', 'flags': ' A', 'qty': None, 'remarks': None, 'tags': None, 'unitPrice': None, 'merchant_name': 'Zwiebeln gelb', 'country': 'DE', 'date': '-'}, {'amount': 1.99, 'category': None, 'description': 'Mehrfrucht-Karotten', 'flags': ' B', 'qty': None, 'remarks': None, 'tags': None, 'unitPrice': None, 'merchant_name': 'Zwiebeln gelb', 'country': 'DE', 'date': '-'}, {'amount': 2.19, 'category': None, 'description': 'Cranberries Sult.Mix', 'flags': ' A', 'qty': None, 'remarks': None, 'tags': None, 'unitPrice': None, 'merchant_name': 'Zwiebeln gelb', 'country': 'DE', 'date': '-'}, {'amount': 1.99, 'category': None, 'description': 'Meisterbrot', 'flags': ' A', 'qty': None, 'remarks': None, 'tags': None, 'unitPrice': None, 'merchant_name': 'Zwiebeln gelb', 'country': 'DE', 'date': '-'}, {'amount': 3.99, 'category': None, 'description': 'Hähnchen-Geschn', 'flags': ' A', 'qty': None, 'remarks': None, 'tags': None, 'unitPrice': None, 'merchant_name': 'Zwiebeln gelb', 'country': 'DE', 'date': '-'}, {'amount': 1.19, 'category': None, 'description': 'Bananen kg', 'flags': ' A', 'qty': None, 'remarks': None, 'tags': None, 'unitPrice': None, 'merchant_name': 'Del.Kochschinken', 'country': 'DE', 'date': '-'}, {'amount': 2.99, 'category': None, 'description': 'Nektarinen', 'flags': ' A', 'qty': None, 'remarks': None, 'tags': None, 'unitPrice': None, 'merchant_name': 'Del.Kochschinken', 'country': 'DE', 'date': '-'}, {'amount': 1.79, 'category': None, 'description': 'Del.Kochschinken', 'flags': ' A', 'qty': None, 'remarks': None, 'tags': None, 'unitPrice': None, 'merchant_name': 'Del.Kochschinken', 'country': 'DE', 'date': '-'}, {'amount': 0.89, 'category': None, 'description': 'Apfelmus gezuckert', 'flags': ' A', 'qty': None, 'remarks': None, 'tags': None, 'unitPrice': None, 'merchant_name': 'Del.Kochschinken', 'country': 'DE', 'date': '-'}, {'amount': 0.99, 'category': None, 'description': 'Junge Brechbohnen', 'flags': ' A', 'qty': None, 'remarks': None, 'tags': None, 'unitPrice': None, 'merchant_name': 'Del.Kochschinken', 'country': 'DE', 'date': '-'}, {'amount': 4.05, 'category': None, 'description': 'Toilettenpapier 3lg', 'flags': ' B', 'qty': None, 'remarks': None, 'tags': None, 'unitPrice': None, 'merchant_name': 'Del.Kochschinken', 'country': 'DE', 'date': '-'}, {'amount': 2.85, 'category': None, 'description': 'Küchentücher', 'flags': ' B', 'qty': None, 'remarks': None, 'tags': None, 'unitPrice': None, 'merchant_name': 'Del.Kochschinken', 'country': 'DE', 'date': '-'}, {'amount': 0.65, 'category': None, 'description': 'Per.Tragetasche', 'flags': ' B', 'qty': None, 'remarks': None, 'tags': None, 'unitPrice': None, 'merchant_name': 'Del.Kochschinken', 'country': 'DE', 'date': '-'}, {'amount': 1.95, 'category': None, 'description': 'Hygienespray Univer', 'flags': ' B', 'qty': None, 'remarks': None, 'tags': None, 'unitPrice': None, 'merchant_name': 'Del.Kochschinken', 'country': 'DE', 'date': '-'}, {'amount': 0.75, 'category': None, 'description': 'Topfschwamm', 'flags': ' B', 'qty': None, 'remarks': None, 'tags': None, 'unitPrice': None, 'merchant_name': 'Del.Kochschinken', 'country': 'DE', 'date': '-'}, {'amount': 1.89, 'category': None, 'description': 'Abfallsäcke 601 25er', 'flags': ' B', 'qty': None, 'remarks': None, 'tags': None, 'unitPrice': None, 'merchant_name': 'Del.Kochschinken', 'country': 'DE', 'date': '-'}, {'amount': 1.99, 'category': None, 'description': 'Allzweckrein.Tü', 'flags': ' B', 'qty': None, 'remarks': None, 'tags': None, 'unitPrice': None, 'merchant_name': 'Del.Kochschinken', 'country': 'DE', 'date': '-'}, {'amount': 9.99, 'category': None, 'description': \"Frischhalt' '0384936\", 'flags': ' B', 'qty': None, 'remarks': None, 'tags': None, 'unitPrice': None, 'merchant_name': 'Del.Kochschinken', 'country': 'DE', 'date': '-'}]\n",
      "{'ocr_type': 'receipts', 'request_id': 'P_92.184.97.11_lj1c75aw_jf5', 'ref_no': 'ocr_python_123', 'file_name': '3.jpg', 'request_received_on': 1687087265433, 'success': True, 'image_width': 1255, 'image_height': 1650, 'image_rotation': 0, 'recognition_completed_on': 1687087266242, 'receipts': [{'merchant_name': 'TomateStrau. kg', 'merchant_address': None, 'merchant_phone': None, 'merchant_website': None, 'merchant_tax_reg_no': None, 'merchant_company_reg_no': None, 'region': None, 'mall': None, 'country': 'DE', 'receipt_no': None, 'date': None, 'time': None, 'items': [{'amount': 1.01, 'category': None, 'description': 'TomateStrau. kg', 'flags': ' A', 'qty': None, 'remarks': None, 'tags': None, 'unitPrice': None}, {'amount': 0.95, 'category': None, 'description': 'Eisbergsalat', 'flags': ' A', 'qty': None, 'remarks': None, 'tags': None, 'unitPrice': None}, {'amount': 1.99, 'category': None, 'description': 'Asiatisches Gemüse', 'flags': ' A', 'qty': None, 'remarks': None, 'tags': None, 'unitPrice': None}, {'amount': 0.99, 'category': None, 'description': 'Mozzarella', 'flags': ' A', 'qty': None, 'remarks': None, 'tags': None, 'unitPrice': None}, {'amount': 1.05, 'category': None, 'description': 'H-Milch 1,5% OGT', 'flags': ' A', 'qty': None, 'remarks': None, 'tags': None, 'unitPrice': None}, {'amount': 0.89, 'category': None, 'description': 'Spaghetti XXL', 'flags': ' A', 'qty': None, 'remarks': None, 'tags': None, 'unitPrice': None}, {'amount': 2.29, 'category': None, 'description': 'Bio Eier', 'flags': ' A', 'qty': None, 'remarks': None, 'tags': None, 'unitPrice': None}, {'amount': 3.19, 'category': None, 'description': 'Lebensmittel', 'flags': ' A', 'qty': None, 'remarks': None, 'tags': None, 'unitPrice': None}, {'amount': 1.99, 'category': None, 'description': 'Mehrfrucht-Karotten', 'flags': ' B', 'qty': None, 'remarks': None, 'tags': None, 'unitPrice': None}, {'amount': 2.39, 'category': None, 'description': 'Cashewkerne 200g', 'flags': ' A', 'qty': None, 'remarks': None, 'tags': None, 'unitPrice': None}, {'amount': 2.19, 'category': None, 'description': 'Cranberries getrock', 'flags': ' A', 'qty': None, 'remarks': None, 'tags': None, 'unitPrice': None}, {'amount': 3.99, 'category': None, 'description': 'Hähnchen-Geschn', 'flags': ' A', 'qty': None, 'remarks': None, 'tags': None, 'unitPrice': None}, {'amount': 4.89, 'category': None, 'description': 'Rinderhack 500g', 'flags': ' A', 'qty': None, 'remarks': None, 'tags': None, 'unitPrice': None}, {'amount': 27.81, 'category': None, 'description': 'zu zahlen', 'flags': '', 'qty': None, 'remarks': None, 'tags': None, 'unitPrice': None}, {'amount': 27.81, 'category': None, 'description': 'Kreditkarte', 'flags': '', 'qty': None, 'remarks': None, 'tags': None, 'unitPrice': None}, {'amount': 25.82, 'category': None, 'description': 'A 7%1,6924,13', 'flags': '', 'qty': None, 'remarks': None, 'tags': None, 'unitPrice': None}, {'amount': 1.99, 'category': None, 'description': 'B 19 %0,321,67', 'flags': '', 'qty': None, 'remarks': None, 'tags': None, 'unitPrice': None}], 'currency': 'EUR', 'total': 27.81, 'subtotal': None, 'tax': None, 'service_charge': None, 'tip': None, 'payment_method': None, 'payment_details': None, 'credit_card_type': None, 'credit_card_number': None, 'ocr_text': '                                    EUR\\n TomateStrau. kg                   1,01 A\\n  0,650 kg x 1,55 EUR/kg\\n Eisbergsalat                      0,95 A\\n Asiatisches Gemüse                1,99 A\\n Mozzarella                        0,99 A\\n H-Milch 1,5% OGT                  1,05 A\\n Spaghetti XXL                     0,89 A\\n Bio Eier                          2,29 A\\n Lebensmittel                      3,19 A\\n Mehrfrucht-Karotten               1,99 B\\n Cashewkerne 200g                  2,39 A\\n Cranberries getrock.              2,19 A\\n Hähnchen-Geschn.                  3,99 A\\n Rinderhack 500g                   4,89 A\\n zu zahlen                        27,81\\n Kreditkarte                      27,81\\n MWST%       MWST + Netto = Brutto\\n A 7%         1,69     24,13      25,82\\n B 19 %      0,32       1,67       1,99\\n Summe       2,01      25,80      27,81', 'ocr_confidence': 97.96, 'width': 1143, 'height': 1574, 'avg_char_width': 27.6603, 'avg_line_height': 51.2127, 'conf_amount': 83, 'source_locations': {'total': [[{'y': 1544, 'x': 984}, {'y': 1545, 'x': 1132}, {'y': 1605, 'x': 1132}, {'y': 1604, 'x': 984}]], 'merchant_name': [[{'y': 77, 'x': 38}, {'y': 83, 'x': 501}, {'y': 143, 'x': 500}, {'y': 137, 'x': 37}]], 'doc': [[{'y': -49, 'x': 0}, {'y': -49, 'x': 1257}, {'y': 1681, 'x': 1257}, {'y': 1681, 'x': 0}]]}}]}\n",
      "items:  [{'amount': 1.12, 'category': None, 'description': 'Bananen kg', 'flags': ' A', 'qty': None, 'remarks': None, 'tags': None, 'unitPrice': None}, {'amount': 2.99, 'category': None, 'description': 'Apfel rot, fru.-süß', 'flags': ' A', 'qty': None, 'remarks': None, 'tags': None, 'unitPrice': None}, {'amount': 1.99, 'category': None, 'description': 'Mexikanisches Gemüse', 'flags': ' A', 'qty': None, 'remarks': None, 'tags': None, 'unitPrice': None}, {'amount': 1.99, 'category': None, 'description': 'Feinschmeckergemüse', 'flags': ' A', 'qty': None, 'remarks': None, 'tags': None, 'unitPrice': None}, {'amount': 2.49, 'category': None, 'description': 'Knuspermüsli + Schoko', 'flags': ' A', 'qty': None, 'remarks': None, 'tags': None, 'unitPrice': None}, {'amount': 0.89, 'category': None, 'description': 'Apfelmus gezuckert', 'flags': ' A', 'qty': None, 'remarks': None, 'tags': None, 'unitPrice': None}, {'amount': 0.75, 'category': None, 'description': 'Traube-Nuß Sch. 100g', 'flags': ' A', 'qty': None, 'remarks': None, 'tags': None, 'unitPrice': None}, {'amount': 12.22, 'category': None, 'description': 'zu zahlen', 'flags': '', 'qty': None, 'remarks': None, 'tags': None, 'unitPrice': None}, {'amount': 12.22, 'category': None, 'description': 'Kreditkarte', 'flags': '', 'qty': None, 'remarks': None, 'tags': None, 'unitPrice': None}, {'amount': 12.22, 'category': None, 'description': 'A 7%0,8011,42', 'flags': '', 'qty': None, 'remarks': None, 'tags': None, 'unitPrice': None}]\n",
      "total:  [27.18, 31.97, 27.81]\n",
      "[{'amount': 1.36, 'category': None, 'description': 'Bananen kg', 'flags': ' A', 'qty': None, 'remarks': None, 'tags': None, 'unitPrice': None, 'merchant_name': 'Zwiebeln gelb', 'country': 'DE', 'date': '-'}, {'amount': 2.99, 'category': None, 'description': 'Zwiebeln gelb', 'flags': ' A', 'qty': None, 'remarks': None, 'tags': None, 'unitPrice': None, 'merchant_name': 'Zwiebeln gelb', 'country': 'DE', 'date': '-'}, {'amount': 1.39, 'category': None, 'description': 'Mango Stk', 'flags': ' A', 'qty': None, 'remarks': None, 'tags': None, 'unitPrice': None, 'merchant_name': 'Zwiebeln gelb', 'country': 'DE', 'date': '-'}, {'amount': 1.99, 'category': None, 'description': 'Pfirsiche', 'flags': ' A', 'qty': None, 'remarks': None, 'tags': None, 'unitPrice': None, 'merchant_name': 'Zwiebeln gelb', 'country': 'DE', 'date': '-'}, {'amount': 1.99, 'category': None, 'description': 'Asiatisches Gemüse', 'flags': ' A', 'qty': None, 'remarks': None, 'tags': None, 'unitPrice': None, 'merchant_name': 'Zwiebeln gelb', 'country': 'DE', 'date': '-'}, {'amount': 1.59, 'category': None, 'description': 'Bioland Type 630', 'flags': ' A', 'qty': None, 'remarks': None, 'tags': None, 'unitPrice': None, 'merchant_name': 'Zwiebeln gelb', 'country': 'DE', 'date': '-'}, {'amount': 0.95, 'category': None, 'description': 'H-Milch 1,5% OGT', 'flags': ' A', 'qty': None, 'remarks': None, 'tags': None, 'unitPrice': None, 'merchant_name': 'Zwiebeln gelb', 'country': 'DE', 'date': '-'}, {'amount': 1.99, 'category': None, 'description': 'Fr.Eier.a.Bo.ha OKT', 'flags': ' A', 'qty': None, 'remarks': None, 'tags': None, 'unitPrice': None, 'merchant_name': 'Zwiebeln gelb', 'country': 'DE', 'date': '-'}, {'amount': 1.09, 'category': None, 'description': 'Chilisalz', 'flags': ' A', 'qty': None, 'remarks': None, 'tags': None, 'unitPrice': None, 'merchant_name': 'Zwiebeln gelb', 'country': 'DE', 'date': '-'}, {'amount': 0.79, 'category': None, 'description': 'Fusilli', 'flags': ' A', 'qty': None, 'remarks': None, 'tags': None, 'unitPrice': None, 'merchant_name': 'Zwiebeln gelb', 'country': 'DE', 'date': '-'}, {'amount': 0.89, 'category': None, 'description': 'Apfelmus gezuckert', 'flags': ' A', 'qty': None, 'remarks': None, 'tags': None, 'unitPrice': None, 'merchant_name': 'Zwiebeln gelb', 'country': 'DE', 'date': '-'}, {'amount': 1.99, 'category': None, 'description': 'Mehrfrucht-Karotten', 'flags': ' B', 'qty': None, 'remarks': None, 'tags': None, 'unitPrice': None, 'merchant_name': 'Zwiebeln gelb', 'country': 'DE', 'date': '-'}, {'amount': 2.19, 'category': None, 'description': 'Cranberries Sult.Mix', 'flags': ' A', 'qty': None, 'remarks': None, 'tags': None, 'unitPrice': None, 'merchant_name': 'Zwiebeln gelb', 'country': 'DE', 'date': '-'}, {'amount': 1.99, 'category': None, 'description': 'Meisterbrot', 'flags': ' A', 'qty': None, 'remarks': None, 'tags': None, 'unitPrice': None, 'merchant_name': 'Zwiebeln gelb', 'country': 'DE', 'date': '-'}, {'amount': 3.99, 'category': None, 'description': 'Hähnchen-Geschn', 'flags': ' A', 'qty': None, 'remarks': None, 'tags': None, 'unitPrice': None, 'merchant_name': 'Zwiebeln gelb', 'country': 'DE', 'date': '-'}, {'amount': 1.19, 'category': None, 'description': 'Bananen kg', 'flags': ' A', 'qty': None, 'remarks': None, 'tags': None, 'unitPrice': None, 'merchant_name': 'Del.Kochschinken', 'country': 'DE', 'date': '-'}, {'amount': 2.99, 'category': None, 'description': 'Nektarinen', 'flags': ' A', 'qty': None, 'remarks': None, 'tags': None, 'unitPrice': None, 'merchant_name': 'Del.Kochschinken', 'country': 'DE', 'date': '-'}, {'amount': 1.79, 'category': None, 'description': 'Del.Kochschinken', 'flags': ' A', 'qty': None, 'remarks': None, 'tags': None, 'unitPrice': None, 'merchant_name': 'Del.Kochschinken', 'country': 'DE', 'date': '-'}, {'amount': 0.89, 'category': None, 'description': 'Apfelmus gezuckert', 'flags': ' A', 'qty': None, 'remarks': None, 'tags': None, 'unitPrice': None, 'merchant_name': 'Del.Kochschinken', 'country': 'DE', 'date': '-'}, {'amount': 0.99, 'category': None, 'description': 'Junge Brechbohnen', 'flags': ' A', 'qty': None, 'remarks': None, 'tags': None, 'unitPrice': None, 'merchant_name': 'Del.Kochschinken', 'country': 'DE', 'date': '-'}, {'amount': 4.05, 'category': None, 'description': 'Toilettenpapier 3lg', 'flags': ' B', 'qty': None, 'remarks': None, 'tags': None, 'unitPrice': None, 'merchant_name': 'Del.Kochschinken', 'country': 'DE', 'date': '-'}, {'amount': 2.85, 'category': None, 'description': 'Küchentücher', 'flags': ' B', 'qty': None, 'remarks': None, 'tags': None, 'unitPrice': None, 'merchant_name': 'Del.Kochschinken', 'country': 'DE', 'date': '-'}, {'amount': 0.65, 'category': None, 'description': 'Per.Tragetasche', 'flags': ' B', 'qty': None, 'remarks': None, 'tags': None, 'unitPrice': None, 'merchant_name': 'Del.Kochschinken', 'country': 'DE', 'date': '-'}, {'amount': 1.95, 'category': None, 'description': 'Hygienespray Univer', 'flags': ' B', 'qty': None, 'remarks': None, 'tags': None, 'unitPrice': None, 'merchant_name': 'Del.Kochschinken', 'country': 'DE', 'date': '-'}, {'amount': 0.75, 'category': None, 'description': 'Topfschwamm', 'flags': ' B', 'qty': None, 'remarks': None, 'tags': None, 'unitPrice': None, 'merchant_name': 'Del.Kochschinken', 'country': 'DE', 'date': '-'}, {'amount': 1.89, 'category': None, 'description': 'Abfallsäcke 601 25er', 'flags': ' B', 'qty': None, 'remarks': None, 'tags': None, 'unitPrice': None, 'merchant_name': 'Del.Kochschinken', 'country': 'DE', 'date': '-'}, {'amount': 1.99, 'category': None, 'description': 'Allzweckrein.Tü', 'flags': ' B', 'qty': None, 'remarks': None, 'tags': None, 'unitPrice': None, 'merchant_name': 'Del.Kochschinken', 'country': 'DE', 'date': '-'}, {'amount': 9.99, 'category': None, 'description': \"Frischhalt' '0384936\", 'flags': ' B', 'qty': None, 'remarks': None, 'tags': None, 'unitPrice': None, 'merchant_name': 'Del.Kochschinken', 'country': 'DE', 'date': '-'}, {'amount': 1.01, 'category': None, 'description': 'TomateStrau. kg', 'flags': ' A', 'qty': None, 'remarks': None, 'tags': None, 'unitPrice': None, 'merchant_name': 'TomateStrau. kg', 'country': 'DE', 'date': '-'}, {'amount': 0.95, 'category': None, 'description': 'Eisbergsalat', 'flags': ' A', 'qty': None, 'remarks': None, 'tags': None, 'unitPrice': None, 'merchant_name': 'TomateStrau. kg', 'country': 'DE', 'date': '-'}, {'amount': 1.99, 'category': None, 'description': 'Asiatisches Gemüse', 'flags': ' A', 'qty': None, 'remarks': None, 'tags': None, 'unitPrice': None, 'merchant_name': 'TomateStrau. kg', 'country': 'DE', 'date': '-'}, {'amount': 0.99, 'category': None, 'description': 'Mozzarella', 'flags': ' A', 'qty': None, 'remarks': None, 'tags': None, 'unitPrice': None, 'merchant_name': 'TomateStrau. kg', 'country': 'DE', 'date': '-'}, {'amount': 1.05, 'category': None, 'description': 'H-Milch 1,5% OGT', 'flags': ' A', 'qty': None, 'remarks': None, 'tags': None, 'unitPrice': None, 'merchant_name': 'TomateStrau. kg', 'country': 'DE', 'date': '-'}, {'amount': 0.89, 'category': None, 'description': 'Spaghetti XXL', 'flags': ' A', 'qty': None, 'remarks': None, 'tags': None, 'unitPrice': None, 'merchant_name': 'TomateStrau. kg', 'country': 'DE', 'date': '-'}, {'amount': 2.29, 'category': None, 'description': 'Bio Eier', 'flags': ' A', 'qty': None, 'remarks': None, 'tags': None, 'unitPrice': None, 'merchant_name': 'TomateStrau. kg', 'country': 'DE', 'date': '-'}, {'amount': 3.19, 'category': None, 'description': 'Lebensmittel', 'flags': ' A', 'qty': None, 'remarks': None, 'tags': None, 'unitPrice': None, 'merchant_name': 'TomateStrau. kg', 'country': 'DE', 'date': '-'}, {'amount': 1.99, 'category': None, 'description': 'Mehrfrucht-Karotten', 'flags': ' B', 'qty': None, 'remarks': None, 'tags': None, 'unitPrice': None, 'merchant_name': 'TomateStrau. kg', 'country': 'DE', 'date': '-'}, {'amount': 2.39, 'category': None, 'description': 'Cashewkerne 200g', 'flags': ' A', 'qty': None, 'remarks': None, 'tags': None, 'unitPrice': None, 'merchant_name': 'TomateStrau. kg', 'country': 'DE', 'date': '-'}, {'amount': 2.19, 'category': None, 'description': 'Cranberries getrock', 'flags': ' A', 'qty': None, 'remarks': None, 'tags': None, 'unitPrice': None, 'merchant_name': 'TomateStrau. kg', 'country': 'DE', 'date': '-'}, {'amount': 3.99, 'category': None, 'description': 'Hähnchen-Geschn', 'flags': ' A', 'qty': None, 'remarks': None, 'tags': None, 'unitPrice': None, 'merchant_name': 'TomateStrau. kg', 'country': 'DE', 'date': '-'}, {'amount': 4.89, 'category': None, 'description': 'Rinderhack 500g', 'flags': ' A', 'qty': None, 'remarks': None, 'tags': None, 'unitPrice': None, 'merchant_name': 'TomateStrau. kg', 'country': 'DE', 'date': '-'}]\n",
      "{'ocr_type': 'receipts', 'request_id': 'P_92.184.97.11_lj1c77ku_ktd', 'ref_no': 'ocr_python_123', 'file_name': '4.jpg', 'request_received_on': 1687087268383, 'success': True, 'image_width': 965, 'image_height': 1650, 'image_rotation': 0, 'recognition_completed_on': 1687087269309, 'receipts': [{'merchant_name': 'TomateStrau. kg', 'merchant_address': None, 'merchant_phone': None, 'merchant_website': None, 'merchant_tax_reg_no': None, 'merchant_company_reg_no': None, 'region': None, 'mall': None, 'country': 'DE', 'receipt_no': None, 'date': None, 'time': None, 'items': [{'amount': 1.83, 'category': None, 'description': 'TomateStrau. kg', 'flags': ' A', 'qty': None, 'remarks': None, 'tags': None, 'unitPrice': None}, {'amount': 1.99, 'category': None, 'description': 'Feinschmeckergemüse', 'flags': ' A', 'qty': None, 'remarks': None, 'tags': None, 'unitPrice': None}, {'amount': 1.99, 'category': None, 'description': 'Mexikanisches Gemüse', 'flags': ' A', 'qty': None, 'remarks': None, 'tags': None, 'unitPrice': None}, {'amount': 3.49, 'category': None, 'description': 'Nasi Goreng', 'flags': ' A', 'qty': None, 'remarks': None, 'tags': None, 'unitPrice': None}, {'amount': 1.98, 'category': None, 'description': 'Mozzarella light0,99 x 2', 'flags': ' A', 'qty': None, 'remarks': None, 'tags': None, 'unitPrice': None}, {'amount': 2.99, 'category': None, 'description': 'Gouda Scheiben', 'flags': ' A', 'qty': None, 'remarks': None, 'tags': None, 'unitPrice': None}, {'amount': 4.99, 'category': None, 'description': 'Olivenöl Extra', 'flags': ' A', 'qty': None, 'remarks': None, 'tags': None, 'unitPrice': None}, {'amount': 0.95, 'category': None, 'description': 'Bio Haferflocken', 'flags': ' A', 'qty': None, 'remarks': None, 'tags': None, 'unitPrice': None}, {'amount': 1.39, 'category': None, 'description': 'Erdbeer-Konfitüre', 'flags': ' A', 'qty': None, 'remarks': None, 'tags': None, 'unitPrice': None}, {'amount': 1.19, 'category': None, 'description': 'Maccronelli', 'flags': ' A', 'qty': None, 'remarks': None, 'tags': None, 'unitPrice': None}, {'amount': 2.99, 'category': None, 'description': 'Basmati Reis', 'flags': ' A', 'qty': None, 'remarks': None, 'tags': None, 'unitPrice': None}, {'amount': 1.05, 'category': None, 'description': 'H-Milch 1,5% OGT', 'flags': ' A', 'qty': None, 'remarks': None, 'tags': None, 'unitPrice': None}, {'amount': 0.85, 'category': None, 'description': 'Gehackte Tomaten', 'flags': ' A', 'qty': None, 'remarks': None, 'tags': None, 'unitPrice': None}, {'amount': 0.89, 'category': None, 'description': 'Apfelmus gezuckert', 'flags': ' A', 'qty': None, 'remarks': None, 'tags': None, 'unitPrice': None}, {'amount': 2.49, 'category': None, 'description': 'FUEGO Tortillas Clas', 'flags': ' A', 'qty': None, 'remarks': None, 'tags': None, 'unitPrice': None}, {'amount': 0.75, 'category': None, 'description': 'Traube-Nuß Sch. 100g', 'flags': ' A', 'qty': None, 'remarks': None, 'tags': None, 'unitPrice': None}, {'amount': 5.49, 'category': None, 'description': 'Snackmandeln XXL', 'flags': ' A', 'qty': None, 'remarks': None, 'tags': None, 'unitPrice': None}, {'amount': 1.15, 'category': None, 'description': 'Schwammtuch 5er', 'flags': ' B', 'qty': None, 'remarks': None, 'tags': None, 'unitPrice': None}, {'amount': 1.35, 'category': None, 'description': 'Frischhaltefolie', 'flags': ' B', 'qty': None, 'remarks': None, 'tags': None, 'unitPrice': None}, {'amount': 1.95, 'category': None, 'description': 'Gefrierbeutel 11', 'flags': ' B', 'qty': None, 'remarks': None, 'tags': None, 'unitPrice': None}, {'amount': 41.75, 'category': None, 'description': 'zu zahlen', 'flags': '', 'qty': None, 'remarks': None, 'tags': None, 'unitPrice': None}, {'amount': 41.75, 'category': None, 'description': 'Kreditkarte', 'flags': '', 'qty': None, 'remarks': None, 'tags': None, 'unitPrice': None}, {'amount': 37.3, 'category': None, 'description': 'A 7%2,4434,86', 'flags': '', 'qty': None, 'remarks': None, 'tags': None, 'unitPrice': None}, {'amount': 4.45, 'category': None, 'description': 'B 19 %0,713,74', 'flags': '', 'qty': None, 'remarks': None, 'tags': None, 'unitPrice': None}], 'currency': 'EUR', 'total': 41.75, 'subtotal': None, 'tax': None, 'service_charge': None, 'tip': None, 'payment_method': None, 'payment_details': None, 'credit_card_type': None, 'credit_card_number': None, 'ocr_text': '                                    EUR\\n TomateStrau. kg                   1,83 A\\n  1,416 kg x 1,29 EUR/kg\\n Feinschmeckergemüse               1,99 A\\n Mexikanisches Gemüse              1,99 A\\n Nasi Goreng                       3,49 A\\n Mozzarella light     0,99 x 2      1,98 A\\n Gouda Scheiben                    2,99 A\\n Olivenöl Extra                    4,99 A\\n Bio Haferflocken                   0,95 A\\n Erdbeer-Konfitüre                  1,39 A\\n Maccronelli                        1,19 A\\n Basmati Reis                       2,99 A\\n H-Milch 1,5% OGT                   1,05 A\\n Gehackte Tomaten                   0,85 A\\n Apfelmus gezuckert                 0,89 A\\n FUEGO Tortillas Clas               2,49 A\\n Traube-Nuß Sch. 100g               0,75 A\\n Snackmandeln XXL                   5,49 A\\n Schwammtuch 5er                    1,15 B\\n Frischhaltefolie                   1,35 B\\n Gefrierbeutel 11                   1,95 B\\n zu zahlen                         41,75\\n Kreditkarte                       41,75\\n  MWSTX       MWST + Netto = Brutto\\n A 7%         2,44      34,86      37,30\\n B 19 %       0,71       3,74       4,45\\n Summe        3,15      38.60      41,75', 'ocr_confidence': 97.5, 'width': 906, 'height': 1593, 'avg_char_width': 21.3192, 'avg_line_height': 39.9989, 'conf_amount': 83, 'source_locations': {'total': [[{'y': 1555, 'x': 782}, {'y': 1554, 'x': 898}, {'y': 1591, 'x': 898}, {'y': 1591, 'x': 783}]], 'merchant_name': [[{'y': 50, 'x': 23}, {'y': 41, 'x': 372}, {'y': 86, 'x': 373}, {'y': 96, 'x': 24}]], 'doc': [[{'y': -72, 'x': -6}, {'y': -72, 'x': 991}, {'y': 1679, 'x': 991}, {'y': 1679, 'x': -6}]]}}]}\n",
      "items:  [{'amount': 1.12, 'category': None, 'description': 'Bananen kg', 'flags': ' A', 'qty': None, 'remarks': None, 'tags': None, 'unitPrice': None}, {'amount': 2.99, 'category': None, 'description': 'Apfel rot, fru.-süß', 'flags': ' A', 'qty': None, 'remarks': None, 'tags': None, 'unitPrice': None}, {'amount': 1.99, 'category': None, 'description': 'Mexikanisches Gemüse', 'flags': ' A', 'qty': None, 'remarks': None, 'tags': None, 'unitPrice': None}, {'amount': 1.99, 'category': None, 'description': 'Feinschmeckergemüse', 'flags': ' A', 'qty': None, 'remarks': None, 'tags': None, 'unitPrice': None}, {'amount': 2.49, 'category': None, 'description': 'Knuspermüsli + Schoko', 'flags': ' A', 'qty': None, 'remarks': None, 'tags': None, 'unitPrice': None}, {'amount': 0.89, 'category': None, 'description': 'Apfelmus gezuckert', 'flags': ' A', 'qty': None, 'remarks': None, 'tags': None, 'unitPrice': None}, {'amount': 0.75, 'category': None, 'description': 'Traube-Nuß Sch. 100g', 'flags': ' A', 'qty': None, 'remarks': None, 'tags': None, 'unitPrice': None}, {'amount': 12.22, 'category': None, 'description': 'zu zahlen', 'flags': '', 'qty': None, 'remarks': None, 'tags': None, 'unitPrice': None}, {'amount': 12.22, 'category': None, 'description': 'Kreditkarte', 'flags': '', 'qty': None, 'remarks': None, 'tags': None, 'unitPrice': None}, {'amount': 12.22, 'category': None, 'description': 'A 7%0,8011,42', 'flags': '', 'qty': None, 'remarks': None, 'tags': None, 'unitPrice': None}]\n",
      "total:  [27.18, 31.97, 27.81, 41.75]\n",
      "[{'amount': 1.36, 'category': None, 'description': 'Bananen kg', 'flags': ' A', 'qty': None, 'remarks': None, 'tags': None, 'unitPrice': None, 'merchant_name': 'Zwiebeln gelb', 'country': 'DE', 'date': '-'}, {'amount': 2.99, 'category': None, 'description': 'Zwiebeln gelb', 'flags': ' A', 'qty': None, 'remarks': None, 'tags': None, 'unitPrice': None, 'merchant_name': 'Zwiebeln gelb', 'country': 'DE', 'date': '-'}, {'amount': 1.39, 'category': None, 'description': 'Mango Stk', 'flags': ' A', 'qty': None, 'remarks': None, 'tags': None, 'unitPrice': None, 'merchant_name': 'Zwiebeln gelb', 'country': 'DE', 'date': '-'}, {'amount': 1.99, 'category': None, 'description': 'Pfirsiche', 'flags': ' A', 'qty': None, 'remarks': None, 'tags': None, 'unitPrice': None, 'merchant_name': 'Zwiebeln gelb', 'country': 'DE', 'date': '-'}, {'amount': 1.99, 'category': None, 'description': 'Asiatisches Gemüse', 'flags': ' A', 'qty': None, 'remarks': None, 'tags': None, 'unitPrice': None, 'merchant_name': 'Zwiebeln gelb', 'country': 'DE', 'date': '-'}, {'amount': 1.59, 'category': None, 'description': 'Bioland Type 630', 'flags': ' A', 'qty': None, 'remarks': None, 'tags': None, 'unitPrice': None, 'merchant_name': 'Zwiebeln gelb', 'country': 'DE', 'date': '-'}, {'amount': 0.95, 'category': None, 'description': 'H-Milch 1,5% OGT', 'flags': ' A', 'qty': None, 'remarks': None, 'tags': None, 'unitPrice': None, 'merchant_name': 'Zwiebeln gelb', 'country': 'DE', 'date': '-'}, {'amount': 1.99, 'category': None, 'description': 'Fr.Eier.a.Bo.ha OKT', 'flags': ' A', 'qty': None, 'remarks': None, 'tags': None, 'unitPrice': None, 'merchant_name': 'Zwiebeln gelb', 'country': 'DE', 'date': '-'}, {'amount': 1.09, 'category': None, 'description': 'Chilisalz', 'flags': ' A', 'qty': None, 'remarks': None, 'tags': None, 'unitPrice': None, 'merchant_name': 'Zwiebeln gelb', 'country': 'DE', 'date': '-'}, {'amount': 0.79, 'category': None, 'description': 'Fusilli', 'flags': ' A', 'qty': None, 'remarks': None, 'tags': None, 'unitPrice': None, 'merchant_name': 'Zwiebeln gelb', 'country': 'DE', 'date': '-'}, {'amount': 0.89, 'category': None, 'description': 'Apfelmus gezuckert', 'flags': ' A', 'qty': None, 'remarks': None, 'tags': None, 'unitPrice': None, 'merchant_name': 'Zwiebeln gelb', 'country': 'DE', 'date': '-'}, {'amount': 1.99, 'category': None, 'description': 'Mehrfrucht-Karotten', 'flags': ' B', 'qty': None, 'remarks': None, 'tags': None, 'unitPrice': None, 'merchant_name': 'Zwiebeln gelb', 'country': 'DE', 'date': '-'}, {'amount': 2.19, 'category': None, 'description': 'Cranberries Sult.Mix', 'flags': ' A', 'qty': None, 'remarks': None, 'tags': None, 'unitPrice': None, 'merchant_name': 'Zwiebeln gelb', 'country': 'DE', 'date': '-'}, {'amount': 1.99, 'category': None, 'description': 'Meisterbrot', 'flags': ' A', 'qty': None, 'remarks': None, 'tags': None, 'unitPrice': None, 'merchant_name': 'Zwiebeln gelb', 'country': 'DE', 'date': '-'}, {'amount': 3.99, 'category': None, 'description': 'Hähnchen-Geschn', 'flags': ' A', 'qty': None, 'remarks': None, 'tags': None, 'unitPrice': None, 'merchant_name': 'Zwiebeln gelb', 'country': 'DE', 'date': '-'}, {'amount': 1.19, 'category': None, 'description': 'Bananen kg', 'flags': ' A', 'qty': None, 'remarks': None, 'tags': None, 'unitPrice': None, 'merchant_name': 'Del.Kochschinken', 'country': 'DE', 'date': '-'}, {'amount': 2.99, 'category': None, 'description': 'Nektarinen', 'flags': ' A', 'qty': None, 'remarks': None, 'tags': None, 'unitPrice': None, 'merchant_name': 'Del.Kochschinken', 'country': 'DE', 'date': '-'}, {'amount': 1.79, 'category': None, 'description': 'Del.Kochschinken', 'flags': ' A', 'qty': None, 'remarks': None, 'tags': None, 'unitPrice': None, 'merchant_name': 'Del.Kochschinken', 'country': 'DE', 'date': '-'}, {'amount': 0.89, 'category': None, 'description': 'Apfelmus gezuckert', 'flags': ' A', 'qty': None, 'remarks': None, 'tags': None, 'unitPrice': None, 'merchant_name': 'Del.Kochschinken', 'country': 'DE', 'date': '-'}, {'amount': 0.99, 'category': None, 'description': 'Junge Brechbohnen', 'flags': ' A', 'qty': None, 'remarks': None, 'tags': None, 'unitPrice': None, 'merchant_name': 'Del.Kochschinken', 'country': 'DE', 'date': '-'}, {'amount': 4.05, 'category': None, 'description': 'Toilettenpapier 3lg', 'flags': ' B', 'qty': None, 'remarks': None, 'tags': None, 'unitPrice': None, 'merchant_name': 'Del.Kochschinken', 'country': 'DE', 'date': '-'}, {'amount': 2.85, 'category': None, 'description': 'Küchentücher', 'flags': ' B', 'qty': None, 'remarks': None, 'tags': None, 'unitPrice': None, 'merchant_name': 'Del.Kochschinken', 'country': 'DE', 'date': '-'}, {'amount': 0.65, 'category': None, 'description': 'Per.Tragetasche', 'flags': ' B', 'qty': None, 'remarks': None, 'tags': None, 'unitPrice': None, 'merchant_name': 'Del.Kochschinken', 'country': 'DE', 'date': '-'}, {'amount': 1.95, 'category': None, 'description': 'Hygienespray Univer', 'flags': ' B', 'qty': None, 'remarks': None, 'tags': None, 'unitPrice': None, 'merchant_name': 'Del.Kochschinken', 'country': 'DE', 'date': '-'}, {'amount': 0.75, 'category': None, 'description': 'Topfschwamm', 'flags': ' B', 'qty': None, 'remarks': None, 'tags': None, 'unitPrice': None, 'merchant_name': 'Del.Kochschinken', 'country': 'DE', 'date': '-'}, {'amount': 1.89, 'category': None, 'description': 'Abfallsäcke 601 25er', 'flags': ' B', 'qty': None, 'remarks': None, 'tags': None, 'unitPrice': None, 'merchant_name': 'Del.Kochschinken', 'country': 'DE', 'date': '-'}, {'amount': 1.99, 'category': None, 'description': 'Allzweckrein.Tü', 'flags': ' B', 'qty': None, 'remarks': None, 'tags': None, 'unitPrice': None, 'merchant_name': 'Del.Kochschinken', 'country': 'DE', 'date': '-'}, {'amount': 9.99, 'category': None, 'description': \"Frischhalt' '0384936\", 'flags': ' B', 'qty': None, 'remarks': None, 'tags': None, 'unitPrice': None, 'merchant_name': 'Del.Kochschinken', 'country': 'DE', 'date': '-'}, {'amount': 1.01, 'category': None, 'description': 'TomateStrau. kg', 'flags': ' A', 'qty': None, 'remarks': None, 'tags': None, 'unitPrice': None, 'merchant_name': 'TomateStrau. kg', 'country': 'DE', 'date': '-'}, {'amount': 0.95, 'category': None, 'description': 'Eisbergsalat', 'flags': ' A', 'qty': None, 'remarks': None, 'tags': None, 'unitPrice': None, 'merchant_name': 'TomateStrau. kg', 'country': 'DE', 'date': '-'}, {'amount': 1.99, 'category': None, 'description': 'Asiatisches Gemüse', 'flags': ' A', 'qty': None, 'remarks': None, 'tags': None, 'unitPrice': None, 'merchant_name': 'TomateStrau. kg', 'country': 'DE', 'date': '-'}, {'amount': 0.99, 'category': None, 'description': 'Mozzarella', 'flags': ' A', 'qty': None, 'remarks': None, 'tags': None, 'unitPrice': None, 'merchant_name': 'TomateStrau. kg', 'country': 'DE', 'date': '-'}, {'amount': 1.05, 'category': None, 'description': 'H-Milch 1,5% OGT', 'flags': ' A', 'qty': None, 'remarks': None, 'tags': None, 'unitPrice': None, 'merchant_name': 'TomateStrau. kg', 'country': 'DE', 'date': '-'}, {'amount': 0.89, 'category': None, 'description': 'Spaghetti XXL', 'flags': ' A', 'qty': None, 'remarks': None, 'tags': None, 'unitPrice': None, 'merchant_name': 'TomateStrau. kg', 'country': 'DE', 'date': '-'}, {'amount': 2.29, 'category': None, 'description': 'Bio Eier', 'flags': ' A', 'qty': None, 'remarks': None, 'tags': None, 'unitPrice': None, 'merchant_name': 'TomateStrau. kg', 'country': 'DE', 'date': '-'}, {'amount': 3.19, 'category': None, 'description': 'Lebensmittel', 'flags': ' A', 'qty': None, 'remarks': None, 'tags': None, 'unitPrice': None, 'merchant_name': 'TomateStrau. kg', 'country': 'DE', 'date': '-'}, {'amount': 1.99, 'category': None, 'description': 'Mehrfrucht-Karotten', 'flags': ' B', 'qty': None, 'remarks': None, 'tags': None, 'unitPrice': None, 'merchant_name': 'TomateStrau. kg', 'country': 'DE', 'date': '-'}, {'amount': 2.39, 'category': None, 'description': 'Cashewkerne 200g', 'flags': ' A', 'qty': None, 'remarks': None, 'tags': None, 'unitPrice': None, 'merchant_name': 'TomateStrau. kg', 'country': 'DE', 'date': '-'}, {'amount': 2.19, 'category': None, 'description': 'Cranberries getrock', 'flags': ' A', 'qty': None, 'remarks': None, 'tags': None, 'unitPrice': None, 'merchant_name': 'TomateStrau. kg', 'country': 'DE', 'date': '-'}, {'amount': 3.99, 'category': None, 'description': 'Hähnchen-Geschn', 'flags': ' A', 'qty': None, 'remarks': None, 'tags': None, 'unitPrice': None, 'merchant_name': 'TomateStrau. kg', 'country': 'DE', 'date': '-'}, {'amount': 4.89, 'category': None, 'description': 'Rinderhack 500g', 'flags': ' A', 'qty': None, 'remarks': None, 'tags': None, 'unitPrice': None, 'merchant_name': 'TomateStrau. kg', 'country': 'DE', 'date': '-'}, {'amount': 1.83, 'category': None, 'description': 'TomateStrau. kg', 'flags': ' A', 'qty': None, 'remarks': None, 'tags': None, 'unitPrice': None, 'merchant_name': 'TomateStrau. kg', 'country': 'DE', 'date': '-'}, {'amount': 1.99, 'category': None, 'description': 'Feinschmeckergemüse', 'flags': ' A', 'qty': None, 'remarks': None, 'tags': None, 'unitPrice': None, 'merchant_name': 'TomateStrau. kg', 'country': 'DE', 'date': '-'}, {'amount': 1.99, 'category': None, 'description': 'Mexikanisches Gemüse', 'flags': ' A', 'qty': None, 'remarks': None, 'tags': None, 'unitPrice': None, 'merchant_name': 'TomateStrau. kg', 'country': 'DE', 'date': '-'}, {'amount': 3.49, 'category': None, 'description': 'Nasi Goreng', 'flags': ' A', 'qty': None, 'remarks': None, 'tags': None, 'unitPrice': None, 'merchant_name': 'TomateStrau. kg', 'country': 'DE', 'date': '-'}, {'amount': 1.98, 'category': None, 'description': 'Mozzarella light0,99 x 2', 'flags': ' A', 'qty': None, 'remarks': None, 'tags': None, 'unitPrice': None, 'merchant_name': 'TomateStrau. kg', 'country': 'DE', 'date': '-'}, {'amount': 2.99, 'category': None, 'description': 'Gouda Scheiben', 'flags': ' A', 'qty': None, 'remarks': None, 'tags': None, 'unitPrice': None, 'merchant_name': 'TomateStrau. kg', 'country': 'DE', 'date': '-'}, {'amount': 4.99, 'category': None, 'description': 'Olivenöl Extra', 'flags': ' A', 'qty': None, 'remarks': None, 'tags': None, 'unitPrice': None, 'merchant_name': 'TomateStrau. kg', 'country': 'DE', 'date': '-'}, {'amount': 0.95, 'category': None, 'description': 'Bio Haferflocken', 'flags': ' A', 'qty': None, 'remarks': None, 'tags': None, 'unitPrice': None, 'merchant_name': 'TomateStrau. kg', 'country': 'DE', 'date': '-'}, {'amount': 1.39, 'category': None, 'description': 'Erdbeer-Konfitüre', 'flags': ' A', 'qty': None, 'remarks': None, 'tags': None, 'unitPrice': None, 'merchant_name': 'TomateStrau. kg', 'country': 'DE', 'date': '-'}, {'amount': 1.19, 'category': None, 'description': 'Maccronelli', 'flags': ' A', 'qty': None, 'remarks': None, 'tags': None, 'unitPrice': None, 'merchant_name': 'TomateStrau. kg', 'country': 'DE', 'date': '-'}, {'amount': 2.99, 'category': None, 'description': 'Basmati Reis', 'flags': ' A', 'qty': None, 'remarks': None, 'tags': None, 'unitPrice': None, 'merchant_name': 'TomateStrau. kg', 'country': 'DE', 'date': '-'}, {'amount': 1.05, 'category': None, 'description': 'H-Milch 1,5% OGT', 'flags': ' A', 'qty': None, 'remarks': None, 'tags': None, 'unitPrice': None, 'merchant_name': 'TomateStrau. kg', 'country': 'DE', 'date': '-'}, {'amount': 0.85, 'category': None, 'description': 'Gehackte Tomaten', 'flags': ' A', 'qty': None, 'remarks': None, 'tags': None, 'unitPrice': None, 'merchant_name': 'TomateStrau. kg', 'country': 'DE', 'date': '-'}, {'amount': 0.89, 'category': None, 'description': 'Apfelmus gezuckert', 'flags': ' A', 'qty': None, 'remarks': None, 'tags': None, 'unitPrice': None, 'merchant_name': 'TomateStrau. kg', 'country': 'DE', 'date': '-'}, {'amount': 2.49, 'category': None, 'description': 'FUEGO Tortillas Clas', 'flags': ' A', 'qty': None, 'remarks': None, 'tags': None, 'unitPrice': None, 'merchant_name': 'TomateStrau. kg', 'country': 'DE', 'date': '-'}, {'amount': 0.75, 'category': None, 'description': 'Traube-Nuß Sch. 100g', 'flags': ' A', 'qty': None, 'remarks': None, 'tags': None, 'unitPrice': None, 'merchant_name': 'TomateStrau. kg', 'country': 'DE', 'date': '-'}, {'amount': 5.49, 'category': None, 'description': 'Snackmandeln XXL', 'flags': ' A', 'qty': None, 'remarks': None, 'tags': None, 'unitPrice': None, 'merchant_name': 'TomateStrau. kg', 'country': 'DE', 'date': '-'}, {'amount': 1.15, 'category': None, 'description': 'Schwammtuch 5er', 'flags': ' B', 'qty': None, 'remarks': None, 'tags': None, 'unitPrice': None, 'merchant_name': 'TomateStrau. kg', 'country': 'DE', 'date': '-'}, {'amount': 1.35, 'category': None, 'description': 'Frischhaltefolie', 'flags': ' B', 'qty': None, 'remarks': None, 'tags': None, 'unitPrice': None, 'merchant_name': 'TomateStrau. kg', 'country': 'DE', 'date': '-'}, {'amount': 1.95, 'category': None, 'description': 'Gefrierbeutel 11', 'flags': ' B', 'qty': None, 'remarks': None, 'tags': None, 'unitPrice': None, 'merchant_name': 'TomateStrau. kg', 'country': 'DE', 'date': '-'}]\n",
      "{'ocr_type': 'receipts', 'request_id': 'P_92.184.97.11_lj1jfdr2_i4p', 'ref_no': 'AspDemo_1687099400190_538', 'file_name': 'test.jpg', 'request_received_on': 1687099406943, 'success': True, 'image_width': 694, 'image_height': 1650, 'image_rotation': 0.009, 'recognition_completed_on': 1687099408070, 'receipts': [{'merchant_name': 'LIDL Müllerstraße 48-48a', 'merchant_address': '13349 Berlin-Wedding', 'merchant_phone': None, 'merchant_website': None, 'merchant_tax_reg_no': None, 'merchant_company_reg_no': None, 'region': None, 'mall': None, 'country': 'DE', 'receipt_no': 'DE813388858', 'date': '2023-06-17', 'time': '14:15', 'items': [{'amount': 1.12, 'category': None, 'description': 'Bananen kg', 'flags': ' A', 'qty': None, 'remarks': None, 'tags': None, 'unitPrice': None}, {'amount': 2.99, 'category': None, 'description': 'Apfel rot, fru.-süß', 'flags': ' A', 'qty': None, 'remarks': None, 'tags': None, 'unitPrice': None}, {'amount': 1.99, 'category': None, 'description': 'Mexikanisches Gemüse', 'flags': ' A', 'qty': None, 'remarks': None, 'tags': None, 'unitPrice': None}, {'amount': 1.99, 'category': None, 'description': 'Feinschmeckergemüse', 'flags': ' A', 'qty': None, 'remarks': None, 'tags': None, 'unitPrice': None}, {'amount': 2.49, 'category': None, 'description': 'Knuspermüsli + Schoko', 'flags': ' A', 'qty': None, 'remarks': None, 'tags': None, 'unitPrice': None}, {'amount': 0.89, 'category': None, 'description': 'Apfelmus gezuckert', 'flags': ' A', 'qty': None, 'remarks': None, 'tags': None, 'unitPrice': None}, {'amount': 0.75, 'category': None, 'description': 'Traube-Nuß Sch. 100g', 'flags': ' A', 'qty': None, 'remarks': None, 'tags': None, 'unitPrice': None}, {'amount': 12.22, 'category': None, 'description': 'zu zahlen', 'flags': '', 'qty': None, 'remarks': None, 'tags': None, 'unitPrice': None}, {'amount': 12.22, 'category': None, 'description': 'Kreditkarte', 'flags': '', 'qty': None, 'remarks': None, 'tags': None, 'unitPrice': None}, {'amount': 12.22, 'category': None, 'description': 'A 7%0,8011,42', 'flags': '', 'qty': None, 'remarks': None, 'tags': None, 'unitPrice': None}], 'currency': 'EUR', 'total': 12.22, 'subtotal': None, 'tax': None, 'service_charge': None, 'tip': None, 'payment_method': None, 'payment_details': None, 'credit_card_type': None, 'credit_card_number': None, 'ocr_text': '                 LIDL\\n            Müllerstraße 48-48a\\n           13349 Berlin-Wedding\\n                                     EUR\\n Bananen kg                         1,12 A\\n   0,872 kg x 1,29 EUR/kg\\n Apfel rot, fru.-süß               2,99 A\\n Mexikanisches Gemüse               1,99 A\\n Feinschmeckergemüse                1,99 A\\n Knuspermüsli + Schoko             2,49 A\\n Apfelmus gezuckert                0,89 A\\n Traube-Nuß Sch. 100g              0,75 A\\n zu zahlen                         12,22\\n Kreditkarte                       12,22\\n  MWSTX       MWST Netto = Brutto\\n A 7%         0,80      11,42      12,22\\n Summe        0,80      11,42      12,22\\n    Lade dir die Lidl Plus App herunter\\n  und spare bei deinem nächsten Einkauf.\\n TSE Transaktionsnummer: 363189\\n Seriennr. Kasse: LDL-000-5044-1\\n Prüfwert: 07Kkp0cRjGwjzwvwR9aZz0n6wPRZ6R0b\\n 05umdMAKgn2If + GhkQCX + uz 1HCDSG41eodV3hdOCHt\\n BfinhJqgQiXqm9BOU1Ou + vWmAA5RJQjz1 + ea08da7LW\\n 1toHnupiLbqz\\n Signaturzähler: 736505\\n 2023-06-17T12: 15: 40.000Z\\n 2023-06-17T12: 16: 13.000Z\\n 5044 764277/01              17.06.23 14:15\\n          UST-ID-NR: DE813388858\\n              Bezahlung VISA', 'ocr_confidence': 94.61, 'width': 669, 'height': 1601, 'avg_char_width': 15.6026, 'avg_line_height': 29.4637, 'conf_amount': 83, 'source_locations': {'date': [[{'y': 1436, 'x': 448}, {'y': 1438, 'x': 687}, {'y': 1492, 'x': 686}, {'y': 1490, 'x': 448}]], 'total': [[{'y': 740, 'x': 548}, {'y': 740, 'x': 635}, {'y': 771, 'x': 634}, {'y': 771, 'x': 548}]], 'receipt_no': [[{'y': 1484, 'x': 326}, {'y': 1484, 'x': 514}, {'y': 1515, 'x': 514}, {'y': 1515, 'x': 326}]], 'merchant_name': [[{'y': 30, 'x': 281}, {'y': 37, 'x': 437}, {'y': 84, 'x': 435}, {'y': 77, 'x': 279}], [{'y': 75, 'x': 189}, {'y': 94, 'x': 509}, {'y': 124, 'x': 507}, {'y': 106, 'x': 187}]], 'doc': [[{'y': -56, 'x': -12}, {'y': -50, 'x': 723}, {'y': 1711, 'x': 706}, {'y': 1704, 'x': -29}]], 'merchant_address': [[{'y': 111, 'x': 172}, {'y': 135, 'x': 526}, {'y': 168, 'x': 523}, {'y': 144, 'x': 170}]]}}]}\n",
      "items:  [{'amount': 1.12, 'category': None, 'description': 'Bananen kg', 'flags': ' A', 'qty': None, 'remarks': None, 'tags': None, 'unitPrice': None}, {'amount': 2.99, 'category': None, 'description': 'Apfel rot, fru.-süß', 'flags': ' A', 'qty': None, 'remarks': None, 'tags': None, 'unitPrice': None}, {'amount': 1.99, 'category': None, 'description': 'Mexikanisches Gemüse', 'flags': ' A', 'qty': None, 'remarks': None, 'tags': None, 'unitPrice': None}, {'amount': 1.99, 'category': None, 'description': 'Feinschmeckergemüse', 'flags': ' A', 'qty': None, 'remarks': None, 'tags': None, 'unitPrice': None}, {'amount': 2.49, 'category': None, 'description': 'Knuspermüsli + Schoko', 'flags': ' A', 'qty': None, 'remarks': None, 'tags': None, 'unitPrice': None}, {'amount': 0.89, 'category': None, 'description': 'Apfelmus gezuckert', 'flags': ' A', 'qty': None, 'remarks': None, 'tags': None, 'unitPrice': None}, {'amount': 0.75, 'category': None, 'description': 'Traube-Nuß Sch. 100g', 'flags': ' A', 'qty': None, 'remarks': None, 'tags': None, 'unitPrice': None}, {'amount': 12.22, 'category': None, 'description': 'zu zahlen', 'flags': '', 'qty': None, 'remarks': None, 'tags': None, 'unitPrice': None}, {'amount': 12.22, 'category': None, 'description': 'Kreditkarte', 'flags': '', 'qty': None, 'remarks': None, 'tags': None, 'unitPrice': None}, {'amount': 12.22, 'category': None, 'description': 'A 7%0,8011,42', 'flags': '', 'qty': None, 'remarks': None, 'tags': None, 'unitPrice': None}]\n",
      "total:  [27.18, 31.97, 27.81, 41.75, 12.22]\n",
      "[{'amount': 1.36, 'category': None, 'description': 'Bananen kg', 'flags': ' A', 'qty': None, 'remarks': None, 'tags': None, 'unitPrice': None, 'merchant_name': 'Zwiebeln gelb', 'country': 'DE', 'date': '-'}, {'amount': 2.99, 'category': None, 'description': 'Zwiebeln gelb', 'flags': ' A', 'qty': None, 'remarks': None, 'tags': None, 'unitPrice': None, 'merchant_name': 'Zwiebeln gelb', 'country': 'DE', 'date': '-'}, {'amount': 1.39, 'category': None, 'description': 'Mango Stk', 'flags': ' A', 'qty': None, 'remarks': None, 'tags': None, 'unitPrice': None, 'merchant_name': 'Zwiebeln gelb', 'country': 'DE', 'date': '-'}, {'amount': 1.99, 'category': None, 'description': 'Pfirsiche', 'flags': ' A', 'qty': None, 'remarks': None, 'tags': None, 'unitPrice': None, 'merchant_name': 'Zwiebeln gelb', 'country': 'DE', 'date': '-'}, {'amount': 1.99, 'category': None, 'description': 'Asiatisches Gemüse', 'flags': ' A', 'qty': None, 'remarks': None, 'tags': None, 'unitPrice': None, 'merchant_name': 'Zwiebeln gelb', 'country': 'DE', 'date': '-'}, {'amount': 1.59, 'category': None, 'description': 'Bioland Type 630', 'flags': ' A', 'qty': None, 'remarks': None, 'tags': None, 'unitPrice': None, 'merchant_name': 'Zwiebeln gelb', 'country': 'DE', 'date': '-'}, {'amount': 0.95, 'category': None, 'description': 'H-Milch 1,5% OGT', 'flags': ' A', 'qty': None, 'remarks': None, 'tags': None, 'unitPrice': None, 'merchant_name': 'Zwiebeln gelb', 'country': 'DE', 'date': '-'}, {'amount': 1.99, 'category': None, 'description': 'Fr.Eier.a.Bo.ha OKT', 'flags': ' A', 'qty': None, 'remarks': None, 'tags': None, 'unitPrice': None, 'merchant_name': 'Zwiebeln gelb', 'country': 'DE', 'date': '-'}, {'amount': 1.09, 'category': None, 'description': 'Chilisalz', 'flags': ' A', 'qty': None, 'remarks': None, 'tags': None, 'unitPrice': None, 'merchant_name': 'Zwiebeln gelb', 'country': 'DE', 'date': '-'}, {'amount': 0.79, 'category': None, 'description': 'Fusilli', 'flags': ' A', 'qty': None, 'remarks': None, 'tags': None, 'unitPrice': None, 'merchant_name': 'Zwiebeln gelb', 'country': 'DE', 'date': '-'}, {'amount': 0.89, 'category': None, 'description': 'Apfelmus gezuckert', 'flags': ' A', 'qty': None, 'remarks': None, 'tags': None, 'unitPrice': None, 'merchant_name': 'Zwiebeln gelb', 'country': 'DE', 'date': '-'}, {'amount': 1.99, 'category': None, 'description': 'Mehrfrucht-Karotten', 'flags': ' B', 'qty': None, 'remarks': None, 'tags': None, 'unitPrice': None, 'merchant_name': 'Zwiebeln gelb', 'country': 'DE', 'date': '-'}, {'amount': 2.19, 'category': None, 'description': 'Cranberries Sult.Mix', 'flags': ' A', 'qty': None, 'remarks': None, 'tags': None, 'unitPrice': None, 'merchant_name': 'Zwiebeln gelb', 'country': 'DE', 'date': '-'}, {'amount': 1.99, 'category': None, 'description': 'Meisterbrot', 'flags': ' A', 'qty': None, 'remarks': None, 'tags': None, 'unitPrice': None, 'merchant_name': 'Zwiebeln gelb', 'country': 'DE', 'date': '-'}, {'amount': 3.99, 'category': None, 'description': 'Hähnchen-Geschn', 'flags': ' A', 'qty': None, 'remarks': None, 'tags': None, 'unitPrice': None, 'merchant_name': 'Zwiebeln gelb', 'country': 'DE', 'date': '-'}, {'amount': 1.19, 'category': None, 'description': 'Bananen kg', 'flags': ' A', 'qty': None, 'remarks': None, 'tags': None, 'unitPrice': None, 'merchant_name': 'Del.Kochschinken', 'country': 'DE', 'date': '-'}, {'amount': 2.99, 'category': None, 'description': 'Nektarinen', 'flags': ' A', 'qty': None, 'remarks': None, 'tags': None, 'unitPrice': None, 'merchant_name': 'Del.Kochschinken', 'country': 'DE', 'date': '-'}, {'amount': 1.79, 'category': None, 'description': 'Del.Kochschinken', 'flags': ' A', 'qty': None, 'remarks': None, 'tags': None, 'unitPrice': None, 'merchant_name': 'Del.Kochschinken', 'country': 'DE', 'date': '-'}, {'amount': 0.89, 'category': None, 'description': 'Apfelmus gezuckert', 'flags': ' A', 'qty': None, 'remarks': None, 'tags': None, 'unitPrice': None, 'merchant_name': 'Del.Kochschinken', 'country': 'DE', 'date': '-'}, {'amount': 0.99, 'category': None, 'description': 'Junge Brechbohnen', 'flags': ' A', 'qty': None, 'remarks': None, 'tags': None, 'unitPrice': None, 'merchant_name': 'Del.Kochschinken', 'country': 'DE', 'date': '-'}, {'amount': 4.05, 'category': None, 'description': 'Toilettenpapier 3lg', 'flags': ' B', 'qty': None, 'remarks': None, 'tags': None, 'unitPrice': None, 'merchant_name': 'Del.Kochschinken', 'country': 'DE', 'date': '-'}, {'amount': 2.85, 'category': None, 'description': 'Küchentücher', 'flags': ' B', 'qty': None, 'remarks': None, 'tags': None, 'unitPrice': None, 'merchant_name': 'Del.Kochschinken', 'country': 'DE', 'date': '-'}, {'amount': 0.65, 'category': None, 'description': 'Per.Tragetasche', 'flags': ' B', 'qty': None, 'remarks': None, 'tags': None, 'unitPrice': None, 'merchant_name': 'Del.Kochschinken', 'country': 'DE', 'date': '-'}, {'amount': 1.95, 'category': None, 'description': 'Hygienespray Univer', 'flags': ' B', 'qty': None, 'remarks': None, 'tags': None, 'unitPrice': None, 'merchant_name': 'Del.Kochschinken', 'country': 'DE', 'date': '-'}, {'amount': 0.75, 'category': None, 'description': 'Topfschwamm', 'flags': ' B', 'qty': None, 'remarks': None, 'tags': None, 'unitPrice': None, 'merchant_name': 'Del.Kochschinken', 'country': 'DE', 'date': '-'}, {'amount': 1.89, 'category': None, 'description': 'Abfallsäcke 601 25er', 'flags': ' B', 'qty': None, 'remarks': None, 'tags': None, 'unitPrice': None, 'merchant_name': 'Del.Kochschinken', 'country': 'DE', 'date': '-'}, {'amount': 1.99, 'category': None, 'description': 'Allzweckrein.Tü', 'flags': ' B', 'qty': None, 'remarks': None, 'tags': None, 'unitPrice': None, 'merchant_name': 'Del.Kochschinken', 'country': 'DE', 'date': '-'}, {'amount': 9.99, 'category': None, 'description': \"Frischhalt' '0384936\", 'flags': ' B', 'qty': None, 'remarks': None, 'tags': None, 'unitPrice': None, 'merchant_name': 'Del.Kochschinken', 'country': 'DE', 'date': '-'}, {'amount': 1.01, 'category': None, 'description': 'TomateStrau. kg', 'flags': ' A', 'qty': None, 'remarks': None, 'tags': None, 'unitPrice': None, 'merchant_name': 'TomateStrau. kg', 'country': 'DE', 'date': '-'}, {'amount': 0.95, 'category': None, 'description': 'Eisbergsalat', 'flags': ' A', 'qty': None, 'remarks': None, 'tags': None, 'unitPrice': None, 'merchant_name': 'TomateStrau. kg', 'country': 'DE', 'date': '-'}, {'amount': 1.99, 'category': None, 'description': 'Asiatisches Gemüse', 'flags': ' A', 'qty': None, 'remarks': None, 'tags': None, 'unitPrice': None, 'merchant_name': 'TomateStrau. kg', 'country': 'DE', 'date': '-'}, {'amount': 0.99, 'category': None, 'description': 'Mozzarella', 'flags': ' A', 'qty': None, 'remarks': None, 'tags': None, 'unitPrice': None, 'merchant_name': 'TomateStrau. kg', 'country': 'DE', 'date': '-'}, {'amount': 1.05, 'category': None, 'description': 'H-Milch 1,5% OGT', 'flags': ' A', 'qty': None, 'remarks': None, 'tags': None, 'unitPrice': None, 'merchant_name': 'TomateStrau. kg', 'country': 'DE', 'date': '-'}, {'amount': 0.89, 'category': None, 'description': 'Spaghetti XXL', 'flags': ' A', 'qty': None, 'remarks': None, 'tags': None, 'unitPrice': None, 'merchant_name': 'TomateStrau. kg', 'country': 'DE', 'date': '-'}, {'amount': 2.29, 'category': None, 'description': 'Bio Eier', 'flags': ' A', 'qty': None, 'remarks': None, 'tags': None, 'unitPrice': None, 'merchant_name': 'TomateStrau. kg', 'country': 'DE', 'date': '-'}, {'amount': 3.19, 'category': None, 'description': 'Lebensmittel', 'flags': ' A', 'qty': None, 'remarks': None, 'tags': None, 'unitPrice': None, 'merchant_name': 'TomateStrau. kg', 'country': 'DE', 'date': '-'}, {'amount': 1.99, 'category': None, 'description': 'Mehrfrucht-Karotten', 'flags': ' B', 'qty': None, 'remarks': None, 'tags': None, 'unitPrice': None, 'merchant_name': 'TomateStrau. kg', 'country': 'DE', 'date': '-'}, {'amount': 2.39, 'category': None, 'description': 'Cashewkerne 200g', 'flags': ' A', 'qty': None, 'remarks': None, 'tags': None, 'unitPrice': None, 'merchant_name': 'TomateStrau. kg', 'country': 'DE', 'date': '-'}, {'amount': 2.19, 'category': None, 'description': 'Cranberries getrock', 'flags': ' A', 'qty': None, 'remarks': None, 'tags': None, 'unitPrice': None, 'merchant_name': 'TomateStrau. kg', 'country': 'DE', 'date': '-'}, {'amount': 3.99, 'category': None, 'description': 'Hähnchen-Geschn', 'flags': ' A', 'qty': None, 'remarks': None, 'tags': None, 'unitPrice': None, 'merchant_name': 'TomateStrau. kg', 'country': 'DE', 'date': '-'}, {'amount': 4.89, 'category': None, 'description': 'Rinderhack 500g', 'flags': ' A', 'qty': None, 'remarks': None, 'tags': None, 'unitPrice': None, 'merchant_name': 'TomateStrau. kg', 'country': 'DE', 'date': '-'}, {'amount': 1.83, 'category': None, 'description': 'TomateStrau. kg', 'flags': ' A', 'qty': None, 'remarks': None, 'tags': None, 'unitPrice': None, 'merchant_name': 'TomateStrau. kg', 'country': 'DE', 'date': '-'}, {'amount': 1.99, 'category': None, 'description': 'Feinschmeckergemüse', 'flags': ' A', 'qty': None, 'remarks': None, 'tags': None, 'unitPrice': None, 'merchant_name': 'TomateStrau. kg', 'country': 'DE', 'date': '-'}, {'amount': 1.99, 'category': None, 'description': 'Mexikanisches Gemüse', 'flags': ' A', 'qty': None, 'remarks': None, 'tags': None, 'unitPrice': None, 'merchant_name': 'TomateStrau. kg', 'country': 'DE', 'date': '-'}, {'amount': 3.49, 'category': None, 'description': 'Nasi Goreng', 'flags': ' A', 'qty': None, 'remarks': None, 'tags': None, 'unitPrice': None, 'merchant_name': 'TomateStrau. kg', 'country': 'DE', 'date': '-'}, {'amount': 1.98, 'category': None, 'description': 'Mozzarella light0,99 x 2', 'flags': ' A', 'qty': None, 'remarks': None, 'tags': None, 'unitPrice': None, 'merchant_name': 'TomateStrau. kg', 'country': 'DE', 'date': '-'}, {'amount': 2.99, 'category': None, 'description': 'Gouda Scheiben', 'flags': ' A', 'qty': None, 'remarks': None, 'tags': None, 'unitPrice': None, 'merchant_name': 'TomateStrau. kg', 'country': 'DE', 'date': '-'}, {'amount': 4.99, 'category': None, 'description': 'Olivenöl Extra', 'flags': ' A', 'qty': None, 'remarks': None, 'tags': None, 'unitPrice': None, 'merchant_name': 'TomateStrau. kg', 'country': 'DE', 'date': '-'}, {'amount': 0.95, 'category': None, 'description': 'Bio Haferflocken', 'flags': ' A', 'qty': None, 'remarks': None, 'tags': None, 'unitPrice': None, 'merchant_name': 'TomateStrau. kg', 'country': 'DE', 'date': '-'}, {'amount': 1.39, 'category': None, 'description': 'Erdbeer-Konfitüre', 'flags': ' A', 'qty': None, 'remarks': None, 'tags': None, 'unitPrice': None, 'merchant_name': 'TomateStrau. kg', 'country': 'DE', 'date': '-'}, {'amount': 1.19, 'category': None, 'description': 'Maccronelli', 'flags': ' A', 'qty': None, 'remarks': None, 'tags': None, 'unitPrice': None, 'merchant_name': 'TomateStrau. kg', 'country': 'DE', 'date': '-'}, {'amount': 2.99, 'category': None, 'description': 'Basmati Reis', 'flags': ' A', 'qty': None, 'remarks': None, 'tags': None, 'unitPrice': None, 'merchant_name': 'TomateStrau. kg', 'country': 'DE', 'date': '-'}, {'amount': 1.05, 'category': None, 'description': 'H-Milch 1,5% OGT', 'flags': ' A', 'qty': None, 'remarks': None, 'tags': None, 'unitPrice': None, 'merchant_name': 'TomateStrau. kg', 'country': 'DE', 'date': '-'}, {'amount': 0.85, 'category': None, 'description': 'Gehackte Tomaten', 'flags': ' A', 'qty': None, 'remarks': None, 'tags': None, 'unitPrice': None, 'merchant_name': 'TomateStrau. kg', 'country': 'DE', 'date': '-'}, {'amount': 0.89, 'category': None, 'description': 'Apfelmus gezuckert', 'flags': ' A', 'qty': None, 'remarks': None, 'tags': None, 'unitPrice': None, 'merchant_name': 'TomateStrau. kg', 'country': 'DE', 'date': '-'}, {'amount': 2.49, 'category': None, 'description': 'FUEGO Tortillas Clas', 'flags': ' A', 'qty': None, 'remarks': None, 'tags': None, 'unitPrice': None, 'merchant_name': 'TomateStrau. kg', 'country': 'DE', 'date': '-'}, {'amount': 0.75, 'category': None, 'description': 'Traube-Nuß Sch. 100g', 'flags': ' A', 'qty': None, 'remarks': None, 'tags': None, 'unitPrice': None, 'merchant_name': 'TomateStrau. kg', 'country': 'DE', 'date': '-'}, {'amount': 5.49, 'category': None, 'description': 'Snackmandeln XXL', 'flags': ' A', 'qty': None, 'remarks': None, 'tags': None, 'unitPrice': None, 'merchant_name': 'TomateStrau. kg', 'country': 'DE', 'date': '-'}, {'amount': 1.15, 'category': None, 'description': 'Schwammtuch 5er', 'flags': ' B', 'qty': None, 'remarks': None, 'tags': None, 'unitPrice': None, 'merchant_name': 'TomateStrau. kg', 'country': 'DE', 'date': '-'}, {'amount': 1.35, 'category': None, 'description': 'Frischhaltefolie', 'flags': ' B', 'qty': None, 'remarks': None, 'tags': None, 'unitPrice': None, 'merchant_name': 'TomateStrau. kg', 'country': 'DE', 'date': '-'}, {'amount': 1.95, 'category': None, 'description': 'Gefrierbeutel 11', 'flags': ' B', 'qty': None, 'remarks': None, 'tags': None, 'unitPrice': None, 'merchant_name': 'TomateStrau. kg', 'country': 'DE', 'date': '-'}, {'amount': 1.12, 'category': None, 'description': 'Bananen kg', 'flags': ' A', 'qty': None, 'remarks': None, 'tags': None, 'unitPrice': None, 'merchant_name': 'LIDL Müllerstraße 48-48a', 'country': 'DE', 'date': '14:15-2023-06-17'}, {'amount': 2.99, 'category': None, 'description': 'Apfel rot, fru.-süß', 'flags': ' A', 'qty': None, 'remarks': None, 'tags': None, 'unitPrice': None, 'merchant_name': 'LIDL Müllerstraße 48-48a', 'country': 'DE', 'date': '14:15-2023-06-17'}, {'amount': 1.99, 'category': None, 'description': 'Mexikanisches Gemüse', 'flags': ' A', 'qty': None, 'remarks': None, 'tags': None, 'unitPrice': None, 'merchant_name': 'LIDL Müllerstraße 48-48a', 'country': 'DE', 'date': '14:15-2023-06-17'}, {'amount': 1.99, 'category': None, 'description': 'Feinschmeckergemüse', 'flags': ' A', 'qty': None, 'remarks': None, 'tags': None, 'unitPrice': None, 'merchant_name': 'LIDL Müllerstraße 48-48a', 'country': 'DE', 'date': '14:15-2023-06-17'}, {'amount': 2.49, 'category': None, 'description': 'Knuspermüsli + Schoko', 'flags': ' A', 'qty': None, 'remarks': None, 'tags': None, 'unitPrice': None, 'merchant_name': 'LIDL Müllerstraße 48-48a', 'country': 'DE', 'date': '14:15-2023-06-17'}, {'amount': 0.89, 'category': None, 'description': 'Apfelmus gezuckert', 'flags': ' A', 'qty': None, 'remarks': None, 'tags': None, 'unitPrice': None, 'merchant_name': 'LIDL Müllerstraße 48-48a', 'country': 'DE', 'date': '14:15-2023-06-17'}, {'amount': 0.75, 'category': None, 'description': 'Traube-Nuß Sch. 100g', 'flags': ' A', 'qty': None, 'remarks': None, 'tags': None, 'unitPrice': None, 'merchant_name': 'LIDL Müllerstraße 48-48a', 'country': 'DE', 'date': '14:15-2023-06-17'}]\n"
     ]
    }
   ],
   "source": [
    "#init the Google API translator\n",
    "translator_all = Translator()\n",
    "#initialize\n",
    "merchant_name_all = []\n",
    "country_all = []\n",
    "date_all = []\n",
    "products_all = []\n",
    "total_all = []\n",
    "taxes_all = []\n",
    "items_all_all = []\n",
    "\n",
    "\n",
    "for filename in os.listdir(folder_path_json):\n",
    "    #read json file\n",
    "    if filename.endswith(\".json\"):\n",
    "        json_path = os.path.join(folder_path_json, filename)\n",
    "        #Read all json in json folder\n",
    "        with open(json_path, \"r\") as openfile:\n",
    "            #reading from json file\n",
    "            json_object_all = json.load(openfile)\n",
    "        print(json_object_all)\n",
    "\n",
    "        if json_object_all[\"success\"] != False:\n",
    "            #Sort the items, ... in the reicept\n",
    "            if json_object_all[\"receipts\"] is not None:\n",
    "                receipt_object_all = json_object_all[\"receipts\"]\n",
    "                #receipt_object_all.append(json_object_all[\"receipts\"])\n",
    "                # Access the \"items\" list within the \"receipts\" object\n",
    "                items_all = json_object_all[\"receipts\"][0][\"items\"]\n",
    "                #items_all.append(json_object_all[\"receipts\"][0][\"items\"])\n",
    "                print(\"items: \",items)\n",
    "                total_all.append(json_object_all[\"receipts\"][0][\"total\"])\n",
    "                print(\"total: \",total_all)\n",
    "                taxes_all.append(json_object_all[\"receipts\"][0][\"tax\"])\n",
    "                merchant_name_all.append(json_object_all[\"receipts\"][0][\"merchant_name\"])\n",
    "                country_all.append(json_object_all[\"receipts\"][0][\"country\"])\n",
    "                date_str = str(json_object_all[\"receipts\"][0][\"time\"]) if json_object_all[\"receipts\"][0][\"time\"] else \"\"\n",
    "                date_str += \"-\"\n",
    "                date_str += str(json_object_all[\"receipts\"][0][\"date\"]) if json_object_all[\"receipts\"][0][\"date\"] else \"\"\n",
    "                date_all.append(date_str)\n",
    "\n",
    "                #add for each item merchant_name country_all, date\n",
    "                for item in items_all:\n",
    "                    item.update({\"merchant_name\": json_object_all[\"receipts\"][0][\"merchant_name\"]})\n",
    "                    item.update({\"country\": json_object_all[\"receipts\"][0][\"country\"]})\n",
    "                    item.update({\"date\": date_str})  \n",
    "            else:\n",
    "                print(\"Error is\"+json_object_all[\"message\"])\n",
    "\n",
    "            #translate all the descriptions\n",
    "            \"\"\"try:\n",
    "                for item in items_all: \n",
    "                    description_all = item[\"description\"]\n",
    "                    translation_all = translator_all.translate(item[\"description\"], dest=\"fr\")\n",
    "                    item[\"description\"] = translation_all.text\n",
    "                    print(\"Description : \", item[\"description\"])\n",
    "            except:\n",
    "                print(\"translation canceled\")\"\"\"          \n",
    "\n",
    "            #find all the product, only the product -> find with tag ?\n",
    "            for item in items_all:\n",
    "                flag = item[\"flags\"]\n",
    "                if flag != \"\":\n",
    "                    products_all.append(item)\n",
    "            print(products_all)\n",
    "\n",
    "            #store all items\n",
    "            for item in items_all:\n",
    "                items_all_all.append(item)\n",
    "        \n",
    "#save data into csv file\n",
    "if items_all_all and products_all is not None:\n",
    "    #export only product\n",
    "    pd.DataFrame(pd.DataFrame(products_all)[[\"description\", \"amount\", \"date\"]]).to_csv('receipts/export_product_only.csv', index=False, sep=\";\")\n",
    "    #export product all\n",
    "    pd.DataFrame(pd.DataFrame(products_all)).to_csv('receipts/export_all_product.csv', index=False, sep=\";\")\n",
    "    #export items\n",
    "    #pd.DataFrame(pd.DataFrame(items_all_all)).to_csv('receipts/export_all_items.csv', index=False, sep=\";\")\n"
   ]
  },
  {
   "attachments": {},
   "cell_type": "markdown",
   "metadata": {},
   "source": [
    "# Analyse all product and CSV file"
   ]
  },
  {
   "cell_type": "code",
   "execution_count": 94,
   "metadata": {},
   "outputs": [
    {
     "data": {
      "text/html": [
       "<div>\n",
       "<style scoped>\n",
       "    .dataframe tbody tr th:only-of-type {\n",
       "        vertical-align: middle;\n",
       "    }\n",
       "\n",
       "    .dataframe tbody tr th {\n",
       "        vertical-align: top;\n",
       "    }\n",
       "\n",
       "    .dataframe thead th {\n",
       "        text-align: right;\n",
       "    }\n",
       "</style>\n",
       "<table border=\"1\" class=\"dataframe\">\n",
       "  <thead>\n",
       "    <tr style=\"text-align: right;\">\n",
       "      <th></th>\n",
       "      <th>amount</th>\n",
       "      <th>category</th>\n",
       "      <th>description</th>\n",
       "      <th>flags</th>\n",
       "      <th>qty</th>\n",
       "      <th>remarks</th>\n",
       "      <th>tags</th>\n",
       "      <th>unitPrice</th>\n",
       "      <th>merchant_name</th>\n",
       "      <th>country</th>\n",
       "      <th>date</th>\n",
       "    </tr>\n",
       "  </thead>\n",
       "  <tbody>\n",
       "    <tr>\n",
       "      <th>58</th>\n",
       "      <td>1.15</td>\n",
       "      <td>NaN</td>\n",
       "      <td>Schwammtuch 5er</td>\n",
       "      <td>B</td>\n",
       "      <td>NaN</td>\n",
       "      <td>NaN</td>\n",
       "      <td>NaN</td>\n",
       "      <td>NaN</td>\n",
       "      <td>TomateStrau. kg</td>\n",
       "      <td>DE</td>\n",
       "      <td>-</td>\n",
       "    </tr>\n",
       "    <tr>\n",
       "      <th>59</th>\n",
       "      <td>1.35</td>\n",
       "      <td>NaN</td>\n",
       "      <td>Frischhaltefolie</td>\n",
       "      <td>B</td>\n",
       "      <td>NaN</td>\n",
       "      <td>NaN</td>\n",
       "      <td>NaN</td>\n",
       "      <td>NaN</td>\n",
       "      <td>TomateStrau. kg</td>\n",
       "      <td>DE</td>\n",
       "      <td>-</td>\n",
       "    </tr>\n",
       "    <tr>\n",
       "      <th>60</th>\n",
       "      <td>1.95</td>\n",
       "      <td>NaN</td>\n",
       "      <td>Gefrierbeutel 11</td>\n",
       "      <td>B</td>\n",
       "      <td>NaN</td>\n",
       "      <td>NaN</td>\n",
       "      <td>NaN</td>\n",
       "      <td>NaN</td>\n",
       "      <td>TomateStrau. kg</td>\n",
       "      <td>DE</td>\n",
       "      <td>-</td>\n",
       "    </tr>\n",
       "    <tr>\n",
       "      <th>61</th>\n",
       "      <td>1.12</td>\n",
       "      <td>NaN</td>\n",
       "      <td>Bananen kg</td>\n",
       "      <td>A</td>\n",
       "      <td>NaN</td>\n",
       "      <td>NaN</td>\n",
       "      <td>NaN</td>\n",
       "      <td>NaN</td>\n",
       "      <td>LIDL Müllerstraße 48-48a</td>\n",
       "      <td>DE</td>\n",
       "      <td>14:15-2023-06-17</td>\n",
       "    </tr>\n",
       "    <tr>\n",
       "      <th>62</th>\n",
       "      <td>2.99</td>\n",
       "      <td>NaN</td>\n",
       "      <td>Apfel rot, fru.-süß</td>\n",
       "      <td>A</td>\n",
       "      <td>NaN</td>\n",
       "      <td>NaN</td>\n",
       "      <td>NaN</td>\n",
       "      <td>NaN</td>\n",
       "      <td>LIDL Müllerstraße 48-48a</td>\n",
       "      <td>DE</td>\n",
       "      <td>14:15-2023-06-17</td>\n",
       "    </tr>\n",
       "    <tr>\n",
       "      <th>63</th>\n",
       "      <td>1.99</td>\n",
       "      <td>NaN</td>\n",
       "      <td>Mexikanisches Gemüse</td>\n",
       "      <td>A</td>\n",
       "      <td>NaN</td>\n",
       "      <td>NaN</td>\n",
       "      <td>NaN</td>\n",
       "      <td>NaN</td>\n",
       "      <td>LIDL Müllerstraße 48-48a</td>\n",
       "      <td>DE</td>\n",
       "      <td>14:15-2023-06-17</td>\n",
       "    </tr>\n",
       "    <tr>\n",
       "      <th>64</th>\n",
       "      <td>1.99</td>\n",
       "      <td>NaN</td>\n",
       "      <td>Feinschmeckergemüse</td>\n",
       "      <td>A</td>\n",
       "      <td>NaN</td>\n",
       "      <td>NaN</td>\n",
       "      <td>NaN</td>\n",
       "      <td>NaN</td>\n",
       "      <td>LIDL Müllerstraße 48-48a</td>\n",
       "      <td>DE</td>\n",
       "      <td>14:15-2023-06-17</td>\n",
       "    </tr>\n",
       "    <tr>\n",
       "      <th>65</th>\n",
       "      <td>2.49</td>\n",
       "      <td>NaN</td>\n",
       "      <td>Knuspermüsli + Schoko</td>\n",
       "      <td>A</td>\n",
       "      <td>NaN</td>\n",
       "      <td>NaN</td>\n",
       "      <td>NaN</td>\n",
       "      <td>NaN</td>\n",
       "      <td>LIDL Müllerstraße 48-48a</td>\n",
       "      <td>DE</td>\n",
       "      <td>14:15-2023-06-17</td>\n",
       "    </tr>\n",
       "    <tr>\n",
       "      <th>66</th>\n",
       "      <td>0.89</td>\n",
       "      <td>NaN</td>\n",
       "      <td>Apfelmus gezuckert</td>\n",
       "      <td>A</td>\n",
       "      <td>NaN</td>\n",
       "      <td>NaN</td>\n",
       "      <td>NaN</td>\n",
       "      <td>NaN</td>\n",
       "      <td>LIDL Müllerstraße 48-48a</td>\n",
       "      <td>DE</td>\n",
       "      <td>14:15-2023-06-17</td>\n",
       "    </tr>\n",
       "    <tr>\n",
       "      <th>67</th>\n",
       "      <td>0.75</td>\n",
       "      <td>NaN</td>\n",
       "      <td>Traube-Nuß Sch. 100g</td>\n",
       "      <td>A</td>\n",
       "      <td>NaN</td>\n",
       "      <td>NaN</td>\n",
       "      <td>NaN</td>\n",
       "      <td>NaN</td>\n",
       "      <td>LIDL Müllerstraße 48-48a</td>\n",
       "      <td>DE</td>\n",
       "      <td>14:15-2023-06-17</td>\n",
       "    </tr>\n",
       "  </tbody>\n",
       "</table>\n",
       "</div>"
      ],
      "text/plain": [
       "    amount  category            description flags  qty  remarks  tags  \\\n",
       "58    1.15       NaN        Schwammtuch 5er     B  NaN      NaN   NaN   \n",
       "59    1.35       NaN       Frischhaltefolie     B  NaN      NaN   NaN   \n",
       "60    1.95       NaN       Gefrierbeutel 11     B  NaN      NaN   NaN   \n",
       "61    1.12       NaN             Bananen kg     A  NaN      NaN   NaN   \n",
       "62    2.99       NaN    Apfel rot, fru.-süß     A  NaN      NaN   NaN   \n",
       "63    1.99       NaN   Mexikanisches Gemüse     A  NaN      NaN   NaN   \n",
       "64    1.99       NaN    Feinschmeckergemüse     A  NaN      NaN   NaN   \n",
       "65    2.49       NaN  Knuspermüsli + Schoko     A  NaN      NaN   NaN   \n",
       "66    0.89       NaN     Apfelmus gezuckert     A  NaN      NaN   NaN   \n",
       "67    0.75       NaN   Traube-Nuß Sch. 100g     A  NaN      NaN   NaN   \n",
       "\n",
       "    unitPrice             merchant_name country              date  \n",
       "58        NaN           TomateStrau. kg      DE                 -  \n",
       "59        NaN           TomateStrau. kg      DE                 -  \n",
       "60        NaN           TomateStrau. kg      DE                 -  \n",
       "61        NaN  LIDL Müllerstraße 48-48a      DE  14:15-2023-06-17  \n",
       "62        NaN  LIDL Müllerstraße 48-48a      DE  14:15-2023-06-17  \n",
       "63        NaN  LIDL Müllerstraße 48-48a      DE  14:15-2023-06-17  \n",
       "64        NaN  LIDL Müllerstraße 48-48a      DE  14:15-2023-06-17  \n",
       "65        NaN  LIDL Müllerstraße 48-48a      DE  14:15-2023-06-17  \n",
       "66        NaN  LIDL Müllerstraße 48-48a      DE  14:15-2023-06-17  \n",
       "67        NaN  LIDL Müllerstraße 48-48a      DE  14:15-2023-06-17  "
      ]
     },
     "execution_count": 94,
     "metadata": {},
     "output_type": "execute_result"
    }
   ],
   "source": [
    "#import and create dataset\n",
    "df_products = pd.read_csv(\"receipts/export_all_product.csv\", sep=\";\")\n",
    "#df_items = pd.read_csv(\"receipts/export_all_items.csv\", sep=\";\")\n",
    "\n",
    "df_products.head()\n",
    "#df_products.tail(10)"
   ]
  }
 ],
 "metadata": {
  "kernelspec": {
   "display_name": "myenv",
   "language": "python",
   "name": "python3"
  },
  "language_info": {
   "codemirror_mode": {
    "name": "ipython",
    "version": 3
   },
   "file_extension": ".py",
   "mimetype": "text/x-python",
   "name": "python",
   "nbconvert_exporter": "python",
   "pygments_lexer": "ipython3",
   "version": "3.10.11"
  },
  "orig_nbformat": 4
 },
 "nbformat": 4,
 "nbformat_minor": 2
}
