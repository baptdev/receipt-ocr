{
 "cells": [
  {
   "attachments": {},
   "cell_type": "markdown",
   "metadata": {},
   "source": [
    "# Receipt OCR  "
   ]
  },
  {
   "attachments": {},
   "cell_type": "markdown",
   "metadata": {},
   "source": [
    "### ressources\n",
    "\n",
    "http://asprise.com/ocr/api/docs/html/receipt-ocr.html <br/>\n",
    "https://asprise.com/receipt-ocr-data-capture-api/extract-text-reader-scanner-index.html"
   ]
  },
  {
   "cell_type": "code",
   "execution_count": 1,
   "metadata": {},
   "outputs": [
    {
     "name": "stdout",
     "output_type": "stream",
     "text": [
      "=== Python Receipt OCR using API\n"
     ]
    }
   ],
   "source": [
    "import os\n",
    "import requests\n",
    "import pandas as pd\n",
    "import json\n",
    "from googletrans import Translator\n",
    "\n",
    "\n",
    "print(\"=== Python Receipt OCR using API\")"
   ]
  },
  {
   "attachments": {},
   "cell_type": "markdown",
   "metadata": {},
   "source": [
    "### OCRing the receipt"
   ]
  },
  {
   "cell_type": "code",
   "execution_count": 6,
   "metadata": {},
   "outputs": [],
   "source": [
    "OverAsked = False\n",
    "receiptOcrEndpoint = 'https://ocr.asprise.com/api/v1/receipt' # Receipt OCR API endpoint\n",
    "folder_path_img = \"receipts/jpg\" #folder path\n",
    "folder_path_json = \"receipts/json\" \n",
    "folder_path_pdf = \"receipts/pdf\""
   ]
  },
  {
   "attachments": {},
   "cell_type": "markdown",
   "metadata": {},
   "source": [
    "### Convert pdf to jpg"
   ]
  },
  {
   "cell_type": "code",
   "execution_count": 7,
   "metadata": {},
   "outputs": [
    {
     "name": "stdout",
     "output_type": "stream",
     "text": [
      "Processed dm-03-06-23.pdf - Result saved to receipts/jpg/dm-03-06-23.jpg\n",
      "Processed dm-17-06-23.pdf - Result saved to receipts/jpg/dm-17-06-23.jpg\n",
      "Processed lidl-03-06-23-2.pdf - Result saved to receipts/jpg/lidl-03-06-23-2.jpg\n",
      "Processed lidl-03-06-23.pdf - Result saved to receipts/jpg/lidl-03-06-23.jpg\n",
      "Processed lidl-07-06-23.pdf - Result saved to receipts/jpg/lidl-07-06-23.jpg\n",
      "Processed lidl-10-06-23.pdf - Result saved to receipts/jpg/lidl-10-06-23.jpg\n",
      "Processed lidl-15-06-23.pdf - Result saved to receipts/jpg/lidl-15-06-23.jpg\n",
      "Processed lidl-17-06-23.pdf - Result saved to receipts/jpg/lidl-17-06-23.jpg\n"
     ]
    }
   ],
   "source": [
    "from pdf2image import convert_from_path\n",
    " \n",
    "for filename in os.listdir(folder_path_pdf):\n",
    "    if filename.endswith(\".pdf\"):\n",
    "        pdf_path = os.path.join(folder_path_pdf, filename)\n",
    "        \n",
    "        # Store Pdf with convert_from_path function\n",
    "        images = convert_from_path(pdf_path)\n",
    "        \n",
    "        for i in range(len(images)): \n",
    "            # Save pages as images in the pdf\n",
    "            jpg_filename = folder_path_img + \"/\" + os.path.splitext(filename)[0] +'.jpg'\n",
    "            images[i].save(jpg_filename, 'JPEG')\n",
    "\n",
    "        print(f\"Processed {filename} - Result saved to {jpg_filename}\")\n"
   ]
  },
  {
   "attachments": {},
   "cell_type": "markdown",
   "metadata": {},
   "source": [
    "#### Read jpg file and save into json"
   ]
  },
  {
   "cell_type": "code",
   "execution_count": 8,
   "metadata": {},
   "outputs": [
    {
     "name": "stdout",
     "output_type": "stream",
     "text": [
      "Processed lidl-15-06-23.jpg - Result saved to lidl-15-06-23.json\n",
      "{\n",
      "  \"ref_no\" : \"ocr_python_123\",\n",
      "  \"success\" : false,\n",
      "  \"message\" : \"Hourly quota exceeded. Try again in a few hours or contact us to increase the quota: ocr@asprise.com\",\n",
      "  \"get_help\" : \"Please contact support@asprise.com for assistance.\"\n",
      "}\n",
      "Processed lidl-17-06-23.jpg - Result saved to lidl-17-06-23.json\n",
      "{\n",
      "  \"ref_no\" : \"ocr_python_123\",\n",
      "  \"success\" : false,\n",
      "  \"message\" : \"Hourly quota exceeded. Try again in a few hours or contact us to increase the quota: ocr@asprise.com\",\n",
      "  \"get_help\" : \"Please contact support@asprise.com for assistance.\"\n",
      "}\n"
     ]
    }
   ],
   "source": [
    "#iterate over the files in the folder \n",
    "if OverAsked == False:\n",
    "  for filename in os.listdir(folder_path_img):\n",
    "    if filename.endswith(\".jpg\"):\n",
    "        image_path = os.path.join(folder_path_img, filename)\n",
    "        r = requests.post(receiptOcrEndpoint, data = { \\\n",
    "        'client_id': 'TEST',        # Use 'TEST' for testing purpose \\\n",
    "        'recognizer': 'auto',       # can be 'US', 'CA', 'JP', 'SG' or 'auto' \\\n",
    "        'ref_no': 'ocr_python_123', # optional caller provided ref code \\\n",
    "        }, \\\n",
    "        files = {\"file\": open(image_path, \"rb\")})\n",
    "\n",
    "        # Save the json response to a file\n",
    "        json_filename = os.path.splitext(filename)[0] + \".json\"\n",
    "        json_path = os.path.join(folder_path_json, json_filename)        \n",
    "        with open(json_path, \"w\") as outfile:\n",
    "            json.dump(r.json(), outfile)\n",
    "            #https://www.geeksforgeeks.org/reading-and-writing-json-to-a-file-in-python/\n",
    "\n",
    "        print(f\"Processed {filename} - Result saved to {json_filename}\")\n",
    "        print(r.text)"
   ]
  },
  {
   "cell_type": "code",
   "execution_count": null,
   "metadata": {},
   "outputs": [
    {
     "name": "stdout",
     "output_type": "stream",
     "text": [
      "{'ocr_type': 'receipts', 'request_id': 'P_92.184.97.11_lj1jfdr2_i4p', 'ref_no': 'AspDemo_1687099400190_538', 'file_name': 'test.jpg', 'request_received_on': 1687099406943, 'success': True, 'image_width': 694, 'image_height': 1650, 'image_rotation': 0.009, 'recognition_completed_on': 1687099408070, 'receipts': [{'merchant_name': 'LIDL Müllerstraße 48-48a', 'merchant_address': '13349 Berlin-Wedding', 'merchant_phone': None, 'merchant_website': None, 'merchant_tax_reg_no': None, 'merchant_company_reg_no': None, 'region': None, 'mall': None, 'country': 'DE', 'receipt_no': 'DE813388858', 'date': '2023-06-17', 'time': '14:15', 'items': [{'amount': 1.12, 'category': None, 'description': 'Bananen kg', 'flags': ' A', 'qty': None, 'remarks': None, 'tags': None, 'unitPrice': None}, {'amount': 2.99, 'category': None, 'description': 'Apfel rot, fru.-süß', 'flags': ' A', 'qty': None, 'remarks': None, 'tags': None, 'unitPrice': None}, {'amount': 1.99, 'category': None, 'description': 'Mexikanisches Gemüse', 'flags': ' A', 'qty': None, 'remarks': None, 'tags': None, 'unitPrice': None}, {'amount': 1.99, 'category': None, 'description': 'Feinschmeckergemüse', 'flags': ' A', 'qty': None, 'remarks': None, 'tags': None, 'unitPrice': None}, {'amount': 2.49, 'category': None, 'description': 'Knuspermüsli + Schoko', 'flags': ' A', 'qty': None, 'remarks': None, 'tags': None, 'unitPrice': None}, {'amount': 0.89, 'category': None, 'description': 'Apfelmus gezuckert', 'flags': ' A', 'qty': None, 'remarks': None, 'tags': None, 'unitPrice': None}, {'amount': 0.75, 'category': None, 'description': 'Traube-Nuß Sch. 100g', 'flags': ' A', 'qty': None, 'remarks': None, 'tags': None, 'unitPrice': None}, {'amount': 12.22, 'category': None, 'description': 'zu zahlen', 'flags': '', 'qty': None, 'remarks': None, 'tags': None, 'unitPrice': None}, {'amount': 12.22, 'category': None, 'description': 'Kreditkarte', 'flags': '', 'qty': None, 'remarks': None, 'tags': None, 'unitPrice': None}, {'amount': 12.22, 'category': None, 'description': 'A 7%0,8011,42', 'flags': '', 'qty': None, 'remarks': None, 'tags': None, 'unitPrice': None}], 'currency': 'EUR', 'total': 12.22, 'subtotal': None, 'tax': None, 'service_charge': None, 'tip': None, 'payment_method': None, 'payment_details': None, 'credit_card_type': None, 'credit_card_number': None, 'ocr_text': '                 LIDL\\n            Müllerstraße 48-48a\\n           13349 Berlin-Wedding\\n                                     EUR\\n Bananen kg                         1,12 A\\n   0,872 kg x 1,29 EUR/kg\\n Apfel rot, fru.-süß               2,99 A\\n Mexikanisches Gemüse               1,99 A\\n Feinschmeckergemüse                1,99 A\\n Knuspermüsli + Schoko             2,49 A\\n Apfelmus gezuckert                0,89 A\\n Traube-Nuß Sch. 100g              0,75 A\\n zu zahlen                         12,22\\n Kreditkarte                       12,22\\n  MWSTX       MWST Netto = Brutto\\n A 7%         0,80      11,42      12,22\\n Summe        0,80      11,42      12,22\\n    Lade dir die Lidl Plus App herunter\\n  und spare bei deinem nächsten Einkauf.\\n TSE Transaktionsnummer: 363189\\n Seriennr. Kasse: LDL-000-5044-1\\n Prüfwert: 07Kkp0cRjGwjzwvwR9aZz0n6wPRZ6R0b\\n 05umdMAKgn2If + GhkQCX + uz 1HCDSG41eodV3hdOCHt\\n BfinhJqgQiXqm9BOU1Ou + vWmAA5RJQjz1 + ea08da7LW\\n 1toHnupiLbqz\\n Signaturzähler: 736505\\n 2023-06-17T12: 15: 40.000Z\\n 2023-06-17T12: 16: 13.000Z\\n 5044 764277/01              17.06.23 14:15\\n          UST-ID-NR: DE813388858\\n              Bezahlung VISA', 'ocr_confidence': 94.61, 'width': 669, 'height': 1601, 'avg_char_width': 15.6026, 'avg_line_height': 29.4637, 'conf_amount': 83, 'source_locations': {'date': [[{'y': 1436, 'x': 448}, {'y': 1438, 'x': 687}, {'y': 1492, 'x': 686}, {'y': 1490, 'x': 448}]], 'total': [[{'y': 740, 'x': 548}, {'y': 740, 'x': 635}, {'y': 771, 'x': 634}, {'y': 771, 'x': 548}]], 'receipt_no': [[{'y': 1484, 'x': 326}, {'y': 1484, 'x': 514}, {'y': 1515, 'x': 514}, {'y': 1515, 'x': 326}]], 'merchant_name': [[{'y': 30, 'x': 281}, {'y': 37, 'x': 437}, {'y': 84, 'x': 435}, {'y': 77, 'x': 279}], [{'y': 75, 'x': 189}, {'y': 94, 'x': 509}, {'y': 124, 'x': 507}, {'y': 106, 'x': 187}]], 'doc': [[{'y': -56, 'x': -12}, {'y': -50, 'x': 723}, {'y': 1711, 'x': 706}, {'y': 1704, 'x': -29}]], 'merchant_address': [[{'y': 111, 'x': 172}, {'y': 135, 'x': 526}, {'y': 168, 'x': 523}, {'y': 144, 'x': 170}]]}}]}\n"
     ]
    }
   ],
   "source": [
    "with open(folder_path_json+\"/test.json\", \"r\") as openfile:\n",
    "    #reading from json file\n",
    "    json_object = json.load(openfile)\n",
    "\n",
    "print(json_object)"
   ]
  },
  {
   "attachments": {},
   "cell_type": "markdown",
   "metadata": {},
   "source": [
    "### Find all the items in the receipt"
   ]
  },
  {
   "cell_type": "code",
   "execution_count": null,
   "metadata": {},
   "outputs": [
    {
     "name": "stdout",
     "output_type": "stream",
     "text": [
      "items:  [{'amount': 1.12, 'category': None, 'description': 'Bananen kg', 'flags': ' A', 'qty': None, 'remarks': None, 'tags': None, 'unitPrice': None}, {'amount': 2.99, 'category': None, 'description': 'Apfel rot, fru.-süß', 'flags': ' A', 'qty': None, 'remarks': None, 'tags': None, 'unitPrice': None}, {'amount': 1.99, 'category': None, 'description': 'Mexikanisches Gemüse', 'flags': ' A', 'qty': None, 'remarks': None, 'tags': None, 'unitPrice': None}, {'amount': 1.99, 'category': None, 'description': 'Feinschmeckergemüse', 'flags': ' A', 'qty': None, 'remarks': None, 'tags': None, 'unitPrice': None}, {'amount': 2.49, 'category': None, 'description': 'Knuspermüsli + Schoko', 'flags': ' A', 'qty': None, 'remarks': None, 'tags': None, 'unitPrice': None}, {'amount': 0.89, 'category': None, 'description': 'Apfelmus gezuckert', 'flags': ' A', 'qty': None, 'remarks': None, 'tags': None, 'unitPrice': None}, {'amount': 0.75, 'category': None, 'description': 'Traube-Nuß Sch. 100g', 'flags': ' A', 'qty': None, 'remarks': None, 'tags': None, 'unitPrice': None}, {'amount': 12.22, 'category': None, 'description': 'zu zahlen', 'flags': '', 'qty': None, 'remarks': None, 'tags': None, 'unitPrice': None}, {'amount': 12.22, 'category': None, 'description': 'Kreditkarte', 'flags': '', 'qty': None, 'remarks': None, 'tags': None, 'unitPrice': None}, {'amount': 12.22, 'category': None, 'description': 'A 7%0,8011,42', 'flags': '', 'qty': None, 'remarks': None, 'tags': None, 'unitPrice': None}]\n",
      "total:  12.22\n",
      "taxes:  None\n"
     ]
    }
   ],
   "source": [
    "if json_object[\"receipts\"] is not None: \n",
    "    receipt_object = json_object[\"receipts\"]\n",
    "    # Access the \"items\" list within the \"receipts\" object\n",
    "    items = json_object[\"receipts\"][0][\"items\"]\n",
    "    total = json_object[\"receipts\"][0][\"total\"]\n",
    "    taxes = json_object[\"receipts\"][0][\"tax\"]\n",
    "    print(\"items: \",items)\n",
    "    print(\"total: \",total)\n",
    "    print(\"taxes: \",taxes)\n",
    "\n",
    "else:\n",
    "    print(\"Error is\"+json_object[\"message\"])"
   ]
  },
  {
   "attachments": {},
   "cell_type": "markdown",
   "metadata": {},
   "source": [
    "### Translation"
   ]
  },
  {
   "attachments": {},
   "cell_type": "markdown",
   "metadata": {},
   "source": [
    "Ressources : https://www.thepythoncode.com/article/translate-text-in-python"
   ]
  },
  {
   "cell_type": "code",
   "execution_count": null,
   "metadata": {},
   "outputs": [],
   "source": [
    "#init the Google API translator\n",
    "translator = Translator()"
   ]
  },
  {
   "cell_type": "code",
   "execution_count": null,
   "metadata": {},
   "outputs": [
    {
     "name": "stdout",
     "output_type": "stream",
     "text": [
      "Description :  Banane kg\n",
      "Description :  oignons jaunes\n",
      "Description :  PC mangue\n",
      "Description :  Pêche\n",
      "Description :  Légumes asiatiques\n",
      "Description :  Bioland Type 630\n",
      "Description :  H-lait H, 1,5% OGT\n",
      "Description :  Fr.aier.a.bo.ha octobre\n",
      "Description :  Sel de piment\n",
      "Description :  Fusillis\n",
      "Description :  Sauce de pomme sugared\n",
      "Description :  Carotte multi-fruits\n",
      "Description :  Canneberries sult.mix\n",
      "Description :  Pain maître\n",
      "Description :  Poulet\n",
      "Description :  payer\n",
      "Description :  Carte de crédit\n",
      "Description :  Un 7% 1 6523,54\n",
      "Description :  B 19% 0,321,67\n"
     ]
    }
   ],
   "source": [
    "for item in items: \n",
    "    description = item[\"description\"]\n",
    "    translation = translator.translate(description, dest=\"fr\")\n",
    "    item[\"description\"] = translation.text\n",
    "    print(\"Description : \", item[\"description\"])"
   ]
  },
  {
   "attachments": {},
   "cell_type": "markdown",
   "metadata": {},
   "source": [
    "### Product"
   ]
  },
  {
   "cell_type": "code",
   "execution_count": null,
   "metadata": {},
   "outputs": [
    {
     "name": "stdout",
     "output_type": "stream",
     "text": [
      "\n",
      "\n",
      "\n",
      "\n",
      "[{'amount': 1.19, 'category': None, 'description': 'Banane kg', 'flags': ' A', 'qty': None, 'remarks': None, 'tags': None, 'unitPrice': None}, {'amount': 2.99, 'category': None, 'description': 'Nectarine', 'flags': ' A', 'qty': None, 'remarks': None, 'tags': None, 'unitPrice': None}, {'amount': 1.79, 'category': None, 'description': 'Del.Koch Ham', 'flags': ' A', 'qty': None, 'remarks': None, 'tags': None, 'unitPrice': None}, {'amount': 0.89, 'category': None, 'description': 'Sauce de pomme sugared', 'flags': ' A', 'qty': None, 'remarks': None, 'tags': None, 'unitPrice': None}, {'amount': 0.99, 'category': None, 'description': 'Jeunes haricots', 'flags': ' A', 'qty': None, 'remarks': None, 'tags': None, 'unitPrice': None}, {'amount': 4.05, 'category': None, 'description': 'Papier toilette 3lg', 'flags': ' B', 'qty': None, 'remarks': None, 'tags': None, 'unitPrice': None}, {'amount': 2.85, 'category': None, 'description': 'Torchons de cuisine', 'flags': ' B', 'qty': None, 'remarks': None, 'tags': None, 'unitPrice': None}, {'amount': 0.65, 'category': None, 'description': 'Par', 'flags': ' B', 'qty': None, 'remarks': None, 'tags': None, 'unitPrice': None}, {'amount': 1.95, 'category': None, 'description': 'Hygienespray Univer', 'flags': ' B', 'qty': None, 'remarks': None, 'tags': None, 'unitPrice': None}, {'amount': 0.75, 'category': None, 'description': 'Éponge', 'flags': ' B', 'qty': None, 'remarks': None, 'tags': None, 'unitPrice': None}, {'amount': 1.89, 'category': None, 'description': 'Sacs à déchets 601 25', 'flags': ' B', 'qty': None, 'remarks': None, 'tags': None, 'unitPrice': None}, {'amount': 1.99, 'category': None, 'description': 'Tout usage', 'flags': ' B', 'qty': None, 'remarks': None, 'tags': None, 'unitPrice': None}, {'amount': 9.99, 'category': None, 'description': \"Fresh Hold '' 0384936\", 'flags': ' B', 'qty': None, 'remarks': None, 'tags': None, 'unitPrice': None}]\n"
     ]
    }
   ],
   "source": [
    "#iterate over each item and add them if flaf != none\n",
    "products = []\n",
    "\n",
    "for item in items:\n",
    "    flag = item[\"flags\"]\n",
    "    if flag != \"\":\n",
    "        products.append(item)\n",
    "    #elif :\n",
    "        #find total price\n",
    "    else:\n",
    "        #nothing to do\n",
    "        print()\n",
    "print(products)"
   ]
  },
  {
   "attachments": {},
   "cell_type": "markdown",
   "metadata": {},
   "source": [
    "### Pandas dataframe"
   ]
  },
  {
   "cell_type": "code",
   "execution_count": null,
   "metadata": {},
   "outputs": [],
   "source": [
    "items_df = pd.DataFrame(items)\n",
    "products_df = pd.DataFrame(products)"
   ]
  },
  {
   "cell_type": "code",
   "execution_count": null,
   "metadata": {},
   "outputs": [
    {
     "name": "stdout",
     "output_type": "stream",
     "text": [
      "               description  amount\n",
      "0                Banane kg    1.19\n",
      "1                Nectarine    2.99\n",
      "2             Del.Koch Ham    1.79\n",
      "3   Sauce de pomme sugared    0.89\n",
      "4          Jeunes haricots    0.99\n",
      "5      Papier toilette 3lg    4.05\n",
      "6      Torchons de cuisine    2.85\n",
      "7                      Par    0.65\n",
      "8      Hygienespray Univer    1.95\n",
      "9                   Éponge    0.75\n",
      "10   Sacs à déchets 601 25    1.89\n",
      "11              Tout usage    1.99\n",
      "12   Fresh Hold '' 0384936    9.99\n"
     ]
    }
   ],
   "source": [
    "export_csv = pd.DataFrame(products_df[[\"description\", \"amount\"]])\n",
    "print(export_csv)\n",
    "export_csv.to_csv('receipts/export_data.csv', index=False, sep=\";\")"
   ]
  },
  {
   "attachments": {},
   "cell_type": "markdown",
   "metadata": {},
   "source": [
    "## All in one"
   ]
  },
  {
   "cell_type": "code",
   "execution_count": 13,
   "metadata": {},
   "outputs": [
    {
     "name": "stdout",
     "output_type": "stream",
     "text": [
      "{'ocr_type': 'receipts', 'request_id': 'P_92.184.117.81_lj1wnp3o_9df', 'ref_no': 'ocr_python_123', 'file_name': 'dm-03-06-23.jpg', 'request_received_on': 1687121629908, 'success': True, 'image_width': 1386, 'image_height': 2200, 'image_rotation': 0, 'recognition_completed_on': 1687121630524, 'receipts': [{'merchant_name': 'dm-drogerie markt', 'merchant_address': 'Müllerstraße 35, 13353 Berlin', 'merchant_phone': None, 'merchant_website': None, 'merchant_tax_reg_no': None, 'merchant_company_reg_no': None, 'region': None, 'mall': None, 'country': 'DE', 'receipt_no': '34092/30007', 'date': '2023-06-03', 'time': '11:26', 'items': None, 'currency': 'EUR', 'total': 36.8, 'subtotal': None, 'tax': None, 'service_charge': None, 'tip': None, 'payment_method': None, 'payment_details': None, 'credit_card_type': None, 'credit_card_number': None, 'ocr_text': '       dm              dm-drogerie markt\\n                         Müllerstraße 35\\n                          13353 Berlin\\n     BIN ICH MENSCH\\n                         030/43722861\\n 03.06.2023 11:26 2329/2 204740/2 6510\\n Prof. Kehrgarnitur                 2,45 1\\n Prof. Teleskopstiel                2,65 1\\n Prof. Eimer                        3.45 1\\n Prof. Bodenwisch-Set               4,95 1\\n Prof. 2in1-Küchentücher 5St.       1.95 1\\n Prof. Handschuhe Universal M       0,55 1\\n Pril Original 900ml                2,15 1\\n Denkmit Küchen-Hygiene Reinig.     1,95 1\\n Ariel Colorwaschmittel flussig     6,75 1\\n Garnier AS Spray sens. LSF50 +     9.95 1\\n SUMME EUR                         36,80\\n VISA EUR                         -36,80\\n MwSt-Satz       Brutto     Netto      MwSt\\n 1 = 19,00%       36,80     30,92      5,88\\n       Für diesen Einkauf hattest Du\\n         18 PAYBACK Punkte erhalten\\n   Du sammelst noch keine PAYBACK Punkte?\\n   Einfach anmelden und punkten: dm.de/pb\\n           Öffnungszeiten auf dm.de\\n            Steuer-Nr.:34092/30007', 'ocr_confidence': 96.29, 'width': 1254, 'height': 2096, 'avg_char_width': 29.789, 'avg_line_height': 47.5245, 'conf_amount': 74, 'source_locations': {'date': [[{'y': 455, 'x': 12}, {'y': 455, 'x': 552}, {'y': 508, 'x': 552}, {'y': 508, 'x': 12}]], 'total': [[{'y': 1430, 'x': 1017}, {'y': 1429, 'x': 1202}, {'y': 1482, 'x': 1202}, {'y': 1483, 'x': 1017}]], 'receipt_no': [[{'y': 2117, 'x': 341}, {'y': 2117, 'x': 1038}, {'y': 2166, 'x': 1038}, {'y': 2166, 'x': 341}]], 'merchant_name': [[{'y': 89, 'x': 680}, {'y': 89, 'x': 1145}, {'y': 141, 'x': 1145}, {'y': 141, 'x': 680}]], 'doc': [[{'y': -36, 'x': -25}, {'y': -36, 'x': 1353}, {'y': 2268, 'x': 1353}, {'y': 2268, 'x': -25}]], 'merchant_address': [[{'y': 150, 'x': 723}, {'y': 145, 'x': 1102}, {'y': 191, 'x': 1103}, {'y': 197, 'x': 724}], [{'y': 210, 'x': 769}, {'y': 204, 'x': 1053}, {'y': 250, 'x': 1054}, {'y': 256, 'x': 770}]]}}]}\n",
      "items:  None\n",
      "total:  [36.8]\n",
      "Any items detected\n",
      "Any items detected -- check OCRing method\n",
      "{'ocr_type': 'receipts', 'request_id': 'P_92.184.117.81_lj1wnqca_kl4', 'ref_no': 'ocr_python_123', 'file_name': 'dm-17-06-23.jpg', 'request_received_on': 1687121631515, 'success': True, 'image_width': 1700, 'image_height': 936, 'image_rotation': 1.526, 'recognition_completed_on': 1687121631937, 'receipts': [{'merchant_name': 'dm-drogerie markt', 'merchant_address': 'Müllerstraße 35, 13353 Berlin', 'merchant_phone': None, 'merchant_website': None, 'merchant_tax_reg_no': None, 'merchant_company_reg_no': None, 'region': None, 'mall': None, 'country': 'DE', 'receipt_no': '34092/30007', 'date': '2023-06-17', 'time': '14:50', 'items': None, 'currency': 'EUR', 'total': 11.25, 'subtotal': None, 'tax': None, 'service_charge': None, 'tip': None, 'payment_method': None, 'payment_details': None, 'credit_card_type': None, 'credit_card_number': None, 'ocr_text': '           dm              dm-drogerie markt\\n                            Müllerstraße 35\\n                             13353 Berlin\\n         BIN ICH MENSCH\\n            HIER KAUF EIN    030/43722861\\n   17.06.2023 14:50 2329/2 001111/2 2829\\n  happybrush Zahncreme Black          2,95 1\\n  Balea Med UltrSens Tot.Meer BL      2,95 1\\n  Nivea Dusche Lemongrass 250ml       1.95 1\\n  Nivea Deo Stick Fresh Natural       2,65 1\\n  Balea Shampoo Sensitive 300ml      0,75 1\\n  SUMME EUR                         11,25\\n  VISA EUR                         -11,25\\n MwSt-Satz        Brutto     Netto      MwSt\\n 1 = 19,00%        11,25      9,45      1,80\\n       Für diesen Einkauf hättest Du\\n         5 PAYBACK Punkte erhalten\\n   Du sammelst noch keine PAYBACK Punkte?\\n   Einfach anmelden und punkten: dm.de/pb\\n          Öffnungszeiten auf dm.de\\n           Steuer-Nr.:34092/30007\\n ******* FISKALINFORMATIONEN (TSE)*******\\n Start:                 2023-06-17 14:50:48\\n Ende:                  2023-06-17 14:51:08\\n SN-Kasse: FD232912      TA-Nummer: 259340\\n Signaturzähler: 518901 Signatur: HiildxiE\\n WkpdT71 WHyvVIEvhhWmK1KKG5ETIL07Iq4BkTtZy1U\\n jMxVGhL9ajBUTNQy1qXY5cMfZ6WOKkQSZV + AA ==', 'ocr_confidence': 94.92, 'width': 881, 'height': 1581, 'avg_char_width': 19.5427, 'avg_line_height': 32.5007, 'conf_amount': 74, 'source_locations': {'date': [[{'y': 23, 'x': 1361}, {'y': 387, 'x': 1377}, {'y': 389, 'x': 1333}, {'y': 25, 'x': 1317}]], 'total': [[{'y': 684, 'x': 980}, {'y': 810, 'x': 987}, {'y': 812, 'x': 951}, {'y': 686, 'x': 943}]], 'receipt_no': [[{'y': 216, 'x': 496}, {'y': 688, 'x': 524}, {'y': 690, 'x': 487}, {'y': 218, 'x': 459}]], 'merchant_name': [[{'y': 480, 'x': 1622}, {'y': 792, 'x': 1634}, {'y': 793, 'x': 1601}, {'y': 481, 'x': 1589}]], 'doc': [[{'y': -72, 'x': 1697}, {'y': 895, 'x': 1740}, {'y': 974, 'x': 2}, {'y': 5, 'x': -41}]], 'merchant_address': [[{'y': 511, 'x': 1584}, {'y': 761, 'x': 1593}, {'y': 762, 'x': 1562}, {'y': 512, 'x': 1552}], [{'y': 540, 'x': 1547}, {'y': 728, 'x': 1553}, {'y': 729, 'x': 1522}, {'y': 541, 'x': 1516}]]}}]}\n",
      "items:  None\n",
      "total:  [36.8, 11.25]\n",
      "Any items detected\n",
      "Any items detected -- check OCRing method\n",
      "{'ocr_type': 'receipts', 'request_id': 'P_92.184.117.81_lj1wnrfo_uay', 'ref_no': 'ocr_python_123', 'file_name': 'lidl-03-06-23-2.jpg', 'request_received_on': 1687121632933, 'success': True, 'image_width': 831, 'image_height': 2200, 'image_rotation': -0.016, 'recognition_completed_on': 1687121633408, 'receipts': [{'merchant_name': 'Müllerstraße 48-48a', 'merchant_address': '13349 Berlin-Wedding', 'merchant_phone': None, 'merchant_website': None, 'merchant_tax_reg_no': None, 'merchant_company_reg_no': None, 'region': None, 'mall': None, 'country': 'DE', 'receipt_no': 'DE813388858', 'date': '2023-06-03', 'time': '09:56', 'items': [{'amount': 1.19, 'category': None, 'description': 'Bananen kg', 'flags': ' A', 'qty': None, 'remarks': None, 'tags': None, 'unitPrice': None}, {'amount': 2.99, 'category': None, 'description': 'Nektarinen', 'flags': ' A', 'qty': None, 'remarks': None, 'tags': None, 'unitPrice': None}, {'amount': 1.79, 'category': None, 'description': 'Del.Kochschinken', 'flags': ' A', 'qty': None, 'remarks': None, 'tags': None, 'unitPrice': None}, {'amount': 0.89, 'category': None, 'description': 'Apfelmus gezuckert', 'flags': ' A', 'qty': None, 'remarks': None, 'tags': None, 'unitPrice': None}, {'amount': 0.99, 'category': None, 'description': 'Junge Brechbohnen', 'flags': ' A', 'qty': None, 'remarks': None, 'tags': None, 'unitPrice': None}, {'amount': 4.05, 'category': None, 'description': 'Toilettenpapier 31g', 'flags': ' B', 'qty': None, 'remarks': None, 'tags': None, 'unitPrice': None}, {'amount': 2.85, 'category': None, 'description': 'Küchentücher', 'flags': ' B', 'qty': None, 'remarks': None, 'tags': None, 'unitPrice': None}, {'amount': 0.65, 'category': None, 'description': 'Per.Tragetasche', 'flags': ' B', 'qty': None, 'remarks': None, 'tags': None, 'unitPrice': None}, {'amount': 1.95, 'category': None, 'description': 'Hygienespray Univer', 'flags': ' B', 'qty': None, 'remarks': None, 'tags': None, 'unitPrice': None}, {'amount': 0.75, 'category': None, 'description': 'Topfschwamm', 'flags': ' B', 'qty': None, 'remarks': None, 'tags': None, 'unitPrice': None}, {'amount': 1.89, 'category': None, 'description': 'Abfallsäcke 601 25er', 'flags': ' B', 'qty': None, 'remarks': None, 'tags': None, 'unitPrice': None}, {'amount': 1.99, 'category': None, 'description': 'Allzweckrein. Tü', 'flags': ' B', 'qty': None, 'remarks': None, 'tags': None, 'unitPrice': None}, {'amount': 9.99, 'category': None, 'description': \"Frischhalt '0384936\", 'flags': ' B', 'qty': None, 'remarks': None, 'tags': None, 'unitPrice': None}, {'amount': 31.97, 'category': None, 'description': 'zu zahlen', 'flags': '', 'qty': None, 'remarks': None, 'tags': None, 'unitPrice': None}, {'amount': 31.97, 'category': None, 'description': 'Kreditkarte', 'flags': '', 'qty': None, 'remarks': None, 'tags': None, 'unitPrice': None}, {'amount': 7.85, 'category': None, 'description': 'A 7%0,517,34', 'flags': '', 'qty': None, 'remarks': None, 'tags': None, 'unitPrice': None}, {'amount': 24.12, 'category': None, 'description': 'B 19 %3,8520,27', 'flags': '', 'qty': None, 'remarks': None, 'tags': None, 'unitPrice': None}], 'currency': 'EUR', 'total': 31.97, 'subtotal': None, 'tax': None, 'service_charge': None, 'tip': None, 'payment_method': None, 'payment_details': None, 'credit_card_type': None, 'credit_card_number': None, 'ocr_text': \"            Müllerstraße 48-48a\\n           13349 Berlin-Wedding\\n                                      EUR\\n Bananen kg                          1,19 A\\n   0,880 kg x 1,35 EUR/kg\\n Nektarinen                         2,99 A\\n Del.Kochschinken                   1,79 A\\n Apfelmus gezuckert                 0,89 A\\n Junge Brechbohnen                  0,99 A\\n Toilettenpapier 31g.               4,05 B\\n Küchentücher                       2,85 B\\n Per.Tragetasche                    0,65 B\\n Hygienespray Univer.               1,95 B\\n Topfschwamm                        0,75 B\\n Abfallsäcke 601 25er               1,89 B\\n Allzweckrein. Tü                   1,99 B\\n Frischhalt '0384936                9,99 B\\n zu zahlen                         31,97\\n Kreditkarte                       31,97\\n MWSTX        MWST + Netto = Brutto\\n A 7%        0,51       7,34       7,85\\n B 19 %       3,85     20,27      24,12\\n Summe        4,36     27,61      31,97\\n   Lade dir die Lidl Plus App herunter\\n und spare bei deinem nächsten Einkauf.\\n TSE Transaktionsnummer: 336676\\n Seriennr. Kasse: LDL-000-5044-2\\n Prüfwert: NSD7WPhqbJ6xpY90HHZ4S1 + j + u2CTWb6\\n I1VIDRYYTIgLrwc + Ugj9rOdltpyeYKmsjjnso57u5q\\n Sj95b4EsxGt6vQIbtbhURhRn1PSm/v9XdvHJ0aiK/Q\\n n5FS0L3fSvsV\\n Signaturzähler: 682773\\n 2023-06-03T07: 56: 56.000Z\\n 2023-06-03T07: 59: 24.000Z\\n 5044  856008/02            03.06.23 09:56\\n         UST-ID-NR: DE813388858\", 'ocr_confidence': 95.16, 'width': 772, 'height': 2082, 'avg_char_width': 18.2383, 'avg_line_height': 33.4237, 'conf_amount': 83, 'source_locations': {'date': [[{'y': 2088, 'x': 542}, {'y': 2084, 'x': 809}, {'y': 2119, 'x': 809}, {'y': 2123, 'x': 542}]], 'total': [[{'y': 1276, 'x': 656}, {'y': 1276, 'x': 754}, {'y': 1312, 'x': 754}, {'y': 1312, 'x': 656}]], 'receipt_no': [[{'y': 2132, 'x': 404}, {'y': 2127, 'x': 615}, {'y': 2162, 'x': 616}, {'y': 2167, 'x': 405}]], 'merchant_name': [[{'y': 147, 'x': 232}, {'y': 158, 'x': 614}, {'y': 198, 'x': 613}, {'y': 187, 'x': 231}]], 'doc': [[{'y': -12, 'x': -15}, {'y': -25, 'x': 834}, {'y': 2264, 'x': 870}, {'y': 2278, 'x': 20}]], 'merchant_address': [[{'y': 196, 'x': 214}, {'y': 202, 'x': 637}, {'y': 255, 'x': 636}, {'y': 249, 'x': 214}]]}}]}\n",
      "items:  [{'amount': 1.19, 'category': None, 'description': 'Bananen kg', 'flags': ' A', 'qty': None, 'remarks': None, 'tags': None, 'unitPrice': None}, {'amount': 2.99, 'category': None, 'description': 'Nektarinen', 'flags': ' A', 'qty': None, 'remarks': None, 'tags': None, 'unitPrice': None}, {'amount': 1.79, 'category': None, 'description': 'Del.Kochschinken', 'flags': ' A', 'qty': None, 'remarks': None, 'tags': None, 'unitPrice': None}, {'amount': 0.89, 'category': None, 'description': 'Apfelmus gezuckert', 'flags': ' A', 'qty': None, 'remarks': None, 'tags': None, 'unitPrice': None}, {'amount': 0.99, 'category': None, 'description': 'Junge Brechbohnen', 'flags': ' A', 'qty': None, 'remarks': None, 'tags': None, 'unitPrice': None}, {'amount': 4.05, 'category': None, 'description': 'Toilettenpapier 31g', 'flags': ' B', 'qty': None, 'remarks': None, 'tags': None, 'unitPrice': None}, {'amount': 2.85, 'category': None, 'description': 'Küchentücher', 'flags': ' B', 'qty': None, 'remarks': None, 'tags': None, 'unitPrice': None}, {'amount': 0.65, 'category': None, 'description': 'Per.Tragetasche', 'flags': ' B', 'qty': None, 'remarks': None, 'tags': None, 'unitPrice': None}, {'amount': 1.95, 'category': None, 'description': 'Hygienespray Univer', 'flags': ' B', 'qty': None, 'remarks': None, 'tags': None, 'unitPrice': None}, {'amount': 0.75, 'category': None, 'description': 'Topfschwamm', 'flags': ' B', 'qty': None, 'remarks': None, 'tags': None, 'unitPrice': None}, {'amount': 1.89, 'category': None, 'description': 'Abfallsäcke 601 25er', 'flags': ' B', 'qty': None, 'remarks': None, 'tags': None, 'unitPrice': None}, {'amount': 1.99, 'category': None, 'description': 'Allzweckrein. Tü', 'flags': ' B', 'qty': None, 'remarks': None, 'tags': None, 'unitPrice': None}, {'amount': 9.99, 'category': None, 'description': \"Frischhalt '0384936\", 'flags': ' B', 'qty': None, 'remarks': None, 'tags': None, 'unitPrice': None}, {'amount': 31.97, 'category': None, 'description': 'zu zahlen', 'flags': '', 'qty': None, 'remarks': None, 'tags': None, 'unitPrice': None}, {'amount': 31.97, 'category': None, 'description': 'Kreditkarte', 'flags': '', 'qty': None, 'remarks': None, 'tags': None, 'unitPrice': None}, {'amount': 7.85, 'category': None, 'description': 'A 7%0,517,34', 'flags': '', 'qty': None, 'remarks': None, 'tags': None, 'unitPrice': None}, {'amount': 24.12, 'category': None, 'description': 'B 19 %3,8520,27', 'flags': '', 'qty': None, 'remarks': None, 'tags': None, 'unitPrice': None}]\n",
      "total:  [36.8, 11.25, 31.97]\n",
      "Description :  Banane kg\n",
      "Description :  Nectarine\n",
      "Description :  Del.Koch Ham\n",
      "Description :  Sauce de pomme sugared\n",
      "Description :  Jeunes haricots\n",
      "Description :  Papier toilette 31g\n",
      "Description :  Torchons de cuisine\n",
      "Description :  Par\n",
      "Description :  Hygienespray Univer\n",
      "Description :  Éponge\n",
      "Description :  Sacs à déchets 601 25\n",
      "Description :  Tous -purpose propre.Tü\n",
      "Description :  Fresh Hold '0384936\n",
      "Description :  payer\n",
      "Description :  Carte de crédit\n",
      "Description :  Un 7% 0,517,34\n",
      "Description :  B 19% 3 8520,27\n",
      "[{'amount': 1.19, 'category': None, 'description': 'Banane kg', 'flags': ' A', 'qty': None, 'remarks': None, 'tags': None, 'unitPrice': None, 'merchant_name': 'Müllerstraße 48-48a', 'country': 'DE', 'date': '09:56-2023-06-03'}, {'amount': 2.99, 'category': None, 'description': 'Nectarine', 'flags': ' A', 'qty': None, 'remarks': None, 'tags': None, 'unitPrice': None, 'merchant_name': 'Müllerstraße 48-48a', 'country': 'DE', 'date': '09:56-2023-06-03'}, {'amount': 1.79, 'category': None, 'description': 'Del.Koch Ham', 'flags': ' A', 'qty': None, 'remarks': None, 'tags': None, 'unitPrice': None, 'merchant_name': 'Müllerstraße 48-48a', 'country': 'DE', 'date': '09:56-2023-06-03'}, {'amount': 0.89, 'category': None, 'description': 'Sauce de pomme sugared', 'flags': ' A', 'qty': None, 'remarks': None, 'tags': None, 'unitPrice': None, 'merchant_name': 'Müllerstraße 48-48a', 'country': 'DE', 'date': '09:56-2023-06-03'}, {'amount': 0.99, 'category': None, 'description': 'Jeunes haricots', 'flags': ' A', 'qty': None, 'remarks': None, 'tags': None, 'unitPrice': None, 'merchant_name': 'Müllerstraße 48-48a', 'country': 'DE', 'date': '09:56-2023-06-03'}, {'amount': 4.05, 'category': None, 'description': 'Papier toilette 31g', 'flags': ' B', 'qty': None, 'remarks': None, 'tags': None, 'unitPrice': None, 'merchant_name': 'Müllerstraße 48-48a', 'country': 'DE', 'date': '09:56-2023-06-03'}, {'amount': 2.85, 'category': None, 'description': 'Torchons de cuisine', 'flags': ' B', 'qty': None, 'remarks': None, 'tags': None, 'unitPrice': None, 'merchant_name': 'Müllerstraße 48-48a', 'country': 'DE', 'date': '09:56-2023-06-03'}, {'amount': 0.65, 'category': None, 'description': 'Par', 'flags': ' B', 'qty': None, 'remarks': None, 'tags': None, 'unitPrice': None, 'merchant_name': 'Müllerstraße 48-48a', 'country': 'DE', 'date': '09:56-2023-06-03'}, {'amount': 1.95, 'category': None, 'description': 'Hygienespray Univer', 'flags': ' B', 'qty': None, 'remarks': None, 'tags': None, 'unitPrice': None, 'merchant_name': 'Müllerstraße 48-48a', 'country': 'DE', 'date': '09:56-2023-06-03'}, {'amount': 0.75, 'category': None, 'description': 'Éponge', 'flags': ' B', 'qty': None, 'remarks': None, 'tags': None, 'unitPrice': None, 'merchant_name': 'Müllerstraße 48-48a', 'country': 'DE', 'date': '09:56-2023-06-03'}, {'amount': 1.89, 'category': None, 'description': 'Sacs à déchets 601 25', 'flags': ' B', 'qty': None, 'remarks': None, 'tags': None, 'unitPrice': None, 'merchant_name': 'Müllerstraße 48-48a', 'country': 'DE', 'date': '09:56-2023-06-03'}, {'amount': 1.99, 'category': None, 'description': 'Tous -purpose propre.Tü', 'flags': ' B', 'qty': None, 'remarks': None, 'tags': None, 'unitPrice': None, 'merchant_name': 'Müllerstraße 48-48a', 'country': 'DE', 'date': '09:56-2023-06-03'}, {'amount': 9.99, 'category': None, 'description': \"Fresh Hold '0384936\", 'flags': ' B', 'qty': None, 'remarks': None, 'tags': None, 'unitPrice': None, 'merchant_name': 'Müllerstraße 48-48a', 'country': 'DE', 'date': '09:56-2023-06-03'}]\n",
      "{'ocr_type': 'receipts', 'request_id': 'P_92.184.117.81_lj1wnslk_cvi', 'ref_no': 'ocr_python_123', 'file_name': 'lidl-03-06-23.jpg', 'request_received_on': 1687121634441, 'success': True, 'image_width': 845, 'image_height': 2200, 'image_rotation': 0.014, 'recognition_completed_on': 1687121634987, 'receipts': [{'merchant_name': 'LIDL Müllerstraße 48-48a', 'merchant_address': '13349 Berlin-Wedding', 'merchant_phone': None, 'merchant_website': None, 'merchant_tax_reg_no': None, 'merchant_company_reg_no': None, 'region': None, 'mall': None, 'country': 'DE', 'receipt_no': 'DE813388858', 'date': '2023-06-03', 'time': '20:45', 'items': [{'amount': 1.01, 'category': None, 'description': 'TomateStrau. kg', 'flags': ' A', 'qty': None, 'remarks': None, 'tags': None, 'unitPrice': None}, {'amount': 0.95, 'category': None, 'description': 'Eisbergsalat', 'flags': ' A', 'qty': None, 'remarks': None, 'tags': None, 'unitPrice': None}, {'amount': 1.99, 'category': None, 'description': 'Asiatisches Gemüse', 'flags': ' A', 'qty': None, 'remarks': None, 'tags': None, 'unitPrice': None}, {'amount': 0.99, 'category': None, 'description': 'Mozzarella', 'flags': ' A', 'qty': None, 'remarks': None, 'tags': None, 'unitPrice': None}, {'amount': 1.05, 'category': None, 'description': 'H-Milch 1,5% OGT', 'flags': ' A', 'qty': None, 'remarks': None, 'tags': None, 'unitPrice': None}, {'amount': 0.89, 'category': None, 'description': 'Spaghetti XXL', 'flags': ' A', 'qty': None, 'remarks': None, 'tags': None, 'unitPrice': None}, {'amount': 2.29, 'category': None, 'description': 'Bio Eter', 'flags': ' A', 'qty': None, 'remarks': None, 'tags': None, 'unitPrice': None}, {'amount': 3.19, 'category': None, 'description': 'Lebensmittel', 'flags': ' A', 'qty': None, 'remarks': None, 'tags': None, 'unitPrice': None}, {'amount': 1.99, 'category': None, 'description': 'Mehrfrucht-Karotten', 'flags': ' B', 'qty': None, 'remarks': None, 'tags': None, 'unitPrice': None}, {'amount': 2.39, 'category': None, 'description': 'Cashewkerne 200g', 'flags': ' A', 'qty': None, 'remarks': None, 'tags': None, 'unitPrice': None}, {'amount': 2.19, 'category': None, 'description': 'Cranberries getrock', 'flags': ' A', 'qty': None, 'remarks': None, 'tags': None, 'unitPrice': None}, {'amount': 3.99, 'category': None, 'description': 'Hähnchen-Geschn', 'flags': ' A', 'qty': None, 'remarks': None, 'tags': None, 'unitPrice': None}, {'amount': 4.89, 'category': None, 'description': 'Rinderhack 500g', 'flags': ' A', 'qty': None, 'remarks': None, 'tags': None, 'unitPrice': None}, {'amount': 27.81, 'category': None, 'description': 'zu zahlen', 'flags': '', 'qty': None, 'remarks': None, 'tags': None, 'unitPrice': None}, {'amount': 27.81, 'category': None, 'description': 'Kreditkarte', 'flags': '', 'qty': None, 'remarks': None, 'tags': None, 'unitPrice': None}, {'amount': 25.82, 'category': None, 'description': 'A 7%1,6924,13', 'flags': '', 'qty': None, 'remarks': None, 'tags': None, 'unitPrice': None}, {'amount': 1.99, 'category': None, 'description': 'B 19 %0,321,67', 'flags': '', 'qty': None, 'remarks': None, 'tags': None, 'unitPrice': None}], 'currency': 'EUR', 'total': 27.81, 'subtotal': None, 'tax': None, 'service_charge': None, 'tip': None, 'payment_method': None, 'payment_details': None, 'credit_card_type': None, 'credit_card_number': None, 'ocr_text': '                 LIDL\\n           Müllerstraße 48-48a\\n           13349 Berlin-Wedding\\n                                     EUR\\n TomateStrau. kg                    1,01 A\\n  0,650 kg x 1,55 EUR/kg\\n Eisbergsalat                       0,95 A\\n Asiatisches Gemüse                 1,99 A\\n Mozzarella                         0,99 A\\n H-Milch 1,5% OGT                   1,05 A\\n Spaghetti XXL                      0,89 A\\n Bio Eter                           2,29 A\\n Lebensmittel                       3,19 A\\n Mehrfrucht-Karotten                1,99 B\\n Cashewkerne 200g                   2,39 A\\n Cranberries getrock.               2,19 A\\n Hähnchen-Geschn.                   3,99 A\\n Rinderhack 500g                    4,89 A\\n zu zahlen                         27,81\\n Kreditkarte                       27,81\\n  MWSTX       MWST + Netto = Brutto\\n A 7%         1,69      24,13      25,82\\n B 19 %       0,32       1,67       1,99\\n Summe        2,01      25,80      27,81\\n    Lade dir die Lidl Plus App herunter\\n und spare bei deinem nächsten Einkauf.\\n TSE Transaktionsnummer: 338801\\n Seriennr. Kasse: LDL-000-5044-1\\n Prüfwert: qE12zAxwovpxhiSSy3tKfgJ7UksPbZFM\\n JhpZtZN9NFYPR/bwsq19FPRgCDSuNq3stsKVYv9wxD\\n KOK5ZhFN/2fSG83a0ma3fhgYHeLHqo16B1KdphEScv\\n EraqQ7MW1zoZ\\n Signaturzähler: 687029\\n 2023-06-03T18: 45: 11.000Z\\n  2023-06-03T18: 48: 54.00OZ\\n  5044 751211/01             03.06.23 20:45\\n           UST-ID-NR: DE813388858', 'ocr_confidence': 95.74, 'width': 787, 'height': 2089, 'avg_char_width': 18.4393, 'avg_line_height': 33.1418, 'conf_amount': 83, 'source_locations': {'date': [[{'y': 2090, 'x': 545}, {'y': 2094, 'x': 822}, {'y': 2132, 'x': 822}, {'y': 2128, 'x': 544}]], 'total': [[{'y': 1265, 'x': 664}, {'y': 1267, 'x': 765}, {'y': 1304, 'x': 764}, {'y': 1302, 'x': 663}]], 'receipt_no': [[{'y': 2132, 'x': 402}, {'y': 2133, 'x': 619}, {'y': 2167, 'x': 618}, {'y': 2166, 'x': 402}]], 'merchant_name': [[{'y': 78, 'x': 350}, {'y': 78, 'x': 536}, {'y': 134, 'x': 536}, {'y': 134, 'x': 350}], [{'y': 137, 'x': 239}, {'y': 143, 'x': 623}, {'y': 180, 'x': 622}, {'y': 174, 'x': 238}]], 'doc': [[{'y': -32, 'x': 14}, {'y': -20, 'x': 879}, {'y': 2277, 'x': 846}, {'y': 2265, 'x': -18}]], 'merchant_address': [[{'y': 183, 'x': 223}, {'y': 193, 'x': 643}, {'y': 233, 'x': 642}, {'y': 223, 'x': 222}]]}}]}\n",
      "items:  [{'amount': 1.01, 'category': None, 'description': 'TomateStrau. kg', 'flags': ' A', 'qty': None, 'remarks': None, 'tags': None, 'unitPrice': None}, {'amount': 0.95, 'category': None, 'description': 'Eisbergsalat', 'flags': ' A', 'qty': None, 'remarks': None, 'tags': None, 'unitPrice': None}, {'amount': 1.99, 'category': None, 'description': 'Asiatisches Gemüse', 'flags': ' A', 'qty': None, 'remarks': None, 'tags': None, 'unitPrice': None}, {'amount': 0.99, 'category': None, 'description': 'Mozzarella', 'flags': ' A', 'qty': None, 'remarks': None, 'tags': None, 'unitPrice': None}, {'amount': 1.05, 'category': None, 'description': 'H-Milch 1,5% OGT', 'flags': ' A', 'qty': None, 'remarks': None, 'tags': None, 'unitPrice': None}, {'amount': 0.89, 'category': None, 'description': 'Spaghetti XXL', 'flags': ' A', 'qty': None, 'remarks': None, 'tags': None, 'unitPrice': None}, {'amount': 2.29, 'category': None, 'description': 'Bio Eter', 'flags': ' A', 'qty': None, 'remarks': None, 'tags': None, 'unitPrice': None}, {'amount': 3.19, 'category': None, 'description': 'Lebensmittel', 'flags': ' A', 'qty': None, 'remarks': None, 'tags': None, 'unitPrice': None}, {'amount': 1.99, 'category': None, 'description': 'Mehrfrucht-Karotten', 'flags': ' B', 'qty': None, 'remarks': None, 'tags': None, 'unitPrice': None}, {'amount': 2.39, 'category': None, 'description': 'Cashewkerne 200g', 'flags': ' A', 'qty': None, 'remarks': None, 'tags': None, 'unitPrice': None}, {'amount': 2.19, 'category': None, 'description': 'Cranberries getrock', 'flags': ' A', 'qty': None, 'remarks': None, 'tags': None, 'unitPrice': None}, {'amount': 3.99, 'category': None, 'description': 'Hähnchen-Geschn', 'flags': ' A', 'qty': None, 'remarks': None, 'tags': None, 'unitPrice': None}, {'amount': 4.89, 'category': None, 'description': 'Rinderhack 500g', 'flags': ' A', 'qty': None, 'remarks': None, 'tags': None, 'unitPrice': None}, {'amount': 27.81, 'category': None, 'description': 'zu zahlen', 'flags': '', 'qty': None, 'remarks': None, 'tags': None, 'unitPrice': None}, {'amount': 27.81, 'category': None, 'description': 'Kreditkarte', 'flags': '', 'qty': None, 'remarks': None, 'tags': None, 'unitPrice': None}, {'amount': 25.82, 'category': None, 'description': 'A 7%1,6924,13', 'flags': '', 'qty': None, 'remarks': None, 'tags': None, 'unitPrice': None}, {'amount': 1.99, 'category': None, 'description': 'B 19 %0,321,67', 'flags': '', 'qty': None, 'remarks': None, 'tags': None, 'unitPrice': None}]\n",
      "total:  [36.8, 11.25, 31.97, 27.81]\n",
      "Description :  Tomatestrau.kg\n",
      "Description :  Salade d'iceberg\n",
      "Description :  Légumes asiatiques\n",
      "Description :  Mozzarella\n",
      "Description :  H-lait H, 1,5% OGT\n",
      "Description :  Spaghetti xxl\n",
      "Description :  Était un éther\n",
      "Description :  Épiceries\n",
      "Description :  Carotte multi-fruits\n",
      "Description :  Caswwkerne 200g\n",
      "Description :  Canneberges getrock\n",
      "Description :  Poulet\n",
      "Description :  Hack de bétail 500g\n",
      "Description :  payer\n",
      "Description :  Carte de crédit\n",
      "Description :  Un 7% 1 6924,13\n",
      "Description :  B 19% 0,321,67\n",
      "[{'amount': 1.19, 'category': None, 'description': 'Banane kg', 'flags': ' A', 'qty': None, 'remarks': None, 'tags': None, 'unitPrice': None, 'merchant_name': 'Müllerstraße 48-48a', 'country': 'DE', 'date': '09:56-2023-06-03'}, {'amount': 2.99, 'category': None, 'description': 'Nectarine', 'flags': ' A', 'qty': None, 'remarks': None, 'tags': None, 'unitPrice': None, 'merchant_name': 'Müllerstraße 48-48a', 'country': 'DE', 'date': '09:56-2023-06-03'}, {'amount': 1.79, 'category': None, 'description': 'Del.Koch Ham', 'flags': ' A', 'qty': None, 'remarks': None, 'tags': None, 'unitPrice': None, 'merchant_name': 'Müllerstraße 48-48a', 'country': 'DE', 'date': '09:56-2023-06-03'}, {'amount': 0.89, 'category': None, 'description': 'Sauce de pomme sugared', 'flags': ' A', 'qty': None, 'remarks': None, 'tags': None, 'unitPrice': None, 'merchant_name': 'Müllerstraße 48-48a', 'country': 'DE', 'date': '09:56-2023-06-03'}, {'amount': 0.99, 'category': None, 'description': 'Jeunes haricots', 'flags': ' A', 'qty': None, 'remarks': None, 'tags': None, 'unitPrice': None, 'merchant_name': 'Müllerstraße 48-48a', 'country': 'DE', 'date': '09:56-2023-06-03'}, {'amount': 4.05, 'category': None, 'description': 'Papier toilette 31g', 'flags': ' B', 'qty': None, 'remarks': None, 'tags': None, 'unitPrice': None, 'merchant_name': 'Müllerstraße 48-48a', 'country': 'DE', 'date': '09:56-2023-06-03'}, {'amount': 2.85, 'category': None, 'description': 'Torchons de cuisine', 'flags': ' B', 'qty': None, 'remarks': None, 'tags': None, 'unitPrice': None, 'merchant_name': 'Müllerstraße 48-48a', 'country': 'DE', 'date': '09:56-2023-06-03'}, {'amount': 0.65, 'category': None, 'description': 'Par', 'flags': ' B', 'qty': None, 'remarks': None, 'tags': None, 'unitPrice': None, 'merchant_name': 'Müllerstraße 48-48a', 'country': 'DE', 'date': '09:56-2023-06-03'}, {'amount': 1.95, 'category': None, 'description': 'Hygienespray Univer', 'flags': ' B', 'qty': None, 'remarks': None, 'tags': None, 'unitPrice': None, 'merchant_name': 'Müllerstraße 48-48a', 'country': 'DE', 'date': '09:56-2023-06-03'}, {'amount': 0.75, 'category': None, 'description': 'Éponge', 'flags': ' B', 'qty': None, 'remarks': None, 'tags': None, 'unitPrice': None, 'merchant_name': 'Müllerstraße 48-48a', 'country': 'DE', 'date': '09:56-2023-06-03'}, {'amount': 1.89, 'category': None, 'description': 'Sacs à déchets 601 25', 'flags': ' B', 'qty': None, 'remarks': None, 'tags': None, 'unitPrice': None, 'merchant_name': 'Müllerstraße 48-48a', 'country': 'DE', 'date': '09:56-2023-06-03'}, {'amount': 1.99, 'category': None, 'description': 'Tous -purpose propre.Tü', 'flags': ' B', 'qty': None, 'remarks': None, 'tags': None, 'unitPrice': None, 'merchant_name': 'Müllerstraße 48-48a', 'country': 'DE', 'date': '09:56-2023-06-03'}, {'amount': 9.99, 'category': None, 'description': \"Fresh Hold '0384936\", 'flags': ' B', 'qty': None, 'remarks': None, 'tags': None, 'unitPrice': None, 'merchant_name': 'Müllerstraße 48-48a', 'country': 'DE', 'date': '09:56-2023-06-03'}, {'amount': 1.01, 'category': None, 'description': 'Tomatestrau.kg', 'flags': ' A', 'qty': None, 'remarks': None, 'tags': None, 'unitPrice': None, 'merchant_name': 'LIDL Müllerstraße 48-48a', 'country': 'DE', 'date': '20:45-2023-06-03'}, {'amount': 0.95, 'category': None, 'description': \"Salade d'iceberg\", 'flags': ' A', 'qty': None, 'remarks': None, 'tags': None, 'unitPrice': None, 'merchant_name': 'LIDL Müllerstraße 48-48a', 'country': 'DE', 'date': '20:45-2023-06-03'}, {'amount': 1.99, 'category': None, 'description': 'Légumes asiatiques', 'flags': ' A', 'qty': None, 'remarks': None, 'tags': None, 'unitPrice': None, 'merchant_name': 'LIDL Müllerstraße 48-48a', 'country': 'DE', 'date': '20:45-2023-06-03'}, {'amount': 0.99, 'category': None, 'description': 'Mozzarella', 'flags': ' A', 'qty': None, 'remarks': None, 'tags': None, 'unitPrice': None, 'merchant_name': 'LIDL Müllerstraße 48-48a', 'country': 'DE', 'date': '20:45-2023-06-03'}, {'amount': 1.05, 'category': None, 'description': 'H-lait H, 1,5% OGT', 'flags': ' A', 'qty': None, 'remarks': None, 'tags': None, 'unitPrice': None, 'merchant_name': 'LIDL Müllerstraße 48-48a', 'country': 'DE', 'date': '20:45-2023-06-03'}, {'amount': 0.89, 'category': None, 'description': 'Spaghetti xxl', 'flags': ' A', 'qty': None, 'remarks': None, 'tags': None, 'unitPrice': None, 'merchant_name': 'LIDL Müllerstraße 48-48a', 'country': 'DE', 'date': '20:45-2023-06-03'}, {'amount': 2.29, 'category': None, 'description': 'Était un éther', 'flags': ' A', 'qty': None, 'remarks': None, 'tags': None, 'unitPrice': None, 'merchant_name': 'LIDL Müllerstraße 48-48a', 'country': 'DE', 'date': '20:45-2023-06-03'}, {'amount': 3.19, 'category': None, 'description': 'Épiceries', 'flags': ' A', 'qty': None, 'remarks': None, 'tags': None, 'unitPrice': None, 'merchant_name': 'LIDL Müllerstraße 48-48a', 'country': 'DE', 'date': '20:45-2023-06-03'}, {'amount': 1.99, 'category': None, 'description': 'Carotte multi-fruits', 'flags': ' B', 'qty': None, 'remarks': None, 'tags': None, 'unitPrice': None, 'merchant_name': 'LIDL Müllerstraße 48-48a', 'country': 'DE', 'date': '20:45-2023-06-03'}, {'amount': 2.39, 'category': None, 'description': 'Caswwkerne 200g', 'flags': ' A', 'qty': None, 'remarks': None, 'tags': None, 'unitPrice': None, 'merchant_name': 'LIDL Müllerstraße 48-48a', 'country': 'DE', 'date': '20:45-2023-06-03'}, {'amount': 2.19, 'category': None, 'description': 'Canneberges getrock', 'flags': ' A', 'qty': None, 'remarks': None, 'tags': None, 'unitPrice': None, 'merchant_name': 'LIDL Müllerstraße 48-48a', 'country': 'DE', 'date': '20:45-2023-06-03'}, {'amount': 3.99, 'category': None, 'description': 'Poulet', 'flags': ' A', 'qty': None, 'remarks': None, 'tags': None, 'unitPrice': None, 'merchant_name': 'LIDL Müllerstraße 48-48a', 'country': 'DE', 'date': '20:45-2023-06-03'}, {'amount': 4.89, 'category': None, 'description': 'Hack de bétail 500g', 'flags': ' A', 'qty': None, 'remarks': None, 'tags': None, 'unitPrice': None, 'merchant_name': 'LIDL Müllerstraße 48-48a', 'country': 'DE', 'date': '20:45-2023-06-03'}]\n",
      "{'ocr_type': 'receipts', 'request_id': 'P_92.184.117.81_lj1wntu3_adt', 'ref_no': 'ocr_python_123', 'file_name': 'lidl-07-06-23.jpg', 'request_received_on': 1687121636044, 'success': True, 'image_width': 747, 'image_height': 2200, 'image_rotation': 0.015, 'recognition_completed_on': 1687121636722, 'receipts': [{'merchant_name': 'LIDL Müllerstraße 48-48a', 'merchant_address': '13349 Berlin-Wedding', 'merchant_phone': None, 'merchant_website': None, 'merchant_tax_reg_no': None, 'merchant_company_reg_no': None, 'region': None, 'mall': None, 'country': 'DE', 'receipt_no': 'DE813388858', 'date': '2023-06-07', 'time': '19:32', 'items': [{'amount': 1.83, 'category': None, 'description': 'TomateStrau. kg', 'flags': ' A', 'qty': None, 'remarks': None, 'tags': None, 'unitPrice': None}, {'amount': 1.99, 'category': None, 'description': 'Feinschmeckergemüse', 'flags': ' A', 'qty': None, 'remarks': None, 'tags': None, 'unitPrice': None}, {'amount': 1.99, 'category': None, 'description': 'Mexikanisches Gemüse', 'flags': ' A', 'qty': None, 'remarks': None, 'tags': None, 'unitPrice': None}, {'amount': 3.49, 'category': None, 'description': 'Nasi Goreng', 'flags': ' A', 'qty': None, 'remarks': None, 'tags': None, 'unitPrice': None}, {'amount': 1.98, 'category': None, 'description': 'Mozzarella light0,992', 'flags': ' A', 'qty': None, 'remarks': None, 'tags': None, 'unitPrice': None}, {'amount': 2.99, 'category': None, 'description': 'Gouda Scheiben', 'flags': ' A', 'qty': None, 'remarks': None, 'tags': None, 'unitPrice': None}, {'amount': 4.99, 'category': None, 'description': 'Olivenöl Extra', 'flags': ' A', 'qty': None, 'remarks': None, 'tags': None, 'unitPrice': None}, {'amount': 0.95, 'category': None, 'description': 'Bio Haferflocken', 'flags': ' A', 'qty': None, 'remarks': None, 'tags': None, 'unitPrice': None}, {'amount': 1.39, 'category': None, 'description': 'Erdbeer-Konfitüre', 'flags': ' A', 'qty': None, 'remarks': None, 'tags': None, 'unitPrice': None}, {'amount': 1.19, 'category': None, 'description': 'Maccronelli', 'flags': ' A', 'qty': None, 'remarks': None, 'tags': None, 'unitPrice': None}, {'amount': 2.99, 'category': None, 'description': 'Basmati Reis', 'flags': ' A', 'qty': None, 'remarks': None, 'tags': None, 'unitPrice': None}, {'amount': 1.05, 'category': None, 'description': 'H-Milch 1,5% OGT', 'flags': ' A', 'qty': None, 'remarks': None, 'tags': None, 'unitPrice': None}, {'amount': 0.85, 'category': None, 'description': 'Gehackte Tomaten', 'flags': ' A', 'qty': None, 'remarks': None, 'tags': None, 'unitPrice': None}, {'amount': 0.89, 'category': None, 'description': 'Apfelmus gezuckert', 'flags': ' A', 'qty': None, 'remarks': None, 'tags': None, 'unitPrice': None}, {'amount': 2.49, 'category': None, 'description': 'FUEGO Tortillas Clas', 'flags': ' A', 'qty': None, 'remarks': None, 'tags': None, 'unitPrice': None}, {'amount': 0.75, 'category': None, 'description': 'Traube-Nuß Sch. 100g', 'flags': ' A', 'qty': None, 'remarks': None, 'tags': None, 'unitPrice': None}, {'amount': 5.49, 'category': None, 'description': 'Snackmandeln XXL', 'flags': ' A', 'qty': None, 'remarks': None, 'tags': None, 'unitPrice': None}, {'amount': 1.15, 'category': None, 'description': 'Schwammtuch 5er', 'flags': ' B', 'qty': None, 'remarks': None, 'tags': None, 'unitPrice': None}, {'amount': 1.35, 'category': None, 'description': 'Frischhaltefolie', 'flags': ' B', 'qty': None, 'remarks': None, 'tags': None, 'unitPrice': None}, {'amount': 1.95, 'category': None, 'description': 'Gefrierbeutel', 'flags': ' B', 'qty': None, 'remarks': None, 'tags': None, 'unitPrice': None}, {'amount': 41.75, 'category': None, 'description': 'zu zahlen', 'flags': '', 'qty': None, 'remarks': None, 'tags': None, 'unitPrice': None}, {'amount': 41.75, 'category': None, 'description': 'Kreditkarte', 'flags': '', 'qty': None, 'remarks': None, 'tags': None, 'unitPrice': None}, {'amount': 37.3, 'category': None, 'description': 'A 7%2,4434,86', 'flags': '', 'qty': None, 'remarks': None, 'tags': None, 'unitPrice': None}, {'amount': 4.45, 'category': None, 'description': 'B 19 %0,713,74', 'flags': '', 'qty': None, 'remarks': None, 'tags': None, 'unitPrice': None}], 'currency': 'EUR', 'total': 41.75, 'subtotal': None, 'tax': None, 'service_charge': None, 'tip': None, 'payment_method': None, 'payment_details': None, 'credit_card_type': None, 'credit_card_number': None, 'ocr_text': '                 LIDL\\n           Müllerstraße 48-48a\\n          13349 Berlin-Wedding\\n                                    EUR\\n TomateStrau. kg                   1,83 A\\n  1,416 kg x 1,29 EUR/kg\\n Feinschmeckergemüse                1,99 A\\n Mexikanisches Gemüse               1,99 A\\n Nasi Goreng                       3,49 A\\n Mozzarella light     0,99     2     1,98 A\\n Gouda Scheiben                    2,99 A\\n Olivenöl Extra                    4,99 A\\n Bio Haferflocken                  0,95 A\\n Erdbeer-Konfitüre                  1,39 A\\n Maccronelli                        1,19 A\\n Basmati Reis                       2,99 A\\n H-Milch 1,5% OGT                   1,05 A\\n Gehackte Tomaten                   0,85 A\\n Apfelmus gezuckert                 0,89 A\\n FUEGO Tortillas Clas               2,49 A\\n Traube-Nuß Sch. 100g               0,75 A\\n Snackmandeln XXL                   5,49 A\\n Schwammtuch 5er                    1,15 B\\n Frischhaltefolie                   1,35 B\\n Gefrierbeutel                      1,95 B\\n zu zahlen                         41,75\\n Kreditkarte                       41.75\\n  MWSTX       MWST +    Netto = Brutto\\n A 7%         2,44      34,86      37,30\\n B 19 %       0,71       3,74       4,45\\n Summe        3,15      38,60      41,75\\n    Lade dir die Lidl Plus App herunter\\n  und spare bei deinem nächsten Einkauf.\\n TSE Transaktionsnummer: 344943\\n Seriennr. Kasse: LDL-000-5044-2\\n Prüfwert: wQ80nZVIf2c4tUwD1EKq6HYxj + nUGgF/\\n 2ux4018alt3CJkYr/EaJ34ngLQq + SekebsNqz3Lj/z\\n WSVUDOKUxaGWbcCGFeWuWSTnQL + HqWObrMcPFhRp14\\n HylorGU8M1Kf\\n Signaturzähler: 699490\\n 2023-06-07T17: 32: 26.000Z\\n 2023-06-07T17: 33: 34.000Z\\n 5044 858600/02              07.06.23 19:32\\n          UST-ID-NR: DE813388858', 'ocr_confidence': 95.43, 'width': 703, 'height': 2138, 'avg_char_width': 16.2142, 'avg_line_height': 30.1954, 'conf_amount': 83, 'source_locations': {'date': [[{'y': 2113, 'x': 482}, {'y': 2117, 'x': 734}, {'y': 2154, 'x': 734}, {'y': 2150, 'x': 482}]], 'total': [[{'y': 1376, 'x': 591}, {'y': 1376, 'x': 680}, {'y': 1406, 'x': 680}, {'y': 1406, 'x': 590}]], 'receipt_no': [[{'y': 2159, 'x': 353}, {'y': 2156, 'x': 550}, {'y': 2190, 'x': 549}, {'y': 2193, 'x': 354}]], 'merchant_name': [[{'y': 57, 'x': 313}, {'y': 59, 'x': 478}, {'y': 108, 'x': 477}, {'y': 106, 'x': 312}], [{'y': 110, 'x': 217}, {'y': 117, 'x': 553}, {'y': 152, 'x': 552}, {'y': 145, 'x': 216}]], 'doc': [[{'y': -52, 'x': 18}, {'y': -41, 'x': 791}, {'y': 2310, 'x': 755}, {'y': 2298, 'x': -17}]], 'merchant_address': [[{'y': 150, 'x': 201}, {'y': 162, 'x': 570}, {'y': 197, 'x': 569}, {'y': 186, 'x': 200}]]}}]}\n",
      "items:  [{'amount': 1.83, 'category': None, 'description': 'TomateStrau. kg', 'flags': ' A', 'qty': None, 'remarks': None, 'tags': None, 'unitPrice': None}, {'amount': 1.99, 'category': None, 'description': 'Feinschmeckergemüse', 'flags': ' A', 'qty': None, 'remarks': None, 'tags': None, 'unitPrice': None}, {'amount': 1.99, 'category': None, 'description': 'Mexikanisches Gemüse', 'flags': ' A', 'qty': None, 'remarks': None, 'tags': None, 'unitPrice': None}, {'amount': 3.49, 'category': None, 'description': 'Nasi Goreng', 'flags': ' A', 'qty': None, 'remarks': None, 'tags': None, 'unitPrice': None}, {'amount': 1.98, 'category': None, 'description': 'Mozzarella light0,992', 'flags': ' A', 'qty': None, 'remarks': None, 'tags': None, 'unitPrice': None}, {'amount': 2.99, 'category': None, 'description': 'Gouda Scheiben', 'flags': ' A', 'qty': None, 'remarks': None, 'tags': None, 'unitPrice': None}, {'amount': 4.99, 'category': None, 'description': 'Olivenöl Extra', 'flags': ' A', 'qty': None, 'remarks': None, 'tags': None, 'unitPrice': None}, {'amount': 0.95, 'category': None, 'description': 'Bio Haferflocken', 'flags': ' A', 'qty': None, 'remarks': None, 'tags': None, 'unitPrice': None}, {'amount': 1.39, 'category': None, 'description': 'Erdbeer-Konfitüre', 'flags': ' A', 'qty': None, 'remarks': None, 'tags': None, 'unitPrice': None}, {'amount': 1.19, 'category': None, 'description': 'Maccronelli', 'flags': ' A', 'qty': None, 'remarks': None, 'tags': None, 'unitPrice': None}, {'amount': 2.99, 'category': None, 'description': 'Basmati Reis', 'flags': ' A', 'qty': None, 'remarks': None, 'tags': None, 'unitPrice': None}, {'amount': 1.05, 'category': None, 'description': 'H-Milch 1,5% OGT', 'flags': ' A', 'qty': None, 'remarks': None, 'tags': None, 'unitPrice': None}, {'amount': 0.85, 'category': None, 'description': 'Gehackte Tomaten', 'flags': ' A', 'qty': None, 'remarks': None, 'tags': None, 'unitPrice': None}, {'amount': 0.89, 'category': None, 'description': 'Apfelmus gezuckert', 'flags': ' A', 'qty': None, 'remarks': None, 'tags': None, 'unitPrice': None}, {'amount': 2.49, 'category': None, 'description': 'FUEGO Tortillas Clas', 'flags': ' A', 'qty': None, 'remarks': None, 'tags': None, 'unitPrice': None}, {'amount': 0.75, 'category': None, 'description': 'Traube-Nuß Sch. 100g', 'flags': ' A', 'qty': None, 'remarks': None, 'tags': None, 'unitPrice': None}, {'amount': 5.49, 'category': None, 'description': 'Snackmandeln XXL', 'flags': ' A', 'qty': None, 'remarks': None, 'tags': None, 'unitPrice': None}, {'amount': 1.15, 'category': None, 'description': 'Schwammtuch 5er', 'flags': ' B', 'qty': None, 'remarks': None, 'tags': None, 'unitPrice': None}, {'amount': 1.35, 'category': None, 'description': 'Frischhaltefolie', 'flags': ' B', 'qty': None, 'remarks': None, 'tags': None, 'unitPrice': None}, {'amount': 1.95, 'category': None, 'description': 'Gefrierbeutel', 'flags': ' B', 'qty': None, 'remarks': None, 'tags': None, 'unitPrice': None}, {'amount': 41.75, 'category': None, 'description': 'zu zahlen', 'flags': '', 'qty': None, 'remarks': None, 'tags': None, 'unitPrice': None}, {'amount': 41.75, 'category': None, 'description': 'Kreditkarte', 'flags': '', 'qty': None, 'remarks': None, 'tags': None, 'unitPrice': None}, {'amount': 37.3, 'category': None, 'description': 'A 7%2,4434,86', 'flags': '', 'qty': None, 'remarks': None, 'tags': None, 'unitPrice': None}, {'amount': 4.45, 'category': None, 'description': 'B 19 %0,713,74', 'flags': '', 'qty': None, 'remarks': None, 'tags': None, 'unitPrice': None}]\n",
      "total:  [36.8, 11.25, 31.97, 27.81, 41.75]\n",
      "Description :  Tomatestrau.kg\n",
      "Description :  Gourmet\n",
      "Description :  Légumes mexicains\n",
      "Description :  Riz sauté\n",
      "Description :  Mozzarella Light0,992\n",
      "Description :  Tranches de gouda\n",
      "Description :  Huile d'olive supplémentaire\n",
      "Description :  Gruau organique\n",
      "Description :  Confiture de fraise\n",
      "Description :  Macchronelli\n",
      "Description :  Mariage\n",
      "Description :  H-lait H, 1,5% OGT\n",
      "Description :  Tomates hachées\n",
      "Description :  Sauce de pomme sugared\n",
      "Description :  Clas de tortillas de feu\n",
      "Description :  Sch sch.100g\n",
      "Description :  Snackmandeln xxl\n",
      "Description :  Sashmich est bon\n",
      "Description :  Se cramponner\n",
      "Description :  sac de congé\n",
      "Description :  payer\n",
      "Description :  Carte de crédit\n",
      "Description :  Un 7% 2 4434,86\n",
      "Description :  B 19% 0,713,74\n",
      "[{'amount': 1.19, 'category': None, 'description': 'Banane kg', 'flags': ' A', 'qty': None, 'remarks': None, 'tags': None, 'unitPrice': None, 'merchant_name': 'Müllerstraße 48-48a', 'country': 'DE', 'date': '09:56-2023-06-03'}, {'amount': 2.99, 'category': None, 'description': 'Nectarine', 'flags': ' A', 'qty': None, 'remarks': None, 'tags': None, 'unitPrice': None, 'merchant_name': 'Müllerstraße 48-48a', 'country': 'DE', 'date': '09:56-2023-06-03'}, {'amount': 1.79, 'category': None, 'description': 'Del.Koch Ham', 'flags': ' A', 'qty': None, 'remarks': None, 'tags': None, 'unitPrice': None, 'merchant_name': 'Müllerstraße 48-48a', 'country': 'DE', 'date': '09:56-2023-06-03'}, {'amount': 0.89, 'category': None, 'description': 'Sauce de pomme sugared', 'flags': ' A', 'qty': None, 'remarks': None, 'tags': None, 'unitPrice': None, 'merchant_name': 'Müllerstraße 48-48a', 'country': 'DE', 'date': '09:56-2023-06-03'}, {'amount': 0.99, 'category': None, 'description': 'Jeunes haricots', 'flags': ' A', 'qty': None, 'remarks': None, 'tags': None, 'unitPrice': None, 'merchant_name': 'Müllerstraße 48-48a', 'country': 'DE', 'date': '09:56-2023-06-03'}, {'amount': 4.05, 'category': None, 'description': 'Papier toilette 31g', 'flags': ' B', 'qty': None, 'remarks': None, 'tags': None, 'unitPrice': None, 'merchant_name': 'Müllerstraße 48-48a', 'country': 'DE', 'date': '09:56-2023-06-03'}, {'amount': 2.85, 'category': None, 'description': 'Torchons de cuisine', 'flags': ' B', 'qty': None, 'remarks': None, 'tags': None, 'unitPrice': None, 'merchant_name': 'Müllerstraße 48-48a', 'country': 'DE', 'date': '09:56-2023-06-03'}, {'amount': 0.65, 'category': None, 'description': 'Par', 'flags': ' B', 'qty': None, 'remarks': None, 'tags': None, 'unitPrice': None, 'merchant_name': 'Müllerstraße 48-48a', 'country': 'DE', 'date': '09:56-2023-06-03'}, {'amount': 1.95, 'category': None, 'description': 'Hygienespray Univer', 'flags': ' B', 'qty': None, 'remarks': None, 'tags': None, 'unitPrice': None, 'merchant_name': 'Müllerstraße 48-48a', 'country': 'DE', 'date': '09:56-2023-06-03'}, {'amount': 0.75, 'category': None, 'description': 'Éponge', 'flags': ' B', 'qty': None, 'remarks': None, 'tags': None, 'unitPrice': None, 'merchant_name': 'Müllerstraße 48-48a', 'country': 'DE', 'date': '09:56-2023-06-03'}, {'amount': 1.89, 'category': None, 'description': 'Sacs à déchets 601 25', 'flags': ' B', 'qty': None, 'remarks': None, 'tags': None, 'unitPrice': None, 'merchant_name': 'Müllerstraße 48-48a', 'country': 'DE', 'date': '09:56-2023-06-03'}, {'amount': 1.99, 'category': None, 'description': 'Tous -purpose propre.Tü', 'flags': ' B', 'qty': None, 'remarks': None, 'tags': None, 'unitPrice': None, 'merchant_name': 'Müllerstraße 48-48a', 'country': 'DE', 'date': '09:56-2023-06-03'}, {'amount': 9.99, 'category': None, 'description': \"Fresh Hold '0384936\", 'flags': ' B', 'qty': None, 'remarks': None, 'tags': None, 'unitPrice': None, 'merchant_name': 'Müllerstraße 48-48a', 'country': 'DE', 'date': '09:56-2023-06-03'}, {'amount': 1.01, 'category': None, 'description': 'Tomatestrau.kg', 'flags': ' A', 'qty': None, 'remarks': None, 'tags': None, 'unitPrice': None, 'merchant_name': 'LIDL Müllerstraße 48-48a', 'country': 'DE', 'date': '20:45-2023-06-03'}, {'amount': 0.95, 'category': None, 'description': \"Salade d'iceberg\", 'flags': ' A', 'qty': None, 'remarks': None, 'tags': None, 'unitPrice': None, 'merchant_name': 'LIDL Müllerstraße 48-48a', 'country': 'DE', 'date': '20:45-2023-06-03'}, {'amount': 1.99, 'category': None, 'description': 'Légumes asiatiques', 'flags': ' A', 'qty': None, 'remarks': None, 'tags': None, 'unitPrice': None, 'merchant_name': 'LIDL Müllerstraße 48-48a', 'country': 'DE', 'date': '20:45-2023-06-03'}, {'amount': 0.99, 'category': None, 'description': 'Mozzarella', 'flags': ' A', 'qty': None, 'remarks': None, 'tags': None, 'unitPrice': None, 'merchant_name': 'LIDL Müllerstraße 48-48a', 'country': 'DE', 'date': '20:45-2023-06-03'}, {'amount': 1.05, 'category': None, 'description': 'H-lait H, 1,5% OGT', 'flags': ' A', 'qty': None, 'remarks': None, 'tags': None, 'unitPrice': None, 'merchant_name': 'LIDL Müllerstraße 48-48a', 'country': 'DE', 'date': '20:45-2023-06-03'}, {'amount': 0.89, 'category': None, 'description': 'Spaghetti xxl', 'flags': ' A', 'qty': None, 'remarks': None, 'tags': None, 'unitPrice': None, 'merchant_name': 'LIDL Müllerstraße 48-48a', 'country': 'DE', 'date': '20:45-2023-06-03'}, {'amount': 2.29, 'category': None, 'description': 'Était un éther', 'flags': ' A', 'qty': None, 'remarks': None, 'tags': None, 'unitPrice': None, 'merchant_name': 'LIDL Müllerstraße 48-48a', 'country': 'DE', 'date': '20:45-2023-06-03'}, {'amount': 3.19, 'category': None, 'description': 'Épiceries', 'flags': ' A', 'qty': None, 'remarks': None, 'tags': None, 'unitPrice': None, 'merchant_name': 'LIDL Müllerstraße 48-48a', 'country': 'DE', 'date': '20:45-2023-06-03'}, {'amount': 1.99, 'category': None, 'description': 'Carotte multi-fruits', 'flags': ' B', 'qty': None, 'remarks': None, 'tags': None, 'unitPrice': None, 'merchant_name': 'LIDL Müllerstraße 48-48a', 'country': 'DE', 'date': '20:45-2023-06-03'}, {'amount': 2.39, 'category': None, 'description': 'Caswwkerne 200g', 'flags': ' A', 'qty': None, 'remarks': None, 'tags': None, 'unitPrice': None, 'merchant_name': 'LIDL Müllerstraße 48-48a', 'country': 'DE', 'date': '20:45-2023-06-03'}, {'amount': 2.19, 'category': None, 'description': 'Canneberges getrock', 'flags': ' A', 'qty': None, 'remarks': None, 'tags': None, 'unitPrice': None, 'merchant_name': 'LIDL Müllerstraße 48-48a', 'country': 'DE', 'date': '20:45-2023-06-03'}, {'amount': 3.99, 'category': None, 'description': 'Poulet', 'flags': ' A', 'qty': None, 'remarks': None, 'tags': None, 'unitPrice': None, 'merchant_name': 'LIDL Müllerstraße 48-48a', 'country': 'DE', 'date': '20:45-2023-06-03'}, {'amount': 4.89, 'category': None, 'description': 'Hack de bétail 500g', 'flags': ' A', 'qty': None, 'remarks': None, 'tags': None, 'unitPrice': None, 'merchant_name': 'LIDL Müllerstraße 48-48a', 'country': 'DE', 'date': '20:45-2023-06-03'}, {'amount': 1.83, 'category': None, 'description': 'Tomatestrau.kg', 'flags': ' A', 'qty': None, 'remarks': None, 'tags': None, 'unitPrice': None, 'merchant_name': 'LIDL Müllerstraße 48-48a', 'country': 'DE', 'date': '19:32-2023-06-07'}, {'amount': 1.99, 'category': None, 'description': 'Gourmet', 'flags': ' A', 'qty': None, 'remarks': None, 'tags': None, 'unitPrice': None, 'merchant_name': 'LIDL Müllerstraße 48-48a', 'country': 'DE', 'date': '19:32-2023-06-07'}, {'amount': 1.99, 'category': None, 'description': 'Légumes mexicains', 'flags': ' A', 'qty': None, 'remarks': None, 'tags': None, 'unitPrice': None, 'merchant_name': 'LIDL Müllerstraße 48-48a', 'country': 'DE', 'date': '19:32-2023-06-07'}, {'amount': 3.49, 'category': None, 'description': 'Riz sauté', 'flags': ' A', 'qty': None, 'remarks': None, 'tags': None, 'unitPrice': None, 'merchant_name': 'LIDL Müllerstraße 48-48a', 'country': 'DE', 'date': '19:32-2023-06-07'}, {'amount': 1.98, 'category': None, 'description': 'Mozzarella Light0,992', 'flags': ' A', 'qty': None, 'remarks': None, 'tags': None, 'unitPrice': None, 'merchant_name': 'LIDL Müllerstraße 48-48a', 'country': 'DE', 'date': '19:32-2023-06-07'}, {'amount': 2.99, 'category': None, 'description': 'Tranches de gouda', 'flags': ' A', 'qty': None, 'remarks': None, 'tags': None, 'unitPrice': None, 'merchant_name': 'LIDL Müllerstraße 48-48a', 'country': 'DE', 'date': '19:32-2023-06-07'}, {'amount': 4.99, 'category': None, 'description': \"Huile d'olive supplémentaire\", 'flags': ' A', 'qty': None, 'remarks': None, 'tags': None, 'unitPrice': None, 'merchant_name': 'LIDL Müllerstraße 48-48a', 'country': 'DE', 'date': '19:32-2023-06-07'}, {'amount': 0.95, 'category': None, 'description': 'Gruau organique', 'flags': ' A', 'qty': None, 'remarks': None, 'tags': None, 'unitPrice': None, 'merchant_name': 'LIDL Müllerstraße 48-48a', 'country': 'DE', 'date': '19:32-2023-06-07'}, {'amount': 1.39, 'category': None, 'description': 'Confiture de fraise', 'flags': ' A', 'qty': None, 'remarks': None, 'tags': None, 'unitPrice': None, 'merchant_name': 'LIDL Müllerstraße 48-48a', 'country': 'DE', 'date': '19:32-2023-06-07'}, {'amount': 1.19, 'category': None, 'description': 'Macchronelli', 'flags': ' A', 'qty': None, 'remarks': None, 'tags': None, 'unitPrice': None, 'merchant_name': 'LIDL Müllerstraße 48-48a', 'country': 'DE', 'date': '19:32-2023-06-07'}, {'amount': 2.99, 'category': None, 'description': 'Mariage', 'flags': ' A', 'qty': None, 'remarks': None, 'tags': None, 'unitPrice': None, 'merchant_name': 'LIDL Müllerstraße 48-48a', 'country': 'DE', 'date': '19:32-2023-06-07'}, {'amount': 1.05, 'category': None, 'description': 'H-lait H, 1,5% OGT', 'flags': ' A', 'qty': None, 'remarks': None, 'tags': None, 'unitPrice': None, 'merchant_name': 'LIDL Müllerstraße 48-48a', 'country': 'DE', 'date': '19:32-2023-06-07'}, {'amount': 0.85, 'category': None, 'description': 'Tomates hachées', 'flags': ' A', 'qty': None, 'remarks': None, 'tags': None, 'unitPrice': None, 'merchant_name': 'LIDL Müllerstraße 48-48a', 'country': 'DE', 'date': '19:32-2023-06-07'}, {'amount': 0.89, 'category': None, 'description': 'Sauce de pomme sugared', 'flags': ' A', 'qty': None, 'remarks': None, 'tags': None, 'unitPrice': None, 'merchant_name': 'LIDL Müllerstraße 48-48a', 'country': 'DE', 'date': '19:32-2023-06-07'}, {'amount': 2.49, 'category': None, 'description': 'Clas de tortillas de feu', 'flags': ' A', 'qty': None, 'remarks': None, 'tags': None, 'unitPrice': None, 'merchant_name': 'LIDL Müllerstraße 48-48a', 'country': 'DE', 'date': '19:32-2023-06-07'}, {'amount': 0.75, 'category': None, 'description': 'Sch sch.100g', 'flags': ' A', 'qty': None, 'remarks': None, 'tags': None, 'unitPrice': None, 'merchant_name': 'LIDL Müllerstraße 48-48a', 'country': 'DE', 'date': '19:32-2023-06-07'}, {'amount': 5.49, 'category': None, 'description': 'Snackmandeln xxl', 'flags': ' A', 'qty': None, 'remarks': None, 'tags': None, 'unitPrice': None, 'merchant_name': 'LIDL Müllerstraße 48-48a', 'country': 'DE', 'date': '19:32-2023-06-07'}, {'amount': 1.15, 'category': None, 'description': 'Sashmich est bon', 'flags': ' B', 'qty': None, 'remarks': None, 'tags': None, 'unitPrice': None, 'merchant_name': 'LIDL Müllerstraße 48-48a', 'country': 'DE', 'date': '19:32-2023-06-07'}, {'amount': 1.35, 'category': None, 'description': 'Se cramponner', 'flags': ' B', 'qty': None, 'remarks': None, 'tags': None, 'unitPrice': None, 'merchant_name': 'LIDL Müllerstraße 48-48a', 'country': 'DE', 'date': '19:32-2023-06-07'}, {'amount': 1.95, 'category': None, 'description': 'sac de congé', 'flags': ' B', 'qty': None, 'remarks': None, 'tags': None, 'unitPrice': None, 'merchant_name': 'LIDL Müllerstraße 48-48a', 'country': 'DE', 'date': '19:32-2023-06-07'}]\n",
      "{'ocr_type': 'receipts', 'request_id': 'P_92.184.117.81_lj1wnv5l_5i8', 'ref_no': 'ocr_python_123', 'file_name': 'lidl-10-06-23.jpg', 'request_received_on': 1687121637754, 'success': True, 'image_width': 820, 'image_height': 2200, 'image_rotation': -0.018, 'recognition_completed_on': 1687121638253, 'receipts': [{'merchant_name': 'LIDL Müllerstraße 48-48a', 'merchant_address': '13349 Berlin-Wedding', 'merchant_phone': None, 'merchant_website': None, 'merchant_tax_reg_no': None, 'merchant_company_reg_no': None, 'region': None, 'mall': None, 'country': 'DE', 'receipt_no': 'DE813388858', 'date': '2023-06-10', 'time': '16:03', 'items': [{'amount': 1.36, 'category': None, 'description': 'Bananen kg', 'flags': ' A', 'qty': None, 'remarks': None, 'tags': None, 'unitPrice': None}, {'amount': 2.99, 'category': None, 'description': 'Zwiebeln gelb', 'flags': ' A', 'qty': None, 'remarks': None, 'tags': None, 'unitPrice': None}, {'amount': 1.39, 'category': None, 'description': 'Mango Stk', 'flags': ' A', 'qty': None, 'remarks': None, 'tags': None, 'unitPrice': None}, {'amount': 1.99, 'category': None, 'description': 'Pfirsiche', 'flags': ' A', 'qty': None, 'remarks': None, 'tags': None, 'unitPrice': None}, {'amount': 1.99, 'category': None, 'description': 'Asiatisches Gemüse', 'flags': ' A', 'qty': None, 'remarks': None, 'tags': None, 'unitPrice': None}, {'amount': 1.59, 'category': None, 'description': 'Bioland Type 630', 'flags': ' A', 'qty': None, 'remarks': None, 'tags': None, 'unitPrice': None}, {'amount': 0.95, 'category': None, 'description': 'H-Milch 1,5% OGT', 'flags': ' A', 'qty': None, 'remarks': None, 'tags': None, 'unitPrice': None}, {'amount': 1.99, 'category': None, 'description': 'Fr.Eier.a.Bo.ha OKT', 'flags': ' A', 'qty': None, 'remarks': None, 'tags': None, 'unitPrice': None}, {'amount': 1.09, 'category': None, 'description': 'Chilisalz', 'flags': ' A', 'qty': None, 'remarks': None, 'tags': None, 'unitPrice': None}, {'amount': 0.79, 'category': None, 'description': 'Fusilli', 'flags': ' A', 'qty': None, 'remarks': None, 'tags': None, 'unitPrice': None}, {'amount': 0.89, 'category': None, 'description': 'Apfelmus gezuckert', 'flags': ' A', 'qty': None, 'remarks': None, 'tags': None, 'unitPrice': None}, {'amount': 1.99, 'category': None, 'description': 'Mehrfrucht-Karotten', 'flags': ' B', 'qty': None, 'remarks': None, 'tags': None, 'unitPrice': None}, {'amount': 2.19, 'category': None, 'description': 'Cranberries Sult.Mix', 'flags': ' A', 'qty': None, 'remarks': None, 'tags': None, 'unitPrice': None}, {'amount': 1.99, 'category': None, 'description': 'Meisterbrot', 'flags': ' A', 'qty': None, 'remarks': None, 'tags': None, 'unitPrice': None}, {'amount': 3.99, 'category': None, 'description': 'Hähnchen-Geschn', 'flags': ' A', 'qty': None, 'remarks': None, 'tags': None, 'unitPrice': None}, {'amount': 27.18, 'category': None, 'description': 'zu zahlen', 'flags': '', 'qty': None, 'remarks': None, 'tags': None, 'unitPrice': None}, {'amount': 27.18, 'category': None, 'description': 'Kreditkarte', 'flags': '', 'qty': None, 'remarks': None, 'tags': None, 'unitPrice': None}, {'amount': 25.19, 'category': None, 'description': 'A 7%1,6523,54', 'flags': '', 'qty': None, 'remarks': None, 'tags': None, 'unitPrice': None}, {'amount': 1.99, 'category': None, 'description': 'B 19 %0,321,67', 'flags': '', 'qty': None, 'remarks': None, 'tags': None, 'unitPrice': None}], 'currency': 'EUR', 'total': 27.18, 'subtotal': None, 'tax': None, 'service_charge': None, 'tip': None, 'payment_method': None, 'payment_details': None, 'credit_card_type': None, 'credit_card_number': None, 'ocr_text': '                  LIDL\\n            Müllerstraße 48-48a\\n           13349 Berlin-Wedding\\n                                     EUR\\n Bananen kg                         1,36 A\\n   1,182 kg x 1,15 EUR/kg\\n Zwiebeln gelb                      2,99 A\\n Mango Stk                          1,39 A\\n Pfirsiche                          1,99 A\\n Asiatisches Gemüse                 1,99 A\\n Bioland Type 630                   1,59 A\\n H-Milch 1,5% OGT                   0,95 A\\n Fr.Eier.a.Bo.ha OKT                1,99 A\\n Chilisalz                          1,09 A\\n Fusilli                            0,79 A\\n Apfelmus gezuckert                 0,89 A\\n Mehrfrucht-Karotten                1,99 B\\n Cranberries Sult.Mix               2,19 A\\n Meisterbrot                        1,99 A\\n Hähnchen-Geschn.                   3,99 A\\n zu zahlen                        27,18\\n Kreditkarte                      27,18\\n MWSTX        MWST Netto = Brutto\\n A 7%         1,65      23,54     25,19\\n B 19 %      0,32        1,67      1,99\\n Summe        1,97     25,21      27,18\\n   Lade dir die Lidl Plus App herunter\\n und spare bei deinem nächsten Einkauf.\\n TSE Transaktionsnummer: 350904\\n Seriennr. Kasse: LDL-000-5044-1\\n Prüfwert: VjkbdYTy8mPssFbCLb2pFC4jo8wQUJ6U\\n nul15Cd0PgfLip7aEzhhEv8h4YokHNI6ju560 + Duh4\\n ZqBUEBI5x11Q1NnfJbWumCx1jTyZ4517V3pr2LyKV1\\n Z + Udo1UED1zH\\n Signaturzähler: 711591\\n 2023-06-10T14: 03: 42.000Z\\n 2023-06-10T14: 04: 34.00OZ\\n 5044 757652/01             10.06.23 16:03\\n         UST-ID-NR: DE813388858', 'ocr_confidence': 95.7, 'width': 780, 'height': 2156, 'avg_char_width': 18.6148, 'avg_line_height': 33.5904, 'conf_amount': 83, 'source_locations': {'date': [[{'y': 2116, 'x': 543}, {'y': 2111, 'x': 823}, {'y': 2148, 'x': 824}, {'y': 2153, 'x': 544}]], 'total': [[{'y': 1293, 'x': 650}, {'y': 1292, 'x': 753}, {'y': 1330, 'x': 753}, {'y': 1331, 'x': 650}]], 'receipt_no': [[{'y': 2165, 'x': 399}, {'y': 2161, 'x': 617}, {'y': 2196, 'x': 618}, {'y': 2200, 'x': 400}]], 'merchant_name': [[{'y': 44, 'x': 315}, {'y': 46, 'x': 504}, {'y': 100, 'x': 504}, {'y': 98, 'x': 315}], [{'y': 94, 'x': 203}, {'y': 97, 'x': 592}, {'y': 136, 'x': 592}, {'y': 134, 'x': 203}]], 'doc': [[{'y': -57, 'x': -40}, {'y': -72, 'x': 818}, {'y': 2299, 'x': 859}, {'y': 2314, 'x': 1}]], 'merchant_address': [[{'y': 145, 'x': 187}, {'y': 147, 'x': 613}, {'y': 182, 'x': 613}, {'y': 179, 'x': 187}]]}}]}\n",
      "items:  [{'amount': 1.36, 'category': None, 'description': 'Bananen kg', 'flags': ' A', 'qty': None, 'remarks': None, 'tags': None, 'unitPrice': None}, {'amount': 2.99, 'category': None, 'description': 'Zwiebeln gelb', 'flags': ' A', 'qty': None, 'remarks': None, 'tags': None, 'unitPrice': None}, {'amount': 1.39, 'category': None, 'description': 'Mango Stk', 'flags': ' A', 'qty': None, 'remarks': None, 'tags': None, 'unitPrice': None}, {'amount': 1.99, 'category': None, 'description': 'Pfirsiche', 'flags': ' A', 'qty': None, 'remarks': None, 'tags': None, 'unitPrice': None}, {'amount': 1.99, 'category': None, 'description': 'Asiatisches Gemüse', 'flags': ' A', 'qty': None, 'remarks': None, 'tags': None, 'unitPrice': None}, {'amount': 1.59, 'category': None, 'description': 'Bioland Type 630', 'flags': ' A', 'qty': None, 'remarks': None, 'tags': None, 'unitPrice': None}, {'amount': 0.95, 'category': None, 'description': 'H-Milch 1,5% OGT', 'flags': ' A', 'qty': None, 'remarks': None, 'tags': None, 'unitPrice': None}, {'amount': 1.99, 'category': None, 'description': 'Fr.Eier.a.Bo.ha OKT', 'flags': ' A', 'qty': None, 'remarks': None, 'tags': None, 'unitPrice': None}, {'amount': 1.09, 'category': None, 'description': 'Chilisalz', 'flags': ' A', 'qty': None, 'remarks': None, 'tags': None, 'unitPrice': None}, {'amount': 0.79, 'category': None, 'description': 'Fusilli', 'flags': ' A', 'qty': None, 'remarks': None, 'tags': None, 'unitPrice': None}, {'amount': 0.89, 'category': None, 'description': 'Apfelmus gezuckert', 'flags': ' A', 'qty': None, 'remarks': None, 'tags': None, 'unitPrice': None}, {'amount': 1.99, 'category': None, 'description': 'Mehrfrucht-Karotten', 'flags': ' B', 'qty': None, 'remarks': None, 'tags': None, 'unitPrice': None}, {'amount': 2.19, 'category': None, 'description': 'Cranberries Sult.Mix', 'flags': ' A', 'qty': None, 'remarks': None, 'tags': None, 'unitPrice': None}, {'amount': 1.99, 'category': None, 'description': 'Meisterbrot', 'flags': ' A', 'qty': None, 'remarks': None, 'tags': None, 'unitPrice': None}, {'amount': 3.99, 'category': None, 'description': 'Hähnchen-Geschn', 'flags': ' A', 'qty': None, 'remarks': None, 'tags': None, 'unitPrice': None}, {'amount': 27.18, 'category': None, 'description': 'zu zahlen', 'flags': '', 'qty': None, 'remarks': None, 'tags': None, 'unitPrice': None}, {'amount': 27.18, 'category': None, 'description': 'Kreditkarte', 'flags': '', 'qty': None, 'remarks': None, 'tags': None, 'unitPrice': None}, {'amount': 25.19, 'category': None, 'description': 'A 7%1,6523,54', 'flags': '', 'qty': None, 'remarks': None, 'tags': None, 'unitPrice': None}, {'amount': 1.99, 'category': None, 'description': 'B 19 %0,321,67', 'flags': '', 'qty': None, 'remarks': None, 'tags': None, 'unitPrice': None}]\n",
      "total:  [36.8, 11.25, 31.97, 27.81, 41.75, 27.18]\n",
      "Description :  Banane kg\n",
      "Description :  oignons jaunes\n",
      "Description :  PC mangue\n",
      "Description :  Pêche\n",
      "Description :  Légumes asiatiques\n",
      "Description :  Bioland Type 630\n",
      "Description :  H-lait H, 1,5% OGT\n",
      "Description :  Fr.aier.a.bo.ha octobre\n",
      "Description :  Sel de piment\n",
      "Description :  Fusillis\n",
      "Description :  Sauce de pomme sugared\n",
      "Description :  Carotte multi-fruits\n",
      "Description :  Canneberries sult.mix\n",
      "Description :  Pain maître\n",
      "Description :  Poulet\n",
      "Description :  payer\n",
      "Description :  Carte de crédit\n",
      "Description :  Un 7% 1 6523,54\n",
      "Description :  B 19% 0,321,67\n",
      "[{'amount': 1.19, 'category': None, 'description': 'Banane kg', 'flags': ' A', 'qty': None, 'remarks': None, 'tags': None, 'unitPrice': None, 'merchant_name': 'Müllerstraße 48-48a', 'country': 'DE', 'date': '09:56-2023-06-03'}, {'amount': 2.99, 'category': None, 'description': 'Nectarine', 'flags': ' A', 'qty': None, 'remarks': None, 'tags': None, 'unitPrice': None, 'merchant_name': 'Müllerstraße 48-48a', 'country': 'DE', 'date': '09:56-2023-06-03'}, {'amount': 1.79, 'category': None, 'description': 'Del.Koch Ham', 'flags': ' A', 'qty': None, 'remarks': None, 'tags': None, 'unitPrice': None, 'merchant_name': 'Müllerstraße 48-48a', 'country': 'DE', 'date': '09:56-2023-06-03'}, {'amount': 0.89, 'category': None, 'description': 'Sauce de pomme sugared', 'flags': ' A', 'qty': None, 'remarks': None, 'tags': None, 'unitPrice': None, 'merchant_name': 'Müllerstraße 48-48a', 'country': 'DE', 'date': '09:56-2023-06-03'}, {'amount': 0.99, 'category': None, 'description': 'Jeunes haricots', 'flags': ' A', 'qty': None, 'remarks': None, 'tags': None, 'unitPrice': None, 'merchant_name': 'Müllerstraße 48-48a', 'country': 'DE', 'date': '09:56-2023-06-03'}, {'amount': 4.05, 'category': None, 'description': 'Papier toilette 31g', 'flags': ' B', 'qty': None, 'remarks': None, 'tags': None, 'unitPrice': None, 'merchant_name': 'Müllerstraße 48-48a', 'country': 'DE', 'date': '09:56-2023-06-03'}, {'amount': 2.85, 'category': None, 'description': 'Torchons de cuisine', 'flags': ' B', 'qty': None, 'remarks': None, 'tags': None, 'unitPrice': None, 'merchant_name': 'Müllerstraße 48-48a', 'country': 'DE', 'date': '09:56-2023-06-03'}, {'amount': 0.65, 'category': None, 'description': 'Par', 'flags': ' B', 'qty': None, 'remarks': None, 'tags': None, 'unitPrice': None, 'merchant_name': 'Müllerstraße 48-48a', 'country': 'DE', 'date': '09:56-2023-06-03'}, {'amount': 1.95, 'category': None, 'description': 'Hygienespray Univer', 'flags': ' B', 'qty': None, 'remarks': None, 'tags': None, 'unitPrice': None, 'merchant_name': 'Müllerstraße 48-48a', 'country': 'DE', 'date': '09:56-2023-06-03'}, {'amount': 0.75, 'category': None, 'description': 'Éponge', 'flags': ' B', 'qty': None, 'remarks': None, 'tags': None, 'unitPrice': None, 'merchant_name': 'Müllerstraße 48-48a', 'country': 'DE', 'date': '09:56-2023-06-03'}, {'amount': 1.89, 'category': None, 'description': 'Sacs à déchets 601 25', 'flags': ' B', 'qty': None, 'remarks': None, 'tags': None, 'unitPrice': None, 'merchant_name': 'Müllerstraße 48-48a', 'country': 'DE', 'date': '09:56-2023-06-03'}, {'amount': 1.99, 'category': None, 'description': 'Tous -purpose propre.Tü', 'flags': ' B', 'qty': None, 'remarks': None, 'tags': None, 'unitPrice': None, 'merchant_name': 'Müllerstraße 48-48a', 'country': 'DE', 'date': '09:56-2023-06-03'}, {'amount': 9.99, 'category': None, 'description': \"Fresh Hold '0384936\", 'flags': ' B', 'qty': None, 'remarks': None, 'tags': None, 'unitPrice': None, 'merchant_name': 'Müllerstraße 48-48a', 'country': 'DE', 'date': '09:56-2023-06-03'}, {'amount': 1.01, 'category': None, 'description': 'Tomatestrau.kg', 'flags': ' A', 'qty': None, 'remarks': None, 'tags': None, 'unitPrice': None, 'merchant_name': 'LIDL Müllerstraße 48-48a', 'country': 'DE', 'date': '20:45-2023-06-03'}, {'amount': 0.95, 'category': None, 'description': \"Salade d'iceberg\", 'flags': ' A', 'qty': None, 'remarks': None, 'tags': None, 'unitPrice': None, 'merchant_name': 'LIDL Müllerstraße 48-48a', 'country': 'DE', 'date': '20:45-2023-06-03'}, {'amount': 1.99, 'category': None, 'description': 'Légumes asiatiques', 'flags': ' A', 'qty': None, 'remarks': None, 'tags': None, 'unitPrice': None, 'merchant_name': 'LIDL Müllerstraße 48-48a', 'country': 'DE', 'date': '20:45-2023-06-03'}, {'amount': 0.99, 'category': None, 'description': 'Mozzarella', 'flags': ' A', 'qty': None, 'remarks': None, 'tags': None, 'unitPrice': None, 'merchant_name': 'LIDL Müllerstraße 48-48a', 'country': 'DE', 'date': '20:45-2023-06-03'}, {'amount': 1.05, 'category': None, 'description': 'H-lait H, 1,5% OGT', 'flags': ' A', 'qty': None, 'remarks': None, 'tags': None, 'unitPrice': None, 'merchant_name': 'LIDL Müllerstraße 48-48a', 'country': 'DE', 'date': '20:45-2023-06-03'}, {'amount': 0.89, 'category': None, 'description': 'Spaghetti xxl', 'flags': ' A', 'qty': None, 'remarks': None, 'tags': None, 'unitPrice': None, 'merchant_name': 'LIDL Müllerstraße 48-48a', 'country': 'DE', 'date': '20:45-2023-06-03'}, {'amount': 2.29, 'category': None, 'description': 'Était un éther', 'flags': ' A', 'qty': None, 'remarks': None, 'tags': None, 'unitPrice': None, 'merchant_name': 'LIDL Müllerstraße 48-48a', 'country': 'DE', 'date': '20:45-2023-06-03'}, {'amount': 3.19, 'category': None, 'description': 'Épiceries', 'flags': ' A', 'qty': None, 'remarks': None, 'tags': None, 'unitPrice': None, 'merchant_name': 'LIDL Müllerstraße 48-48a', 'country': 'DE', 'date': '20:45-2023-06-03'}, {'amount': 1.99, 'category': None, 'description': 'Carotte multi-fruits', 'flags': ' B', 'qty': None, 'remarks': None, 'tags': None, 'unitPrice': None, 'merchant_name': 'LIDL Müllerstraße 48-48a', 'country': 'DE', 'date': '20:45-2023-06-03'}, {'amount': 2.39, 'category': None, 'description': 'Caswwkerne 200g', 'flags': ' A', 'qty': None, 'remarks': None, 'tags': None, 'unitPrice': None, 'merchant_name': 'LIDL Müllerstraße 48-48a', 'country': 'DE', 'date': '20:45-2023-06-03'}, {'amount': 2.19, 'category': None, 'description': 'Canneberges getrock', 'flags': ' A', 'qty': None, 'remarks': None, 'tags': None, 'unitPrice': None, 'merchant_name': 'LIDL Müllerstraße 48-48a', 'country': 'DE', 'date': '20:45-2023-06-03'}, {'amount': 3.99, 'category': None, 'description': 'Poulet', 'flags': ' A', 'qty': None, 'remarks': None, 'tags': None, 'unitPrice': None, 'merchant_name': 'LIDL Müllerstraße 48-48a', 'country': 'DE', 'date': '20:45-2023-06-03'}, {'amount': 4.89, 'category': None, 'description': 'Hack de bétail 500g', 'flags': ' A', 'qty': None, 'remarks': None, 'tags': None, 'unitPrice': None, 'merchant_name': 'LIDL Müllerstraße 48-48a', 'country': 'DE', 'date': '20:45-2023-06-03'}, {'amount': 1.83, 'category': None, 'description': 'Tomatestrau.kg', 'flags': ' A', 'qty': None, 'remarks': None, 'tags': None, 'unitPrice': None, 'merchant_name': 'LIDL Müllerstraße 48-48a', 'country': 'DE', 'date': '19:32-2023-06-07'}, {'amount': 1.99, 'category': None, 'description': 'Gourmet', 'flags': ' A', 'qty': None, 'remarks': None, 'tags': None, 'unitPrice': None, 'merchant_name': 'LIDL Müllerstraße 48-48a', 'country': 'DE', 'date': '19:32-2023-06-07'}, {'amount': 1.99, 'category': None, 'description': 'Légumes mexicains', 'flags': ' A', 'qty': None, 'remarks': None, 'tags': None, 'unitPrice': None, 'merchant_name': 'LIDL Müllerstraße 48-48a', 'country': 'DE', 'date': '19:32-2023-06-07'}, {'amount': 3.49, 'category': None, 'description': 'Riz sauté', 'flags': ' A', 'qty': None, 'remarks': None, 'tags': None, 'unitPrice': None, 'merchant_name': 'LIDL Müllerstraße 48-48a', 'country': 'DE', 'date': '19:32-2023-06-07'}, {'amount': 1.98, 'category': None, 'description': 'Mozzarella Light0,992', 'flags': ' A', 'qty': None, 'remarks': None, 'tags': None, 'unitPrice': None, 'merchant_name': 'LIDL Müllerstraße 48-48a', 'country': 'DE', 'date': '19:32-2023-06-07'}, {'amount': 2.99, 'category': None, 'description': 'Tranches de gouda', 'flags': ' A', 'qty': None, 'remarks': None, 'tags': None, 'unitPrice': None, 'merchant_name': 'LIDL Müllerstraße 48-48a', 'country': 'DE', 'date': '19:32-2023-06-07'}, {'amount': 4.99, 'category': None, 'description': \"Huile d'olive supplémentaire\", 'flags': ' A', 'qty': None, 'remarks': None, 'tags': None, 'unitPrice': None, 'merchant_name': 'LIDL Müllerstraße 48-48a', 'country': 'DE', 'date': '19:32-2023-06-07'}, {'amount': 0.95, 'category': None, 'description': 'Gruau organique', 'flags': ' A', 'qty': None, 'remarks': None, 'tags': None, 'unitPrice': None, 'merchant_name': 'LIDL Müllerstraße 48-48a', 'country': 'DE', 'date': '19:32-2023-06-07'}, {'amount': 1.39, 'category': None, 'description': 'Confiture de fraise', 'flags': ' A', 'qty': None, 'remarks': None, 'tags': None, 'unitPrice': None, 'merchant_name': 'LIDL Müllerstraße 48-48a', 'country': 'DE', 'date': '19:32-2023-06-07'}, {'amount': 1.19, 'category': None, 'description': 'Macchronelli', 'flags': ' A', 'qty': None, 'remarks': None, 'tags': None, 'unitPrice': None, 'merchant_name': 'LIDL Müllerstraße 48-48a', 'country': 'DE', 'date': '19:32-2023-06-07'}, {'amount': 2.99, 'category': None, 'description': 'Mariage', 'flags': ' A', 'qty': None, 'remarks': None, 'tags': None, 'unitPrice': None, 'merchant_name': 'LIDL Müllerstraße 48-48a', 'country': 'DE', 'date': '19:32-2023-06-07'}, {'amount': 1.05, 'category': None, 'description': 'H-lait H, 1,5% OGT', 'flags': ' A', 'qty': None, 'remarks': None, 'tags': None, 'unitPrice': None, 'merchant_name': 'LIDL Müllerstraße 48-48a', 'country': 'DE', 'date': '19:32-2023-06-07'}, {'amount': 0.85, 'category': None, 'description': 'Tomates hachées', 'flags': ' A', 'qty': None, 'remarks': None, 'tags': None, 'unitPrice': None, 'merchant_name': 'LIDL Müllerstraße 48-48a', 'country': 'DE', 'date': '19:32-2023-06-07'}, {'amount': 0.89, 'category': None, 'description': 'Sauce de pomme sugared', 'flags': ' A', 'qty': None, 'remarks': None, 'tags': None, 'unitPrice': None, 'merchant_name': 'LIDL Müllerstraße 48-48a', 'country': 'DE', 'date': '19:32-2023-06-07'}, {'amount': 2.49, 'category': None, 'description': 'Clas de tortillas de feu', 'flags': ' A', 'qty': None, 'remarks': None, 'tags': None, 'unitPrice': None, 'merchant_name': 'LIDL Müllerstraße 48-48a', 'country': 'DE', 'date': '19:32-2023-06-07'}, {'amount': 0.75, 'category': None, 'description': 'Sch sch.100g', 'flags': ' A', 'qty': None, 'remarks': None, 'tags': None, 'unitPrice': None, 'merchant_name': 'LIDL Müllerstraße 48-48a', 'country': 'DE', 'date': '19:32-2023-06-07'}, {'amount': 5.49, 'category': None, 'description': 'Snackmandeln xxl', 'flags': ' A', 'qty': None, 'remarks': None, 'tags': None, 'unitPrice': None, 'merchant_name': 'LIDL Müllerstraße 48-48a', 'country': 'DE', 'date': '19:32-2023-06-07'}, {'amount': 1.15, 'category': None, 'description': 'Sashmich est bon', 'flags': ' B', 'qty': None, 'remarks': None, 'tags': None, 'unitPrice': None, 'merchant_name': 'LIDL Müllerstraße 48-48a', 'country': 'DE', 'date': '19:32-2023-06-07'}, {'amount': 1.35, 'category': None, 'description': 'Se cramponner', 'flags': ' B', 'qty': None, 'remarks': None, 'tags': None, 'unitPrice': None, 'merchant_name': 'LIDL Müllerstraße 48-48a', 'country': 'DE', 'date': '19:32-2023-06-07'}, {'amount': 1.95, 'category': None, 'description': 'sac de congé', 'flags': ' B', 'qty': None, 'remarks': None, 'tags': None, 'unitPrice': None, 'merchant_name': 'LIDL Müllerstraße 48-48a', 'country': 'DE', 'date': '19:32-2023-06-07'}, {'amount': 1.36, 'category': None, 'description': 'Banane kg', 'flags': ' A', 'qty': None, 'remarks': None, 'tags': None, 'unitPrice': None, 'merchant_name': 'LIDL Müllerstraße 48-48a', 'country': 'DE', 'date': '16:03-2023-06-10'}, {'amount': 2.99, 'category': None, 'description': 'oignons jaunes', 'flags': ' A', 'qty': None, 'remarks': None, 'tags': None, 'unitPrice': None, 'merchant_name': 'LIDL Müllerstraße 48-48a', 'country': 'DE', 'date': '16:03-2023-06-10'}, {'amount': 1.39, 'category': None, 'description': 'PC mangue', 'flags': ' A', 'qty': None, 'remarks': None, 'tags': None, 'unitPrice': None, 'merchant_name': 'LIDL Müllerstraße 48-48a', 'country': 'DE', 'date': '16:03-2023-06-10'}, {'amount': 1.99, 'category': None, 'description': 'Pêche', 'flags': ' A', 'qty': None, 'remarks': None, 'tags': None, 'unitPrice': None, 'merchant_name': 'LIDL Müllerstraße 48-48a', 'country': 'DE', 'date': '16:03-2023-06-10'}, {'amount': 1.99, 'category': None, 'description': 'Légumes asiatiques', 'flags': ' A', 'qty': None, 'remarks': None, 'tags': None, 'unitPrice': None, 'merchant_name': 'LIDL Müllerstraße 48-48a', 'country': 'DE', 'date': '16:03-2023-06-10'}, {'amount': 1.59, 'category': None, 'description': 'Bioland Type 630', 'flags': ' A', 'qty': None, 'remarks': None, 'tags': None, 'unitPrice': None, 'merchant_name': 'LIDL Müllerstraße 48-48a', 'country': 'DE', 'date': '16:03-2023-06-10'}, {'amount': 0.95, 'category': None, 'description': 'H-lait H, 1,5% OGT', 'flags': ' A', 'qty': None, 'remarks': None, 'tags': None, 'unitPrice': None, 'merchant_name': 'LIDL Müllerstraße 48-48a', 'country': 'DE', 'date': '16:03-2023-06-10'}, {'amount': 1.99, 'category': None, 'description': 'Fr.aier.a.bo.ha octobre', 'flags': ' A', 'qty': None, 'remarks': None, 'tags': None, 'unitPrice': None, 'merchant_name': 'LIDL Müllerstraße 48-48a', 'country': 'DE', 'date': '16:03-2023-06-10'}, {'amount': 1.09, 'category': None, 'description': 'Sel de piment', 'flags': ' A', 'qty': None, 'remarks': None, 'tags': None, 'unitPrice': None, 'merchant_name': 'LIDL Müllerstraße 48-48a', 'country': 'DE', 'date': '16:03-2023-06-10'}, {'amount': 0.79, 'category': None, 'description': 'Fusillis', 'flags': ' A', 'qty': None, 'remarks': None, 'tags': None, 'unitPrice': None, 'merchant_name': 'LIDL Müllerstraße 48-48a', 'country': 'DE', 'date': '16:03-2023-06-10'}, {'amount': 0.89, 'category': None, 'description': 'Sauce de pomme sugared', 'flags': ' A', 'qty': None, 'remarks': None, 'tags': None, 'unitPrice': None, 'merchant_name': 'LIDL Müllerstraße 48-48a', 'country': 'DE', 'date': '16:03-2023-06-10'}, {'amount': 1.99, 'category': None, 'description': 'Carotte multi-fruits', 'flags': ' B', 'qty': None, 'remarks': None, 'tags': None, 'unitPrice': None, 'merchant_name': 'LIDL Müllerstraße 48-48a', 'country': 'DE', 'date': '16:03-2023-06-10'}, {'amount': 2.19, 'category': None, 'description': 'Canneberries sult.mix', 'flags': ' A', 'qty': None, 'remarks': None, 'tags': None, 'unitPrice': None, 'merchant_name': 'LIDL Müllerstraße 48-48a', 'country': 'DE', 'date': '16:03-2023-06-10'}, {'amount': 1.99, 'category': None, 'description': 'Pain maître', 'flags': ' A', 'qty': None, 'remarks': None, 'tags': None, 'unitPrice': None, 'merchant_name': 'LIDL Müllerstraße 48-48a', 'country': 'DE', 'date': '16:03-2023-06-10'}, {'amount': 3.99, 'category': None, 'description': 'Poulet', 'flags': ' A', 'qty': None, 'remarks': None, 'tags': None, 'unitPrice': None, 'merchant_name': 'LIDL Müllerstraße 48-48a', 'country': 'DE', 'date': '16:03-2023-06-10'}]\n"
     ]
    }
   ],
   "source": [
    "#init the Google API translator\n",
    "translator_all = Translator()\n",
    "#initialize\n",
    "merchant_name_all = []\n",
    "country_all = []\n",
    "date_all = []\n",
    "products_all = []\n",
    "total_all = []\n",
    "taxes_all = []\n",
    "items_all_all = []\n",
    "\n",
    "\n",
    "for filename in os.listdir(folder_path_json):\n",
    "    #read json file\n",
    "    if filename.endswith(\".json\"):\n",
    "        json_path = os.path.join(folder_path_json, filename)\n",
    "        #Read all json in json folder\n",
    "        with open(json_path, \"r\") as openfile:\n",
    "            #reading from json file\n",
    "            json_object_all = json.load(openfile)\n",
    "        print(json_object_all)\n",
    "\n",
    "        if json_object_all[\"success\"] != False:\n",
    "            #Sort the items, ... in the reicept\n",
    "            if json_object_all[\"receipts\"] is not None:\n",
    "                receipt_object_all = json_object_all[\"receipts\"]\n",
    "                #receipt_object_all.append(json_object_all[\"receipts\"])\n",
    "                # Access the \"items\" list within the \"receipts\" object\n",
    "                items_all = json_object_all[\"receipts\"][0][\"items\"]\n",
    "                #items_all.append(json_object_all[\"receipts\"][0][\"items\"])\n",
    "                print(\"items: \",items_all)\n",
    "                total_all.append(json_object_all[\"receipts\"][0][\"total\"])\n",
    "                print(\"total: \",total_all)\n",
    "                taxes_all.append(json_object_all[\"receipts\"][0][\"tax\"])\n",
    "                merchant_name_all.append(json_object_all[\"receipts\"][0][\"merchant_name\"])\n",
    "                country_all.append(json_object_all[\"receipts\"][0][\"country\"])\n",
    "                date_str = str(json_object_all[\"receipts\"][0][\"time\"]) if json_object_all[\"receipts\"][0][\"time\"] else \"\"\n",
    "                date_str += \"-\"\n",
    "                date_str += str(json_object_all[\"receipts\"][0][\"date\"]) if json_object_all[\"receipts\"][0][\"date\"] else \"\"\n",
    "                date_all.append(date_str)\n",
    "\n",
    "                #add for each item merchant_name country_all, date\n",
    "                if items_all is not None:\n",
    "                    for item in items_all:\n",
    "                        item.update({\"merchant_name\": json_object_all[\"receipts\"][0][\"merchant_name\"]})\n",
    "                        item.update({\"country\": json_object_all[\"receipts\"][0][\"country\"]})\n",
    "                        item.update({\"date\": date_str})\n",
    "                else:\n",
    "                    print(\"Any items detected\")  \n",
    "            else:\n",
    "                print(\"Error is\"+json_object_all[\"message\"])\n",
    "        if items_all is not None:\n",
    "            #translate all the descriptions\n",
    "            try:\n",
    "                for item in items_all: \n",
    "                    description_all = item[\"description\"]\n",
    "                    translation_all = translator_all.translate(item[\"description\"], dest=\"fr\")\n",
    "                    item[\"description\"] = translation_all.text\n",
    "                    print(\"Description : \", item[\"description\"])\n",
    "            except:\n",
    "                print(\"translation canceled\")        \n",
    "\n",
    "            #find all the product, only the product -> find with tag ?\n",
    "            for item in items_all:\n",
    "                flag = item[\"flags\"]\n",
    "                if flag != \"\":\n",
    "                    products_all.append(item)\n",
    "            print(products_all)\n",
    "\n",
    "            #store all items\n",
    "            for item in items_all:\n",
    "                items_all_all.append(item)\n",
    "        else:\n",
    "            print(\"Any items detected -- check OCRing method\")\n",
    "        \n",
    "#save data into csv file\n",
    "if items_all and products_all is not None:\n",
    "    #export only product\n",
    "    pd.DataFrame(pd.DataFrame(products_all)[[\"description\", \"amount\", \"date\"]]).to_csv('receipts/export_product_only.csv', index=False, sep=\";\")\n",
    "    #export product all\n",
    "    pd.DataFrame(pd.DataFrame(products_all)).to_csv('receipts/export_all_product.csv', index=False, sep=\";\")\n",
    "    #export items\n",
    "    #pd.DataFrame(pd.DataFrame(items_all_all)).to_csv('receipts/export_all_items.csv', index=False, sep=\";\")\n"
   ]
  },
  {
   "attachments": {},
   "cell_type": "markdown",
   "metadata": {},
   "source": [
    "# Analyse all product and CSV file"
   ]
  },
  {
   "cell_type": "code",
   "execution_count": 18,
   "metadata": {},
   "outputs": [],
   "source": [
    "import numpy as np\n",
    "import seaborn as sns\n",
    "import matplotlib.pyplot as plt\n",
    "%matplotlib widget\n",
    "plt.style.use('default')"
   ]
  },
  {
   "cell_type": "code",
   "execution_count": 15,
   "metadata": {},
   "outputs": [
    {
     "data": {
      "text/html": [
       "<div>\n",
       "<style scoped>\n",
       "    .dataframe tbody tr th:only-of-type {\n",
       "        vertical-align: middle;\n",
       "    }\n",
       "\n",
       "    .dataframe tbody tr th {\n",
       "        vertical-align: top;\n",
       "    }\n",
       "\n",
       "    .dataframe thead th {\n",
       "        text-align: right;\n",
       "    }\n",
       "</style>\n",
       "<table border=\"1\" class=\"dataframe\">\n",
       "  <thead>\n",
       "    <tr style=\"text-align: right;\">\n",
       "      <th></th>\n",
       "      <th>amount</th>\n",
       "      <th>description</th>\n",
       "      <th>flags</th>\n",
       "      <th>merchant_name</th>\n",
       "      <th>country</th>\n",
       "      <th>date</th>\n",
       "    </tr>\n",
       "  </thead>\n",
       "  <tbody>\n",
       "    <tr>\n",
       "      <th>0</th>\n",
       "      <td>1.19</td>\n",
       "      <td>Banane kg</td>\n",
       "      <td>A</td>\n",
       "      <td>Müllerstraße 48-48a</td>\n",
       "      <td>DE</td>\n",
       "      <td>09:56-2023-06-03</td>\n",
       "    </tr>\n",
       "    <tr>\n",
       "      <th>1</th>\n",
       "      <td>2.99</td>\n",
       "      <td>Nectarine</td>\n",
       "      <td>A</td>\n",
       "      <td>Müllerstraße 48-48a</td>\n",
       "      <td>DE</td>\n",
       "      <td>09:56-2023-06-03</td>\n",
       "    </tr>\n",
       "    <tr>\n",
       "      <th>2</th>\n",
       "      <td>1.79</td>\n",
       "      <td>Del.Koch Ham</td>\n",
       "      <td>A</td>\n",
       "      <td>Müllerstraße 48-48a</td>\n",
       "      <td>DE</td>\n",
       "      <td>09:56-2023-06-03</td>\n",
       "    </tr>\n",
       "    <tr>\n",
       "      <th>3</th>\n",
       "      <td>0.89</td>\n",
       "      <td>Sauce de pomme sugared</td>\n",
       "      <td>A</td>\n",
       "      <td>Müllerstraße 48-48a</td>\n",
       "      <td>DE</td>\n",
       "      <td>09:56-2023-06-03</td>\n",
       "    </tr>\n",
       "    <tr>\n",
       "      <th>4</th>\n",
       "      <td>0.99</td>\n",
       "      <td>Jeunes haricots</td>\n",
       "      <td>A</td>\n",
       "      <td>Müllerstraße 48-48a</td>\n",
       "      <td>DE</td>\n",
       "      <td>09:56-2023-06-03</td>\n",
       "    </tr>\n",
       "  </tbody>\n",
       "</table>\n",
       "</div>"
      ],
      "text/plain": [
       "   amount             description flags        merchant_name country  \\\n",
       "0    1.19               Banane kg     A  Müllerstraße 48-48a      DE   \n",
       "1    2.99               Nectarine     A  Müllerstraße 48-48a      DE   \n",
       "2    1.79            Del.Koch Ham     A  Müllerstraße 48-48a      DE   \n",
       "3    0.89  Sauce de pomme sugared     A  Müllerstraße 48-48a      DE   \n",
       "4    0.99         Jeunes haricots     A  Müllerstraße 48-48a      DE   \n",
       "\n",
       "               date  \n",
       "0  09:56-2023-06-03  \n",
       "1  09:56-2023-06-03  \n",
       "2  09:56-2023-06-03  \n",
       "3  09:56-2023-06-03  \n",
       "4  09:56-2023-06-03  "
      ]
     },
     "execution_count": 15,
     "metadata": {},
     "output_type": "execute_result"
    }
   ],
   "source": [
    "#import and create dataset\n",
    "df_products = pd.read_csv(\"receipts/export_all_product.csv\", sep=\";\")\n",
    "#df_items = pd.read_csv(\"receipts/export_all_items.csv\", sep=\";\")\n",
    "\n",
    "df_products.dropna(axis=1, how='all', inplace=True)\n",
    "\n",
    "df_products.head()\n",
    "#df_products.tail(10)"
   ]
  },
  {
   "cell_type": "code",
   "execution_count": 19,
   "metadata": {},
   "outputs": [
    {
     "data": {
      "text/html": [
       "<div>\n",
       "<style scoped>\n",
       "    .dataframe tbody tr th:only-of-type {\n",
       "        vertical-align: middle;\n",
       "    }\n",
       "\n",
       "    .dataframe tbody tr th {\n",
       "        vertical-align: top;\n",
       "    }\n",
       "\n",
       "    .dataframe thead th {\n",
       "        text-align: right;\n",
       "    }\n",
       "</style>\n",
       "<table border=\"1\" class=\"dataframe\">\n",
       "  <thead>\n",
       "    <tr style=\"text-align: right;\">\n",
       "      <th></th>\n",
       "      <th>amount</th>\n",
       "      <th>description</th>\n",
       "      <th>flags</th>\n",
       "      <th>merchant_name</th>\n",
       "      <th>country</th>\n",
       "      <th>date</th>\n",
       "    </tr>\n",
       "  </thead>\n",
       "  <tbody>\n",
       "    <tr>\n",
       "      <th>0</th>\n",
       "      <td>1.19</td>\n",
       "      <td>Banane kg</td>\n",
       "      <td>A</td>\n",
       "      <td>Müllerstraße 48-48a</td>\n",
       "      <td>DE</td>\n",
       "      <td>09:56-2023-06-03</td>\n",
       "    </tr>\n",
       "    <tr>\n",
       "      <th>1</th>\n",
       "      <td>2.99</td>\n",
       "      <td>Nectarine</td>\n",
       "      <td>A</td>\n",
       "      <td>Müllerstraße 48-48a</td>\n",
       "      <td>DE</td>\n",
       "      <td>09:56-2023-06-03</td>\n",
       "    </tr>\n",
       "    <tr>\n",
       "      <th>2</th>\n",
       "      <td>1.79</td>\n",
       "      <td>Del.Koch Ham</td>\n",
       "      <td>A</td>\n",
       "      <td>Müllerstraße 48-48a</td>\n",
       "      <td>DE</td>\n",
       "      <td>09:56-2023-06-03</td>\n",
       "    </tr>\n",
       "    <tr>\n",
       "      <th>3</th>\n",
       "      <td>0.89</td>\n",
       "      <td>Sauce de pomme sugared</td>\n",
       "      <td>A</td>\n",
       "      <td>Müllerstraße 48-48a</td>\n",
       "      <td>DE</td>\n",
       "      <td>09:56-2023-06-03</td>\n",
       "    </tr>\n",
       "    <tr>\n",
       "      <th>4</th>\n",
       "      <td>0.99</td>\n",
       "      <td>Jeunes haricots</td>\n",
       "      <td>A</td>\n",
       "      <td>Müllerstraße 48-48a</td>\n",
       "      <td>DE</td>\n",
       "      <td>09:56-2023-06-03</td>\n",
       "    </tr>\n",
       "    <tr>\n",
       "      <th>...</th>\n",
       "      <td>...</td>\n",
       "      <td>...</td>\n",
       "      <td>...</td>\n",
       "      <td>...</td>\n",
       "      <td>...</td>\n",
       "      <td>...</td>\n",
       "    </tr>\n",
       "    <tr>\n",
       "      <th>56</th>\n",
       "      <td>0.89</td>\n",
       "      <td>Sauce de pomme sugared</td>\n",
       "      <td>A</td>\n",
       "      <td>LIDL Müllerstraße 48-48a</td>\n",
       "      <td>DE</td>\n",
       "      <td>16:03-2023-06-10</td>\n",
       "    </tr>\n",
       "    <tr>\n",
       "      <th>57</th>\n",
       "      <td>1.99</td>\n",
       "      <td>Carotte multi-fruits</td>\n",
       "      <td>B</td>\n",
       "      <td>LIDL Müllerstraße 48-48a</td>\n",
       "      <td>DE</td>\n",
       "      <td>16:03-2023-06-10</td>\n",
       "    </tr>\n",
       "    <tr>\n",
       "      <th>58</th>\n",
       "      <td>2.19</td>\n",
       "      <td>Canneberries sult.mix</td>\n",
       "      <td>A</td>\n",
       "      <td>LIDL Müllerstraße 48-48a</td>\n",
       "      <td>DE</td>\n",
       "      <td>16:03-2023-06-10</td>\n",
       "    </tr>\n",
       "    <tr>\n",
       "      <th>59</th>\n",
       "      <td>1.99</td>\n",
       "      <td>Pain maître</td>\n",
       "      <td>A</td>\n",
       "      <td>LIDL Müllerstraße 48-48a</td>\n",
       "      <td>DE</td>\n",
       "      <td>16:03-2023-06-10</td>\n",
       "    </tr>\n",
       "    <tr>\n",
       "      <th>60</th>\n",
       "      <td>3.99</td>\n",
       "      <td>Poulet</td>\n",
       "      <td>A</td>\n",
       "      <td>LIDL Müllerstraße 48-48a</td>\n",
       "      <td>DE</td>\n",
       "      <td>16:03-2023-06-10</td>\n",
       "    </tr>\n",
       "  </tbody>\n",
       "</table>\n",
       "<p>61 rows × 6 columns</p>\n",
       "</div>"
      ],
      "text/plain": [
       "    amount             description flags             merchant_name country  \\\n",
       "0     1.19               Banane kg     A       Müllerstraße 48-48a      DE   \n",
       "1     2.99               Nectarine     A       Müllerstraße 48-48a      DE   \n",
       "2     1.79            Del.Koch Ham     A       Müllerstraße 48-48a      DE   \n",
       "3     0.89  Sauce de pomme sugared     A       Müllerstraße 48-48a      DE   \n",
       "4     0.99         Jeunes haricots     A       Müllerstraße 48-48a      DE   \n",
       "..     ...                     ...   ...                       ...     ...   \n",
       "56    0.89  Sauce de pomme sugared     A  LIDL Müllerstraße 48-48a      DE   \n",
       "57    1.99    Carotte multi-fruits     B  LIDL Müllerstraße 48-48a      DE   \n",
       "58    2.19   Canneberries sult.mix     A  LIDL Müllerstraße 48-48a      DE   \n",
       "59    1.99             Pain maître     A  LIDL Müllerstraße 48-48a      DE   \n",
       "60    3.99                  Poulet     A  LIDL Müllerstraße 48-48a      DE   \n",
       "\n",
       "                date  \n",
       "0   09:56-2023-06-03  \n",
       "1   09:56-2023-06-03  \n",
       "2   09:56-2023-06-03  \n",
       "3   09:56-2023-06-03  \n",
       "4   09:56-2023-06-03  \n",
       "..               ...  \n",
       "56  16:03-2023-06-10  \n",
       "57  16:03-2023-06-10  \n",
       "58  16:03-2023-06-10  \n",
       "59  16:03-2023-06-10  \n",
       "60  16:03-2023-06-10  \n",
       "\n",
       "[61 rows x 6 columns]"
      ]
     },
     "execution_count": 19,
     "metadata": {},
     "output_type": "execute_result"
    }
   ],
   "source": [
    "df_products"
   ]
  },
  {
   "attachments": {},
   "cell_type": "markdown",
   "metadata": {},
   "source": [
    "### Resum of dataset"
   ]
  },
  {
   "cell_type": "code",
   "execution_count": 17,
   "metadata": {},
   "outputs": [
    {
     "data": {
      "text/html": [
       "<div>\n",
       "<style scoped>\n",
       "    .dataframe tbody tr th:only-of-type {\n",
       "        vertical-align: middle;\n",
       "    }\n",
       "\n",
       "    .dataframe tbody tr th {\n",
       "        vertical-align: top;\n",
       "    }\n",
       "\n",
       "    .dataframe thead th {\n",
       "        text-align: right;\n",
       "    }\n",
       "</style>\n",
       "<table border=\"1\" class=\"dataframe\">\n",
       "  <thead>\n",
       "    <tr style=\"text-align: right;\">\n",
       "      <th></th>\n",
       "      <th>amount</th>\n",
       "    </tr>\n",
       "  </thead>\n",
       "  <tbody>\n",
       "    <tr>\n",
       "      <th>count</th>\n",
       "      <td>61.000000</td>\n",
       "    </tr>\n",
       "    <tr>\n",
       "      <th>mean</th>\n",
       "      <td>2.110000</td>\n",
       "    </tr>\n",
       "    <tr>\n",
       "      <th>std</th>\n",
       "      <td>1.522162</td>\n",
       "    </tr>\n",
       "    <tr>\n",
       "      <th>min</th>\n",
       "      <td>0.650000</td>\n",
       "    </tr>\n",
       "    <tr>\n",
       "      <th>25%</th>\n",
       "      <td>1.050000</td>\n",
       "    </tr>\n",
       "    <tr>\n",
       "      <th>50%</th>\n",
       "      <td>1.950000</td>\n",
       "    </tr>\n",
       "    <tr>\n",
       "      <th>75%</th>\n",
       "      <td>2.390000</td>\n",
       "    </tr>\n",
       "    <tr>\n",
       "      <th>max</th>\n",
       "      <td>9.990000</td>\n",
       "    </tr>\n",
       "  </tbody>\n",
       "</table>\n",
       "</div>"
      ],
      "text/plain": [
       "          amount\n",
       "count  61.000000\n",
       "mean    2.110000\n",
       "std     1.522162\n",
       "min     0.650000\n",
       "25%     1.050000\n",
       "50%     1.950000\n",
       "75%     2.390000\n",
       "max     9.990000"
      ]
     },
     "execution_count": 17,
     "metadata": {},
     "output_type": "execute_result"
    }
   ],
   "source": [
    "df_products.describe()"
   ]
  },
  {
   "cell_type": "code",
   "execution_count": 25,
   "metadata": {},
   "outputs": [
    {
     "data": {
      "text/plain": [
       "<Axes: >"
      ]
     },
     "execution_count": 25,
     "metadata": {},
     "output_type": "execute_result"
    },
    {
     "data": {
      "image/png": "[encoded data removed]",
      "text/plain": [
       "<Figure size 640x480 with 1 Axes>"
      ]
     },
     "metadata": {},
     "output_type": "display_data"
    }
   ],
   "source": [
    "df_products.plot.bar()"
   ]
  },
  {
   "cell_type": "code",
   "execution_count": 26,
   "metadata": {},
   "outputs": [],
   "source": [
    "# order by product -> find top product \n",
    "# growth of top product"
   ]
  }
 ],
 "metadata": {
  "kernelspec": {
   "display_name": "myenv",
   "language": "python",
   "name": "python3"
  },
  "language_info": {
   "codemirror_mode": {
    "name": "ipython",
    "version": 3
   },
   "file_extension": ".py",
   "mimetype": "text/x-python",
   "name": "python",
   "nbconvert_exporter": "python",
   "pygments_lexer": "ipython3",
   "version": "3.10.11"
  },
  "orig_nbformat": 4
 },
 "nbformat": 4,
 "nbformat_minor": 2
}
