{
 "cells": [
  {
   "attachments": {},
   "cell_type": "markdown",
   "metadata": {},
   "source": [
    "# Receipt OCR  "
   ]
  },
  {
   "attachments": {},
   "cell_type": "markdown",
   "metadata": {},
   "source": [
    "### ressources\n",
    "\n",
    "http://asprise.com/ocr/api/docs/html/receipt-ocr.html <br/>\n",
    "https://asprise.com/receipt-ocr-data-capture-api/extract-text-reader-scanner-index.html"
   ]
  },
  {
   "cell_type": "code",
   "execution_count": 26,
   "metadata": {},
   "outputs": [
    {
     "name": "stdout",
     "output_type": "stream",
     "text": [
      "=== Python Receipt OCR using API\n"
     ]
    }
   ],
   "source": [
    "import os\n",
    "import requests\n",
    "import pandas as pd\n",
    "import json\n",
    "from googletrans import Translator\n",
    "\n",
    "\n",
    "print(\"=== Python Receipt OCR using API\")"
   ]
  },
  {
   "attachments": {},
   "cell_type": "markdown",
   "metadata": {},
   "source": [
    "### OCRing the receipt"
   ]
  },
  {
   "attachments": {},
   "cell_type": "markdown",
   "metadata": {},
   "source": [
    "#### Read jpg file and save into json"
   ]
  },
  {
   "cell_type": "code",
   "execution_count": 40,
   "metadata": {},
   "outputs": [
    {
     "name": "stdout",
     "output_type": "stream",
     "text": [
      "Processed 1.jpg - Result saved to 1.json\n",
      "{\n",
      "  \"ref_no\" : \"ocr_python_123\",\n",
      "  \"success\" : false,\n",
      "  \"message\" : \"Daily quota exceeded. Try again in a few hours or contact us to increase the quota: ocr@asprise.com\",\n",
      "  \"get_help\" : \"Please contact support@asprise.com for assistance.\"\n",
      "}\n",
      "Processed 2.jpg - Result saved to 2.json\n",
      "{\n",
      "  \"ref_no\" : \"ocr_python_123\",\n",
      "  \"success\" : false,\n",
      "  \"message\" : \"Daily quota exceeded. Try again in a few hours or contact us to increase the quota: ocr@asprise.com\",\n",
      "  \"get_help\" : \"Please contact support@asprise.com for assistance.\"\n",
      "}\n",
      "Processed 3.jpg - Result saved to 3.json\n",
      "{\n",
      "  \"ref_no\" : \"ocr_python_123\",\n",
      "  \"success\" : false,\n",
      "  \"message\" : \"Daily quota exceeded. Try again in a few hours or contact us to increase the quota: ocr@asprise.com\",\n",
      "  \"get_help\" : \"Please contact support@asprise.com for assistance.\"\n",
      "}\n",
      "Processed 4.jpg - Result saved to 4.json\n",
      "{\n",
      "  \"ref_no\" : \"ocr_python_123\",\n",
      "  \"success\" : false,\n",
      "  \"message\" : \"Daily quota exceeded. Try again in a few hours or contact us to increase the quota: ocr@asprise.com\",\n",
      "  \"get_help\" : \"Please contact support@asprise.com for assistance.\"\n",
      "}\n"
     ]
    }
   ],
   "source": [
    "OverAsked = False\n",
    "receiptOcrEndpoint = 'https://ocr.asprise.com/api/v1/receipt' # Receipt OCR API endpoint\n",
    "folder_path_img = \"receipts/jpg\" #folder path\n",
    "folder_path_json = \"receipts/json\" \n",
    "\n",
    "#iterate over the files in the folder \n",
    "if OverAsked == False:\n",
    "  for filename in os.listdir(folder_path_img):\n",
    "    if filename.endswith(\".jpg\"):\n",
    "        image_path = os.path.join(folder_path_img, filename)\n",
    "        r = requests.post(receiptOcrEndpoint, data = { \\\n",
    "        'client_id': 'TEST',        # Use 'TEST' for testing purpose \\\n",
    "        'recognizer': 'auto',       # can be 'US', 'CA', 'JP', 'SG' or 'auto' \\\n",
    "        'ref_no': 'ocr_python_123', # optional caller provided ref code \\\n",
    "        }, \\\n",
    "        files = {\"file\": open(image_path, \"rb\")})\n",
    "\n",
    "        # Save the json response to a file\n",
    "        json_filename = os.path.splitext(filename)[0] + \".json\"\n",
    "        json_path = os.path.join(folder_path_json, json_filename)        \n",
    "        with open(json_path, \"w\") as outfile:\n",
    "            json.dump(r.json(), outfile)\n",
    "            #https://www.geeksforgeeks.org/reading-and-writing-json-to-a-file-in-python/\n",
    "\n",
    "        print(f\"Processed {filename} - Result saved to {json_filename}\")\n",
    "        print(r.text)"
   ]
  },
  {
   "cell_type": "code",
   "execution_count": 42,
   "metadata": {},
   "outputs": [
    {
     "name": "stdout",
     "output_type": "stream",
     "text": [
      "{'request_id': 'P_218.186.139.27_kl96a7ie_o9k', 'ref_no': 'AspDemo_1613550458205_154', 'file_name': 'SG-01s.jpg', 'request_received_on': 1613550460551, 'success': True, 'image_width': 1200, 'image_height': 1600, 'image_rotation': -0.006, 'recognition_completed_on': 1613550461387, 'receipts': [{'merchant_name': \"McDonald's\", 'merchant_address': '600 @ Toa Payoh #01-02, Singapore 319515', 'merchant_phone': '62596362', 'merchant_website': None, 'merchant_tax_reg_no': 'M2-0023981-4', 'merchant_company_reg_no': None, 'merchant_logo': '/ocr/api/img/demo/logos/mcd.jpg', 'region': None, 'mall': '600 @ Toa Payoh', 'country': 'SG', 'receipt_no': '002201330026', 'date': '2016-01-13', 'time': '15:49', 'items': [{'amount': 2.95, 'description': 'Med Ice Lemon Tea', 'flags': '', 'qty': 1, 'remarks': None, 'unitPrice': None}, {'amount': 2.4, 'description': 'Coffee with Milk', 'flags': '', 'qty': 1, 'remarks': None, 'unitPrice': None}], 'currency': 'SGD', 'total': 5.35, 'subtotal': None, 'tax': 0.35, 'service_charge': None, 'tip': None, 'payment_method': 'cash', 'payment_details': None, 'credit_card_type': None, 'credit_card_number': None, 'ocr_text': \"         McDonald's Toa Payoh Central\\n            600 @ Toa Payoh #01-02,\\n              Singapore 319515\\n                Tel: 62596362\\n       McDonald's Restaurants Pte Ltd\\n          GST REGN NO : M2-0023981-4\\n                 TAX INVOICE\\n   INV# 002201330026\\n  ORD $57 -REG # 1 - 13/01/2016 15:49:52\\n  QTY ITEM                            TOTAL\\n    1 Med Ice Lemon Tea                2.95\\n    1 Coffee with Milk                 2.40\\n Eat- In Total (incl GST)              5.35\\n Cash Tendered                         10.00\\n Change                                 4.65\\n TOTAL INCLUDES GST OF                  0.35\\n     Thank You and Have A Nice Day\", 'ocr_confidence': 96.6, 'width': 954, 'height': 1170, 'avg_char_width': None, 'avg_line_height': None, 'source_locations': {'date': [[{'y': 684, 'x': 500}, {'y': 681, 'x': 965}, {'y': 747, 'x': 966}, {'y': 750, 'x': 501}]], 'total': [[{'y': 957, 'x': 936}, {'y': 957, 'x': 1041}, {'y': 1012, 'x': 1041}, {'y': 1012, 'x': 936}]], 'receipt_no': [[{'y': 588, 'x': 246}, {'y': 587, 'x': 528}, {'y': 645, 'x': 528}, {'y': 646, 'x': 246}]], 'doc': [[{'y': 163, 'x': 44}, {'y': 157, 'x': 1094}, {'y': 1444, 'x': 1102}, {'y': 1450, 'x': 52}]], 'merchant_name': [[{'y': 223, 'x': 254}, {'y': 215, 'x': 876}, {'y': 260, 'x': 877}, {'y': 269, 'x': 255}]], 'tax': [[{'y': 1200, 'x': 949}, {'y': 1201, 'x': 1057}, {'y': 1258, 'x': 1056}, {'y': 1257, 'x': 948}]], 'merchant_address': [[{'y': 262, 'x': 318}, {'y': 261, 'x': 832}, {'y': 309, 'x': 832}, {'y': 309, 'x': 318}], [{'y': 308, 'x': 383}, {'y': 304, 'x': 768}, {'y': 356, 'x': 769}, {'y': 361, 'x': 384}]], 'merchant_phone': [[{'y': 354, 'x': 539}, {'y': 354, 'x': 719}, {'y': 396, 'x': 719}, {'y': 397, 'x': 539}]], 'merchant_tax_reg_no': [[{'y': 444, 'x': 574}, {'y': 438, 'x': 856}, {'y': 482, 'x': 857}, {'y': 488, 'x': 575}]]}}]}\n"
     ]
    }
   ],
   "source": [
    "with open(\"test.json\", \"r\") as openfile:\n",
    "    #reading from json file\n",
    "    json_object = json.load(openfile)\n",
    "\n",
    "print(json_object)"
   ]
  },
  {
   "attachments": {},
   "cell_type": "markdown",
   "metadata": {},
   "source": [
    "### Find all the items in the receipt"
   ]
  },
  {
   "cell_type": "code",
   "execution_count": 5,
   "metadata": {},
   "outputs": [
    {
     "name": "stdout",
     "output_type": "stream",
     "text": [
      "items:  [{'amount': 2.95, 'description': 'Med Ice Lemon Tea', 'flags': '', 'qty': 1, 'remarks': None, 'unitPrice': None}, {'amount': 2.4, 'description': 'Coffee with Milk', 'flags': '', 'qty': 1, 'remarks': None, 'unitPrice': None}]\n",
      "total:  5.35\n",
      "taxes:  0.35\n"
     ]
    }
   ],
   "source": [
    "if json_object[\"receipts\"] is not None: \n",
    "    receipt_object = json_object[\"receipts\"]\n",
    "    # Access the \"items\" list within the \"receipts\" object\n",
    "    items = json_object[\"receipts\"][0][\"items\"]\n",
    "    total = json_object[\"receipts\"][0][\"total\"]\n",
    "    taxes = json_object[\"receipts\"][0][\"tax\"]\n",
    "    print(\"items: \",items)\n",
    "    print(\"total: \",total)\n",
    "    print(\"taxes: \",taxes)\n",
    "\n",
    "else:\n",
    "    print(\"Error is\"+json_object[\"message\"])"
   ]
  },
  {
   "attachments": {},
   "cell_type": "markdown",
   "metadata": {},
   "source": [
    "### Translation"
   ]
  },
  {
   "attachments": {},
   "cell_type": "markdown",
   "metadata": {},
   "source": [
    "Ressources : https://www.thepythoncode.com/article/translate-text-in-python"
   ]
  },
  {
   "cell_type": "code",
   "execution_count": 6,
   "metadata": {},
   "outputs": [],
   "source": [
    "#init the Google API translator\n",
    "translator = Translator()"
   ]
  },
  {
   "cell_type": "code",
   "execution_count": 7,
   "metadata": {},
   "outputs": [
    {
     "name": "stdout",
     "output_type": "stream",
     "text": [
      "Description :  Thé au citron à glace Med\n",
      "Description :  Café au lait\n"
     ]
    }
   ],
   "source": [
    "for item in items: \n",
    "    description = item[\"description\"]\n",
    "    translation = translator.translate(description, dest=\"fr\")\n",
    "    item[\"description\"] = translation.text\n",
    "    print(\"Description : \", item[\"description\"])"
   ]
  },
  {
   "attachments": {},
   "cell_type": "markdown",
   "metadata": {},
   "source": [
    "### Product"
   ]
  },
  {
   "cell_type": "code",
   "execution_count": 8,
   "metadata": {},
   "outputs": [
    {
     "name": "stdout",
     "output_type": "stream",
     "text": [
      "\n",
      "\n",
      "[]\n"
     ]
    }
   ],
   "source": [
    "#iterate over each item and add them if flaf != none\n",
    "products = []\n",
    "\n",
    "for item in items:\n",
    "    flag = item[\"flags\"]\n",
    "    if flag != \"\":\n",
    "        products.append(item)\n",
    "    #elif :\n",
    "        #find total price\n",
    "    else:\n",
    "        #nothing to do\n",
    "        print()\n",
    "print(products)"
   ]
  },
  {
   "attachments": {},
   "cell_type": "markdown",
   "metadata": {},
   "source": [
    "### Pandas dataframe"
   ]
  },
  {
   "cell_type": "code",
   "execution_count": 15,
   "metadata": {},
   "outputs": [],
   "source": [
    "items_df = pd.DataFrame(items)\n",
    "products_df = pd.DataFrame(products)"
   ]
  },
  {
   "cell_type": "code",
   "execution_count": 25,
   "metadata": {},
   "outputs": [
    {
     "name": "stdout",
     "output_type": "stream",
     "text": [
      "                 description  amount\n",
      "0  Thé au citron à glace Med    2.95\n",
      "1               Café au lait    2.40\n"
     ]
    }
   ],
   "source": [
    "export_csv = pd.DataFrame(products_df[[\"description\", \"amount\"]])\n",
    "print(export_csv)\n",
    "export_csv.to_csv('receipts/export_data.csv', index=False, sep=\";\")"
   ]
  },
  {
   "attachments": {},
   "cell_type": "markdown",
   "metadata": {},
   "source": [
    "## All in one"
   ]
  },
  {
   "cell_type": "code",
   "execution_count": 49,
   "metadata": {},
   "outputs": [
    {
     "name": "stdout",
     "output_type": "stream",
     "text": [
      "{'ref_no': 'ocr_python_123', 'success': False, 'message': 'Daily quota exceeded. Try again in a few hours or contact us to increase the quota: ocr@asprise.com', 'get_help': 'Please contact support@asprise.com for assistance.'}\n",
      "{'ref_no': 'ocr_python_123', 'success': False, 'message': 'Daily quota exceeded. Try again in a few hours or contact us to increase the quota: ocr@asprise.com', 'get_help': 'Please contact support@asprise.com for assistance.'}\n",
      "{'ref_no': 'ocr_python_123', 'success': False, 'message': 'Daily quota exceeded. Try again in a few hours or contact us to increase the quota: ocr@asprise.com', 'get_help': 'Please contact support@asprise.com for assistance.'}\n",
      "{'ref_no': 'ocr_python_123', 'success': False, 'message': 'Daily quota exceeded. Try again in a few hours or contact us to increase the quota: ocr@asprise.com', 'get_help': 'Please contact support@asprise.com for assistance.'}\n"
     ]
    }
   ],
   "source": [
    "receipt_object_all = []\n",
    "items_all = []\n",
    "total_all = []\n",
    "taxes_all = []\n",
    "products_all = []\n",
    "\n",
    "#init the Google API translator\n",
    "translator_all = Translator()\n",
    "\n",
    "for filename in os.listdir(folder_path_json):\n",
    "    if filename.endswith(\".json\"):\n",
    "        json_path = os.path.join(folder_path_json, filename)\n",
    "        #Read all json in json folder\n",
    "        with open(json_path, \"r\") as openfile:\n",
    "            #reading from json file\n",
    "            json_object_all = json.load(openfile)\n",
    "        print(json_object_all)\n",
    "\n",
    "        if json_object_all[\"success\"] != False:\n",
    "            #Sort the items, ... in the reicept\n",
    "            if json_object_all[\"receipts\"] is not None: \n",
    "                receipt_object_all.append(json_object[\"receipts\"])\n",
    "                # Access the \"items\" list within the \"receipts\" object\n",
    "                items_all.append(json_object[\"receipts\"][0][\"items\"])\n",
    "                print(\"items: \",items)\n",
    "                total_all.append(json_object[\"receipts\"][0][\"total\"])\n",
    "                print(\"total: \",total_all)\n",
    "                taxes_all.append(json_object[\"receipts\"][0][\"tax\"])\n",
    "                print(\"taxes: \",taxes_all)\n",
    "\n",
    "            else:\n",
    "                print(\"Error is\"+json_object[\"message\"])\n",
    "\n",
    "            #translate all the descriptions\n",
    "            for item in items_all: \n",
    "                description_all = item[\"description\"]\n",
    "                translation_all = translator_all.translate(description, dest=\"fr\")\n",
    "                item[\"description\"] = translation_all.text\n",
    "                print(\"Description : \", item[\"description\"])\n",
    "\n",
    "            #find all the product, only the product -> find with tag ?\n",
    "            for item in items_all:\n",
    "                flag = item[\"flags\"]\n",
    "                if flag != \"\":\n",
    "                    products_all.append(items_all)\n",
    "            print(products_all)\n",
    "\n",
    "if items_all and products_all is not None:\n",
    "    #Convert into df and csv                \n",
    "    items_df_all = pd.DataFrame(items_all)\n",
    "    products_df_all = pd.DataFrame(products_all)\n",
    "\n",
    "    export_csv_all = pd.DataFrame(products_df_all[[\"description\", \"amount\"]])\n",
    "    print(export_csv_all)\n",
    "    export_csv_all.to_csv('receipts/export_data_all.csv', index=False, sep=\";\")\n"
   ]
  }
 ],
 "metadata": {
  "kernelspec": {
   "display_name": "myenv",
   "language": "python",
   "name": "python3"
  },
  "language_info": {
   "codemirror_mode": {
    "name": "ipython",
    "version": 3
   },
   "file_extension": ".py",
   "mimetype": "text/x-python",
   "name": "python",
   "nbconvert_exporter": "python",
   "pygments_lexer": "ipython3",
   "version": "3.10.11"
  },
  "orig_nbformat": 4
 },
 "nbformat": 4,
 "nbformat_minor": 2
}
