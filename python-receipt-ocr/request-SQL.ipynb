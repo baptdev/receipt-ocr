{
 "cells": [
  {
   "cell_type": "markdown",
   "metadata": {},
   "source": [
    "### Format and send data to TimescaleDB\n"
   ]
  },
  {
   "cell_type": "code",
   "execution_count": 54,
   "metadata": {},
   "outputs": [],
   "source": [
    "import os\n",
    "import requests\n",
    "import pandas as pd\n",
    "import json\n",
    "from datetime import datetime"
   ]
  },
  {
   "cell_type": "markdown",
   "metadata": {},
   "source": [
    "### OCRing the receipt\n"
   ]
  },
  {
   "cell_type": "code",
   "execution_count": 14,
   "metadata": {},
   "outputs": [],
   "source": [
    "receiptOcrEndpoint = \"https://ocr.asprise.com/api/v1/receipt\" # Receipt OCR API endpoint\n",
    "folder_path_img = \"receipts/jpg\" #folder path\n",
    "folder_path_json = \"receipts/json\" \n",
    "folder_path_pdf = \"receipts/pdf\""
   ]
  },
  {
   "cell_type": "markdown",
   "metadata": {},
   "source": [
    "### 1) Convert pdf to jpg\n"
   ]
  },
  {
   "cell_type": "code",
   "execution_count": 4,
   "metadata": {},
   "outputs": [],
   "source": [
    "from pdf2image import convert_from_path\n",
    " \n",
    "for filename in os.listdir(folder_path_pdf):\n",
    "    if filename.endswith(\".pdf\"):\n",
    "        pdf_path = os.path.join(folder_path_pdf, filename)\n",
    "        \n",
    "        # Store Pdf with convert_from_path function\n",
    "        images = convert_from_path(pdf_path)\n",
    "        \n",
    "        for i in range(len(images)): \n",
    "            # Save pages as images in the pdf\n",
    "            jpg_filename = folder_path_img + \"/\" + os.path.splitext(filename)[0] +\".jpg\"\n",
    "            images[i].save(jpg_filename, \"JPEG\")\n",
    "\n",
    "        print(f\"Processed {filename} - Result saved to {jpg_filename}\")\n"
   ]
  },
  {
   "cell_type": "markdown",
   "metadata": {},
   "source": [
    "### 2) Read jpg file and save into json\n"
   ]
  },
  {
   "cell_type": "code",
   "execution_count": 6,
   "metadata": {},
   "outputs": [],
   "source": [
    "OverAsked = True"
   ]
  },
  {
   "cell_type": "code",
   "execution_count": 31,
   "metadata": {},
   "outputs": [],
   "source": [
    "#iterate over the files in the folder \n",
    "if OverAsked == False:\n",
    "  for filename in os.listdir(folder_path_img):\n",
    "    if filename.endswith(\".jpg\"):\n",
    "        image_path = os.path.join(folder_path_img, filename)\n",
    "        r = requests.post(receiptOcrEndpoint, data = {\n",
    "        \"client_id\": \"TEST\",        # Use \"TEST' for testing purpose /\n",
    "        'recognizer': 'auto',       # can be 'US', \"CA', 'JP', 'SG' or 'auto' /\n",
    "        'ref_no': 'ocr_python_123', # optional caller provided ref code /\n",
    "        },\n",
    "        files = {\"file\": open(image_path, \"rb\")})\n",
    "\n",
    "        # Save the json response to a file\n",
    "        json_filename = os.path.splitext(filename)[0] + \".json\"\n",
    "        json_path = os.path.join(folder_path_json, json_filename)        \n",
    "        with open(json_path, \"w\") as outfile:\n",
    "            json.dump(r.json(), outfile)\n",
    "            #https://www.geeksforgeeks.org/reading-and-writing-json-to-a-file-in-python/\n",
    "\n",
    "        print(f\"Processed {filename} - Result saved to {json_filename}\")\n",
    "        print(r.text)"
   ]
  },
  {
   "cell_type": "markdown",
   "metadata": {},
   "source": [
    "## 3) All in one\n"
   ]
  },
  {
   "cell_type": "code",
   "execution_count": 60,
   "metadata": {},
   "outputs": [
    {
     "name": "stdout",
     "output_type": "stream",
     "text": [
      "lidl-03-06-23-1.json :  {'ocr_type': 'receipts', 'request_id': 'P_92.184.117.81_lj1wnslk_cvi', 'ref_no': 'ocr_python_123', 'file_name': 'lidl-03-06-23.jpg', 'request_received_on': 1687121634441, 'success': True, 'image_width': 845, 'image_height': 2200, 'image_rotation': 0.014, 'recognition_completed_on': 1687121634987, 'receipts': [{'merchant_name': 'LIDL Müllerstraße 48-48a', 'merchant_address': '13349 Berlin-Wedding', 'merchant_phone': None, 'merchant_website': None, 'merchant_tax_reg_no': None, 'merchant_company_reg_no': None, 'region': None, 'mall': None, 'country': 'DE', 'receipt_no': 'DE813388858', 'date': '2023-06-03', 'time': '20:45', 'items': [{'amount': 1.01, 'category': None, 'description': 'TomateStrau. kg', 'flags': ' A', 'qty': None, 'remarks': None, 'tags': None, 'unitPrice': None}, {'amount': 0.95, 'category': None, 'description': 'Eisbergsalat', 'flags': ' A', 'qty': None, 'remarks': None, 'tags': None, 'unitPrice': None}, {'amount': 1.99, 'category': None, 'description': 'Asiatisches Gemüse', 'flags': ' A', 'qty': None, 'remarks': None, 'tags': None, 'unitPrice': None}, {'amount': 0.99, 'category': None, 'description': 'Mozzarella', 'flags': ' A', 'qty': None, 'remarks': None, 'tags': None, 'unitPrice': None}, {'amount': 1.05, 'category': None, 'description': 'H-Milch 1,5% OGT', 'flags': ' A', 'qty': None, 'remarks': None, 'tags': None, 'unitPrice': None}, {'amount': 0.89, 'category': None, 'description': 'Spaghetti XXL', 'flags': ' A', 'qty': None, 'remarks': None, 'tags': None, 'unitPrice': None}, {'amount': 2.29, 'category': None, 'description': 'Bio Eter', 'flags': ' A', 'qty': None, 'remarks': None, 'tags': None, 'unitPrice': None}, {'amount': 3.19, 'category': None, 'description': 'Lebensmittel', 'flags': ' A', 'qty': None, 'remarks': None, 'tags': None, 'unitPrice': None}, {'amount': 1.99, 'category': None, 'description': 'Mehrfrucht-Karotten', 'flags': ' B', 'qty': None, 'remarks': None, 'tags': None, 'unitPrice': None}, {'amount': 2.39, 'category': None, 'description': 'Cashewkerne 200g', 'flags': ' A', 'qty': None, 'remarks': None, 'tags': None, 'unitPrice': None}, {'amount': 2.19, 'category': None, 'description': 'Cranberries getrock', 'flags': ' A', 'qty': None, 'remarks': None, 'tags': None, 'unitPrice': None}, {'amount': 3.99, 'category': None, 'description': 'Hähnchen-Geschn', 'flags': ' A', 'qty': None, 'remarks': None, 'tags': None, 'unitPrice': None}, {'amount': 4.89, 'category': None, 'description': 'Rinderhack 500g', 'flags': ' A', 'qty': None, 'remarks': None, 'tags': None, 'unitPrice': None}, {'amount': 27.81, 'category': None, 'description': 'zu zahlen', 'flags': '', 'qty': None, 'remarks': None, 'tags': None, 'unitPrice': None}, {'amount': 27.81, 'category': None, 'description': 'Kreditkarte', 'flags': '', 'qty': None, 'remarks': None, 'tags': None, 'unitPrice': None}, {'amount': 25.82, 'category': None, 'description': 'A 7%1,6924,13', 'flags': '', 'qty': None, 'remarks': None, 'tags': None, 'unitPrice': None}, {'amount': 1.99, 'category': None, 'description': 'B 19 %0,321,67', 'flags': '', 'qty': None, 'remarks': None, 'tags': None, 'unitPrice': None}], 'currency': 'EUR', 'total': 27.81, 'subtotal': None, 'tax': None, 'service_charge': None, 'tip': None, 'payment_method': None, 'payment_details': None, 'credit_card_type': None, 'credit_card_number': None, 'ocr_text': '                 LIDL\\n           Müllerstraße 48-48a\\n           13349 Berlin-Wedding\\n                                     EUR\\n TomateStrau. kg                    1,01 A\\n  0,650 kg x 1,55 EUR/kg\\n Eisbergsalat                       0,95 A\\n Asiatisches Gemüse                 1,99 A\\n Mozzarella                         0,99 A\\n H-Milch 1,5% OGT                   1,05 A\\n Spaghetti XXL                      0,89 A\\n Bio Eter                           2,29 A\\n Lebensmittel                       3,19 A\\n Mehrfrucht-Karotten                1,99 B\\n Cashewkerne 200g                   2,39 A\\n Cranberries getrock.               2,19 A\\n Hähnchen-Geschn.                   3,99 A\\n Rinderhack 500g                    4,89 A\\n zu zahlen                         27,81\\n Kreditkarte                       27,81\\n  MWSTX       MWST + Netto = Brutto\\n A 7%         1,69      24,13      25,82\\n B 19 %       0,32       1,67       1,99\\n Summe        2,01      25,80      27,81\\n    Lade dir die Lidl Plus App herunter\\n und spare bei deinem nächsten Einkauf.\\n TSE Transaktionsnummer: 338801\\n Seriennr. Kasse: LDL-000-5044-1\\n Prüfwert: qE12zAxwovpxhiSSy3tKfgJ7UksPbZFM\\n JhpZtZN9NFYPR/bwsq19FPRgCDSuNq3stsKVYv9wxD\\n KOK5ZhFN/2fSG83a0ma3fhgYHeLHqo16B1KdphEScv\\n EraqQ7MW1zoZ\\n Signaturzähler: 687029\\n 2023-06-03T18: 45: 11.000Z\\n  2023-06-03T18: 48: 54.00OZ\\n  5044 751211/01             03.06.23 20:45\\n           UST-ID-NR: DE813388858', 'ocr_confidence': 95.74, 'width': 787, 'height': 2089, 'avg_char_width': 18.4393, 'avg_line_height': 33.1418, 'conf_amount': 83, 'source_locations': {'date': [[{'y': 2090, 'x': 545}, {'y': 2094, 'x': 822}, {'y': 2132, 'x': 822}, {'y': 2128, 'x': 544}]], 'total': [[{'y': 1265, 'x': 664}, {'y': 1267, 'x': 765}, {'y': 1304, 'x': 764}, {'y': 1302, 'x': 663}]], 'receipt_no': [[{'y': 2132, 'x': 402}, {'y': 2133, 'x': 619}, {'y': 2167, 'x': 618}, {'y': 2166, 'x': 402}]], 'merchant_name': [[{'y': 78, 'x': 350}, {'y': 78, 'x': 536}, {'y': 134, 'x': 536}, {'y': 134, 'x': 350}], [{'y': 137, 'x': 239}, {'y': 143, 'x': 623}, {'y': 180, 'x': 622}, {'y': 174, 'x': 238}]], 'doc': [[{'y': -32, 'x': 14}, {'y': -20, 'x': 879}, {'y': 2277, 'x': 846}, {'y': 2265, 'x': -18}]], 'merchant_address': [[{'y': 183, 'x': 223}, {'y': 193, 'x': 643}, {'y': 233, 'x': 642}, {'y': 223, 'x': 222}]]}}]}\n",
      "Grocery named: LIDL Müllerstraße 48-48a, 2023-06-03 20:45\n",
      "Translation mode : False\n",
      "lidl-03-06-23-2.json :  {'ocr_type': 'receipts', 'request_id': 'P_92.184.117.81_lj1wnrfo_uay', 'ref_no': 'ocr_python_123', 'file_name': 'lidl-03-06-23-2.jpg', 'request_received_on': 1687121632933, 'success': True, 'image_width': 831, 'image_height': 2200, 'image_rotation': -0.016, 'recognition_completed_on': 1687121633408, 'receipts': [{'merchant_name': 'Müllerstraße 48-48a', 'merchant_address': '13349 Berlin-Wedding', 'merchant_phone': None, 'merchant_website': None, 'merchant_tax_reg_no': None, 'merchant_company_reg_no': None, 'region': None, 'mall': None, 'country': 'DE', 'receipt_no': 'DE813388858', 'date': '2023-06-03', 'time': '09:56', 'items': [{'amount': 1.19, 'category': None, 'description': 'Bananen kg', 'flags': ' A', 'qty': None, 'remarks': None, 'tags': None, 'unitPrice': None}, {'amount': 2.99, 'category': None, 'description': 'Nektarinen', 'flags': ' A', 'qty': None, 'remarks': None, 'tags': None, 'unitPrice': None}, {'amount': 1.79, 'category': None, 'description': 'Del.Kochschinken', 'flags': ' A', 'qty': None, 'remarks': None, 'tags': None, 'unitPrice': None}, {'amount': 0.89, 'category': None, 'description': 'Apfelmus gezuckert', 'flags': ' A', 'qty': None, 'remarks': None, 'tags': None, 'unitPrice': None}, {'amount': 0.99, 'category': None, 'description': 'Junge Brechbohnen', 'flags': ' A', 'qty': None, 'remarks': None, 'tags': None, 'unitPrice': None}, {'amount': 4.05, 'category': None, 'description': 'Toilettenpapier 31g', 'flags': ' B', 'qty': None, 'remarks': None, 'tags': None, 'unitPrice': None}, {'amount': 2.85, 'category': None, 'description': 'Küchentücher', 'flags': ' B', 'qty': None, 'remarks': None, 'tags': None, 'unitPrice': None}, {'amount': 0.65, 'category': None, 'description': 'Per.Tragetasche', 'flags': ' B', 'qty': None, 'remarks': None, 'tags': None, 'unitPrice': None}, {'amount': 1.95, 'category': None, 'description': 'Hygienespray Univer', 'flags': ' B', 'qty': None, 'remarks': None, 'tags': None, 'unitPrice': None}, {'amount': 0.75, 'category': None, 'description': 'Topfschwamm', 'flags': ' B', 'qty': None, 'remarks': None, 'tags': None, 'unitPrice': None}, {'amount': 1.89, 'category': None, 'description': 'Abfallsäcke 601 25er', 'flags': ' B', 'qty': None, 'remarks': None, 'tags': None, 'unitPrice': None}, {'amount': 1.99, 'category': None, 'description': 'Allzweckrein. Tü', 'flags': ' B', 'qty': None, 'remarks': None, 'tags': None, 'unitPrice': None}, {'amount': 9.99, 'category': None, 'description': \"Frischhalt '0384936\", 'flags': ' B', 'qty': None, 'remarks': None, 'tags': None, 'unitPrice': None}, {'amount': 31.97, 'category': None, 'description': 'zu zahlen', 'flags': '', 'qty': None, 'remarks': None, 'tags': None, 'unitPrice': None}, {'amount': 31.97, 'category': None, 'description': 'Kreditkarte', 'flags': '', 'qty': None, 'remarks': None, 'tags': None, 'unitPrice': None}, {'amount': 7.85, 'category': None, 'description': 'A 7%0,517,34', 'flags': '', 'qty': None, 'remarks': None, 'tags': None, 'unitPrice': None}, {'amount': 24.12, 'category': None, 'description': 'B 19 %3,8520,27', 'flags': '', 'qty': None, 'remarks': None, 'tags': None, 'unitPrice': None}], 'currency': 'EUR', 'total': 31.97, 'subtotal': None, 'tax': None, 'service_charge': None, 'tip': None, 'payment_method': None, 'payment_details': None, 'credit_card_type': None, 'credit_card_number': None, 'ocr_text': \"            Müllerstraße 48-48a\\n           13349 Berlin-Wedding\\n                                      EUR\\n Bananen kg                          1,19 A\\n   0,880 kg x 1,35 EUR/kg\\n Nektarinen                         2,99 A\\n Del.Kochschinken                   1,79 A\\n Apfelmus gezuckert                 0,89 A\\n Junge Brechbohnen                  0,99 A\\n Toilettenpapier 31g.               4,05 B\\n Küchentücher                       2,85 B\\n Per.Tragetasche                    0,65 B\\n Hygienespray Univer.               1,95 B\\n Topfschwamm                        0,75 B\\n Abfallsäcke 601 25er               1,89 B\\n Allzweckrein. Tü                   1,99 B\\n Frischhalt '0384936                9,99 B\\n zu zahlen                         31,97\\n Kreditkarte                       31,97\\n MWSTX        MWST + Netto = Brutto\\n A 7%        0,51       7,34       7,85\\n B 19 %       3,85     20,27      24,12\\n Summe        4,36     27,61      31,97\\n   Lade dir die Lidl Plus App herunter\\n und spare bei deinem nächsten Einkauf.\\n TSE Transaktionsnummer: 336676\\n Seriennr. Kasse: LDL-000-5044-2\\n Prüfwert: NSD7WPhqbJ6xpY90HHZ4S1 + j + u2CTWb6\\n I1VIDRYYTIgLrwc + Ugj9rOdltpyeYKmsjjnso57u5q\\n Sj95b4EsxGt6vQIbtbhURhRn1PSm/v9XdvHJ0aiK/Q\\n n5FS0L3fSvsV\\n Signaturzähler: 682773\\n 2023-06-03T07: 56: 56.000Z\\n 2023-06-03T07: 59: 24.000Z\\n 5044  856008/02            03.06.23 09:56\\n         UST-ID-NR: DE813388858\", 'ocr_confidence': 95.16, 'width': 772, 'height': 2082, 'avg_char_width': 18.2383, 'avg_line_height': 33.4237, 'conf_amount': 83, 'source_locations': {'date': [[{'y': 2088, 'x': 542}, {'y': 2084, 'x': 809}, {'y': 2119, 'x': 809}, {'y': 2123, 'x': 542}]], 'total': [[{'y': 1276, 'x': 656}, {'y': 1276, 'x': 754}, {'y': 1312, 'x': 754}, {'y': 1312, 'x': 656}]], 'receipt_no': [[{'y': 2132, 'x': 404}, {'y': 2127, 'x': 615}, {'y': 2162, 'x': 616}, {'y': 2167, 'x': 405}]], 'merchant_name': [[{'y': 147, 'x': 232}, {'y': 158, 'x': 614}, {'y': 198, 'x': 613}, {'y': 187, 'x': 231}]], 'doc': [[{'y': -12, 'x': -15}, {'y': -25, 'x': 834}, {'y': 2264, 'x': 870}, {'y': 2278, 'x': 20}]], 'merchant_address': [[{'y': 196, 'x': 214}, {'y': 202, 'x': 637}, {'y': 255, 'x': 636}, {'y': 249, 'x': 214}]]}}]}\n",
      "Grocery named: Müllerstraße 48-48a, 2023-06-03 09:56\n",
      "Translation mode : False\n",
      "lidl-06-07-23.json :  {'file_name': 'lidl-06-07-23.jpg', 'image_height': 2200, 'image_rotation': -0.015, 'image_width': 830, 'ocr_type': 'receipts', 'receipts': [{'avg_char_width': 18.102, 'avg_line_height': 35.7932, 'conf_amount': 83, 'country': 'DE', 'credit_card_number': None, 'credit_card_type': None, 'currency': 'EUR', 'date': '2023-07-04', 'height': 2144, 'items': [{'amount': 1.29, 'category': None, 'description': 'Bananen kg', 'flags': ' A', 'qty': None, 'remarks': None, 'tags': None, 'unitPrice': None}, {'amount': 0.44, 'category': None, 'description': 'Gurke Stk', 'flags': ' A', 'qty': None, 'remarks': None, 'tags': None, 'unitPrice': None}, {'amount': 1.99, 'category': None, 'description': 'Asiatisches Gemüse', 'flags': '', 'qty': None, 'remarks': None, 'tags': None, 'unitPrice': None}, {'amount': 1.99, 'category': None, 'description': 'Prinzessbohnen 1000g', 'flags': '', 'qty': None, 'remarks': None, 'tags': None, 'unitPrice': None}, {'amount': 1.99, 'category': None, 'description': 'Fr.Eier.a.Bo.ha OKT', 'flags': ' A', 'qty': None, 'remarks': None, 'tags': None, 'unitPrice': None}, {'amount': 0.95, 'category': None, 'description': 'H-Milch 1,5% OGT', 'flags': ' A', 'qty': None, 'remarks': None, 'tags': None, 'unitPrice': None}, {'amount': 1.69, 'category': None, 'description': 'Rohrzucker Fairglobe', 'flags': '', 'qty': None, 'remarks': None, 'tags': None, 'unitPrice': None}, {'amount': 2.49, 'category': None, 'description': 'Knuspermüsli + Schoko', 'flags': '', 'qty': None, 'remarks': None, 'tags': None, 'unitPrice': None}, {'amount': 1.59, 'category': None, 'description': 'Riesa Spaghetti', 'flags': '', 'qty': None, 'remarks': None, 'tags': None, 'unitPrice': None}, {'amount': 0.89, 'category': None, 'description': 'Apfelmus gezuckert', 'flags': '', 'qty': None, 'remarks': None, 'tags': None, 'unitPrice': None}, {'amount': 1.99, 'category': None, 'description': 'Mehrfrucht-Karotten', 'flags': ' B', 'qty': None, 'remarks': None, 'tags': None, 'unitPrice': None}, {'amount': 5.99, 'category': None, 'description': 'Hähnchenbr.Filet600g', 'flags': ' A', 'qty': None, 'remarks': None, 'tags': None, 'unitPrice': None}, {'amount': 23.29, 'category': None, 'description': 'zu zahlen', 'flags': '', 'qty': None, 'remarks': None, 'tags': None, 'unitPrice': None}, {'amount': 23.29, 'category': None, 'description': 'Kreditkarte', 'flags': '', 'qty': None, 'remarks': None, 'tags': None, 'unitPrice': None}, {'amount': 21.3, 'category': None, 'description': 'A 7%1,3919,91', 'flags': '', 'qty': None, 'remarks': None, 'tags': None, 'unitPrice': None}, {'amount': 1.99, 'category': None, 'description': 'B 19 %0,321,67', 'flags': '', 'qty': None, 'remarks': None, 'tags': None, 'unitPrice': None}], 'mall': None, 'merchant_address': '13349 Berlin-Wedding', 'merchant_company_reg_no': None, 'merchant_name': 'LIDL Müllerstraße 48-48a', 'merchant_phone': None, 'merchant_tax_reg_no': None, 'merchant_website': None, 'ocr_confidence': 95.16, 'ocr_text': '                  LIDL\\n            Müllerstraße 48-48a\\n           13349 Berlin-Wedding\\n                                      EUR\\n Bananen kg                          1,29 A\\n   1,002 kg x 1,29 EUR/kg\\n Gurke Stk                          0,44 A\\n Asiatisches Gemüse                  1,99\\n Prinzessbohnen 1000g               1,99\\n Fr.Eier.a.Bo.ha OKT                 1,99 A\\n H-Milch 1,5% OGT                   0,95 A\\n Rohrzucker Fairglobe               1,69\\n Knuspermüsli + Schoko              2,49\\n Riesa Spaghetti                    1,59\\n Apfelmus gezuckert                 0,89\\n Mehrfrucht-Karotten                1,99 B\\n Hähnchenbr.Filet600g               5,99 A\\n zu zahlen                         23,29\\n Kreditkarte                       23,29\\n MWSTX        MWST + Netto Netto Brutto\\n A 7%         1,39      19,91     21,30\\n B 19 %       0,32       1,67       1,99\\n Summe        1,71     21,58      23,29\\n   Lade dir die Lidl Plus App herunter\\n  und are      deinem nächsten Einkauf.\\n TSE Transaktionsnummer: 393703\\n Seriennr. Kasse: LDL-000-5044-1\\n Prüfwert: VfWhw/L9PB8FSP21q0hgUw3jLJrTEPAZ\\n 4PL2inxxjBCfvLu19XvxtU5UVCa4w02Pp1yCWfEpZq\\n zD7CK1Baxot59m2NAOKUCmRy 1pS0t9vFy/6J4KP +\\n 8Cz8fo1ZC3WW\\n Signaturzähler: 798383\\n 2023-07-04T18: 56: 57.000Z\\n 2023-07-04T18: 57: 42.000Z\\n 5044 780284/01             04.07.23 20: 5\\n         UST-ID-NR: DEB13388858', 'payment_details': None, 'payment_method': None, 'receipt_no': 'DEB13388858', 'region': None, 'service_charge': None, 'source_locations': {'date': [[{'x': 533, 'y': 2081}, {'x': 689, 'y': 2079}, {'x': 689, 'y': 2116}, {'x': 533, 'y': 2118}]], 'doc': [[{'x': -23, 'y': -79}, {'x': 825, 'y': -92}, {'x': 861, 'y': 2266}, {'x': 12, 'y': 2279}]], 'merchant_address': [[{'x': 198, 'y': 140}, {'x': 620, 'y': 141}, {'x': 620, 'y': 187}, {'x': 198, 'y': 185}]], 'merchant_name': [[{'x': 326, 'y': 23}, {'x': 510, 'y': 18}, {'x': 511, 'y': 79}, {'x': 328, 'y': 84}], [{'x': 216, 'y': 89}, {'x': 601, 'y': 85}, {'x': 601, 'y': 134}, {'x': 216, 'y': 138}]], 'receipt_no': [[{'x': 389, 'y': 2130}, {'x': 602, 'y': 2127}, {'x': 603, 'y': 2164}, {'x': 390, 'y': 2167}]], 'total': [[{'x': 645, 'y': 1214}, {'x': 746, 'y': 1214}, {'x': 746, 'y': 1252}, {'x': 645, 'y': 1252}]]}, 'subtotal': None, 'tax': None, 'time': None, 'tip': None, 'total': 23.29, 'width': 771}], 'recognition_completed_on': 1688910722456, 'ref_no': 'ocr_python_123', 'request_id': 'P_92.184.96.6_ljvhu575_rwe', 'request_received_on': 1688910721745, 'success': True}\n",
      "Grocery named: LIDL Müllerstraße 48-48a, 2023-07-04 19:00\n",
      "Translation mode : False\n",
      "lidl-07-06-23.json :  {'ocr_type': 'receipts', 'request_id': 'P_92.184.117.81_lj1wntu3_adt', 'ref_no': 'ocr_python_123', 'file_name': 'lidl-07-06-23.jpg', 'request_received_on': 1687121636044, 'success': True, 'image_width': 747, 'image_height': 2200, 'image_rotation': 0.015, 'recognition_completed_on': 1687121636722, 'receipts': [{'merchant_name': 'LIDL Müllerstraße 48-48a', 'merchant_address': '13349 Berlin-Wedding', 'merchant_phone': None, 'merchant_website': None, 'merchant_tax_reg_no': None, 'merchant_company_reg_no': None, 'region': None, 'mall': None, 'country': 'DE', 'receipt_no': 'DE813388858', 'date': '2023-06-07', 'time': '19:32', 'items': [{'amount': 1.83, 'category': None, 'description': 'TomateStrau. kg', 'flags': ' A', 'qty': None, 'remarks': None, 'tags': None, 'unitPrice': None}, {'amount': 1.99, 'category': None, 'description': 'Feinschmeckergemüse', 'flags': ' A', 'qty': None, 'remarks': None, 'tags': None, 'unitPrice': None}, {'amount': 1.99, 'category': None, 'description': 'Mexikanisches Gemüse', 'flags': ' A', 'qty': None, 'remarks': None, 'tags': None, 'unitPrice': None}, {'amount': 3.49, 'category': None, 'description': 'Nasi Goreng', 'flags': ' A', 'qty': None, 'remarks': None, 'tags': None, 'unitPrice': None}, {'amount': 1.98, 'category': None, 'description': 'Mozzarella light0,992', 'flags': ' A', 'qty': None, 'remarks': None, 'tags': None, 'unitPrice': None}, {'amount': 2.99, 'category': None, 'description': 'Gouda Scheiben', 'flags': ' A', 'qty': None, 'remarks': None, 'tags': None, 'unitPrice': None}, {'amount': 4.99, 'category': None, 'description': 'Olivenöl Extra', 'flags': ' A', 'qty': None, 'remarks': None, 'tags': None, 'unitPrice': None}, {'amount': 0.95, 'category': None, 'description': 'Bio Haferflocken', 'flags': ' A', 'qty': None, 'remarks': None, 'tags': None, 'unitPrice': None}, {'amount': 1.39, 'category': None, 'description': 'Erdbeer-Konfitüre', 'flags': ' A', 'qty': None, 'remarks': None, 'tags': None, 'unitPrice': None}, {'amount': 1.19, 'category': None, 'description': 'Maccronelli', 'flags': ' A', 'qty': None, 'remarks': None, 'tags': None, 'unitPrice': None}, {'amount': 2.99, 'category': None, 'description': 'Basmati Reis', 'flags': ' A', 'qty': None, 'remarks': None, 'tags': None, 'unitPrice': None}, {'amount': 1.05, 'category': None, 'description': 'H-Milch 1,5% OGT', 'flags': ' A', 'qty': None, 'remarks': None, 'tags': None, 'unitPrice': None}, {'amount': 0.85, 'category': None, 'description': 'Gehackte Tomaten', 'flags': ' A', 'qty': None, 'remarks': None, 'tags': None, 'unitPrice': None}, {'amount': 0.89, 'category': None, 'description': 'Apfelmus gezuckert', 'flags': ' A', 'qty': None, 'remarks': None, 'tags': None, 'unitPrice': None}, {'amount': 2.49, 'category': None, 'description': 'FUEGO Tortillas Clas', 'flags': ' A', 'qty': None, 'remarks': None, 'tags': None, 'unitPrice': None}, {'amount': 0.75, 'category': None, 'description': 'Traube-Nuß Sch. 100g', 'flags': ' A', 'qty': None, 'remarks': None, 'tags': None, 'unitPrice': None}, {'amount': 5.49, 'category': None, 'description': 'Snackmandeln XXL', 'flags': ' A', 'qty': None, 'remarks': None, 'tags': None, 'unitPrice': None}, {'amount': 1.15, 'category': None, 'description': 'Schwammtuch 5er', 'flags': ' B', 'qty': None, 'remarks': None, 'tags': None, 'unitPrice': None}, {'amount': 1.35, 'category': None, 'description': 'Frischhaltefolie', 'flags': ' B', 'qty': None, 'remarks': None, 'tags': None, 'unitPrice': None}, {'amount': 1.95, 'category': None, 'description': 'Gefrierbeutel', 'flags': ' B', 'qty': None, 'remarks': None, 'tags': None, 'unitPrice': None}, {'amount': 41.75, 'category': None, 'description': 'zu zahlen', 'flags': '', 'qty': None, 'remarks': None, 'tags': None, 'unitPrice': None}, {'amount': 41.75, 'category': None, 'description': 'Kreditkarte', 'flags': '', 'qty': None, 'remarks': None, 'tags': None, 'unitPrice': None}, {'amount': 37.3, 'category': None, 'description': 'A 7%2,4434,86', 'flags': '', 'qty': None, 'remarks': None, 'tags': None, 'unitPrice': None}, {'amount': 4.45, 'category': None, 'description': 'B 19 %0,713,74', 'flags': '', 'qty': None, 'remarks': None, 'tags': None, 'unitPrice': None}], 'currency': 'EUR', 'total': 41.75, 'subtotal': None, 'tax': None, 'service_charge': None, 'tip': None, 'payment_method': None, 'payment_details': None, 'credit_card_type': None, 'credit_card_number': None, 'ocr_text': '                 LIDL\\n           Müllerstraße 48-48a\\n          13349 Berlin-Wedding\\n                                    EUR\\n TomateStrau. kg                   1,83 A\\n  1,416 kg x 1,29 EUR/kg\\n Feinschmeckergemüse                1,99 A\\n Mexikanisches Gemüse               1,99 A\\n Nasi Goreng                       3,49 A\\n Mozzarella light     0,99     2     1,98 A\\n Gouda Scheiben                    2,99 A\\n Olivenöl Extra                    4,99 A\\n Bio Haferflocken                  0,95 A\\n Erdbeer-Konfitüre                  1,39 A\\n Maccronelli                        1,19 A\\n Basmati Reis                       2,99 A\\n H-Milch 1,5% OGT                   1,05 A\\n Gehackte Tomaten                   0,85 A\\n Apfelmus gezuckert                 0,89 A\\n FUEGO Tortillas Clas               2,49 A\\n Traube-Nuß Sch. 100g               0,75 A\\n Snackmandeln XXL                   5,49 A\\n Schwammtuch 5er                    1,15 B\\n Frischhaltefolie                   1,35 B\\n Gefrierbeutel                      1,95 B\\n zu zahlen                         41,75\\n Kreditkarte                       41.75\\n  MWSTX       MWST +    Netto = Brutto\\n A 7%         2,44      34,86      37,30\\n B 19 %       0,71       3,74       4,45\\n Summe        3,15      38,60      41,75\\n    Lade dir die Lidl Plus App herunter\\n  und spare bei deinem nächsten Einkauf.\\n TSE Transaktionsnummer: 344943\\n Seriennr. Kasse: LDL-000-5044-2\\n Prüfwert: wQ80nZVIf2c4tUwD1EKq6HYxj + nUGgF/\\n 2ux4018alt3CJkYr/EaJ34ngLQq + SekebsNqz3Lj/z\\n WSVUDOKUxaGWbcCGFeWuWSTnQL + HqWObrMcPFhRp14\\n HylorGU8M1Kf\\n Signaturzähler: 699490\\n 2023-06-07T17: 32: 26.000Z\\n 2023-06-07T17: 33: 34.000Z\\n 5044 858600/02              07.06.23 19:32\\n          UST-ID-NR: DE813388858', 'ocr_confidence': 95.43, 'width': 703, 'height': 2138, 'avg_char_width': 16.2142, 'avg_line_height': 30.1954, 'conf_amount': 83, 'source_locations': {'date': [[{'y': 2113, 'x': 482}, {'y': 2117, 'x': 734}, {'y': 2154, 'x': 734}, {'y': 2150, 'x': 482}]], 'total': [[{'y': 1376, 'x': 591}, {'y': 1376, 'x': 680}, {'y': 1406, 'x': 680}, {'y': 1406, 'x': 590}]], 'receipt_no': [[{'y': 2159, 'x': 353}, {'y': 2156, 'x': 550}, {'y': 2190, 'x': 549}, {'y': 2193, 'x': 354}]], 'merchant_name': [[{'y': 57, 'x': 313}, {'y': 59, 'x': 478}, {'y': 108, 'x': 477}, {'y': 106, 'x': 312}], [{'y': 110, 'x': 217}, {'y': 117, 'x': 553}, {'y': 152, 'x': 552}, {'y': 145, 'x': 216}]], 'doc': [[{'y': -52, 'x': 18}, {'y': -41, 'x': 791}, {'y': 2310, 'x': 755}, {'y': 2298, 'x': -17}]], 'merchant_address': [[{'y': 150, 'x': 201}, {'y': 162, 'x': 570}, {'y': 197, 'x': 569}, {'y': 186, 'x': 200}]]}}]}\n",
      "Grocery named: LIDL Müllerstraße 48-48a, 2023-06-07 19:32\n",
      "Translation mode : False\n",
      "lidl-10-06-23.json :  {'ocr_type': 'receipts', 'request_id': 'P_92.184.117.81_lj1wnv5l_5i8', 'ref_no': 'ocr_python_123', 'file_name': 'lidl-10-06-23.jpg', 'request_received_on': 1687121637754, 'success': True, 'image_width': 820, 'image_height': 2200, 'image_rotation': -0.018, 'recognition_completed_on': 1687121638253, 'receipts': [{'merchant_name': 'LIDL Müllerstraße 48-48a', 'merchant_address': '13349 Berlin-Wedding', 'merchant_phone': None, 'merchant_website': None, 'merchant_tax_reg_no': None, 'merchant_company_reg_no': None, 'region': None, 'mall': None, 'country': 'DE', 'receipt_no': 'DE813388858', 'date': '2023-06-10', 'time': '16:03', 'items': [{'amount': 1.36, 'category': None, 'description': 'Bananen kg', 'flags': ' A', 'qty': None, 'remarks': None, 'tags': None, 'unitPrice': None}, {'amount': 2.99, 'category': None, 'description': 'Zwiebeln gelb', 'flags': ' A', 'qty': None, 'remarks': None, 'tags': None, 'unitPrice': None}, {'amount': 1.39, 'category': None, 'description': 'Mango Stk', 'flags': ' A', 'qty': None, 'remarks': None, 'tags': None, 'unitPrice': None}, {'amount': 1.99, 'category': None, 'description': 'Pfirsiche', 'flags': ' A', 'qty': None, 'remarks': None, 'tags': None, 'unitPrice': None}, {'amount': 1.99, 'category': None, 'description': 'Asiatisches Gemüse', 'flags': ' A', 'qty': None, 'remarks': None, 'tags': None, 'unitPrice': None}, {'amount': 1.59, 'category': None, 'description': 'Bioland Type 630', 'flags': ' A', 'qty': None, 'remarks': None, 'tags': None, 'unitPrice': None}, {'amount': 0.95, 'category': None, 'description': 'H-Milch 1,5% OGT', 'flags': ' A', 'qty': None, 'remarks': None, 'tags': None, 'unitPrice': None}, {'amount': 1.99, 'category': None, 'description': 'Fr.Eier.a.Bo.ha OKT', 'flags': ' A', 'qty': None, 'remarks': None, 'tags': None, 'unitPrice': None}, {'amount': 1.09, 'category': None, 'description': 'Chilisalz', 'flags': ' A', 'qty': None, 'remarks': None, 'tags': None, 'unitPrice': None}, {'amount': 0.79, 'category': None, 'description': 'Fusilli', 'flags': ' A', 'qty': None, 'remarks': None, 'tags': None, 'unitPrice': None}, {'amount': 0.89, 'category': None, 'description': 'Apfelmus gezuckert', 'flags': ' A', 'qty': None, 'remarks': None, 'tags': None, 'unitPrice': None}, {'amount': 1.99, 'category': None, 'description': 'Mehrfrucht-Karotten', 'flags': ' B', 'qty': None, 'remarks': None, 'tags': None, 'unitPrice': None}, {'amount': 2.19, 'category': None, 'description': 'Cranberries Sult.Mix', 'flags': ' A', 'qty': None, 'remarks': None, 'tags': None, 'unitPrice': None}, {'amount': 1.99, 'category': None, 'description': 'Meisterbrot', 'flags': ' A', 'qty': None, 'remarks': None, 'tags': None, 'unitPrice': None}, {'amount': 3.99, 'category': None, 'description': 'Hähnchen-Geschn', 'flags': ' A', 'qty': None, 'remarks': None, 'tags': None, 'unitPrice': None}, {'amount': 27.18, 'category': None, 'description': 'zu zahlen', 'flags': '', 'qty': None, 'remarks': None, 'tags': None, 'unitPrice': None}, {'amount': 27.18, 'category': None, 'description': 'Kreditkarte', 'flags': '', 'qty': None, 'remarks': None, 'tags': None, 'unitPrice': None}, {'amount': 25.19, 'category': None, 'description': 'A 7%1,6523,54', 'flags': '', 'qty': None, 'remarks': None, 'tags': None, 'unitPrice': None}, {'amount': 1.99, 'category': None, 'description': 'B 19 %0,321,67', 'flags': '', 'qty': None, 'remarks': None, 'tags': None, 'unitPrice': None}], 'currency': 'EUR', 'total': 27.18, 'subtotal': None, 'tax': None, 'service_charge': None, 'tip': None, 'payment_method': None, 'payment_details': None, 'credit_card_type': None, 'credit_card_number': None, 'ocr_text': '                  LIDL\\n            Müllerstraße 48-48a\\n           13349 Berlin-Wedding\\n                                     EUR\\n Bananen kg                         1,36 A\\n   1,182 kg x 1,15 EUR/kg\\n Zwiebeln gelb                      2,99 A\\n Mango Stk                          1,39 A\\n Pfirsiche                          1,99 A\\n Asiatisches Gemüse                 1,99 A\\n Bioland Type 630                   1,59 A\\n H-Milch 1,5% OGT                   0,95 A\\n Fr.Eier.a.Bo.ha OKT                1,99 A\\n Chilisalz                          1,09 A\\n Fusilli                            0,79 A\\n Apfelmus gezuckert                 0,89 A\\n Mehrfrucht-Karotten                1,99 B\\n Cranberries Sult.Mix               2,19 A\\n Meisterbrot                        1,99 A\\n Hähnchen-Geschn.                   3,99 A\\n zu zahlen                        27,18\\n Kreditkarte                      27,18\\n MWSTX        MWST Netto = Brutto\\n A 7%         1,65      23,54     25,19\\n B 19 %      0,32        1,67      1,99\\n Summe        1,97     25,21      27,18\\n   Lade dir die Lidl Plus App herunter\\n und spare bei deinem nächsten Einkauf.\\n TSE Transaktionsnummer: 350904\\n Seriennr. Kasse: LDL-000-5044-1\\n Prüfwert: VjkbdYTy8mPssFbCLb2pFC4jo8wQUJ6U\\n nul15Cd0PgfLip7aEzhhEv8h4YokHNI6ju560 + Duh4\\n ZqBUEBI5x11Q1NnfJbWumCx1jTyZ4517V3pr2LyKV1\\n Z + Udo1UED1zH\\n Signaturzähler: 711591\\n 2023-06-10T14: 03: 42.000Z\\n 2023-06-10T14: 04: 34.00OZ\\n 5044 757652/01             10.06.23 16:03\\n         UST-ID-NR: DE813388858', 'ocr_confidence': 95.7, 'width': 780, 'height': 2156, 'avg_char_width': 18.6148, 'avg_line_height': 33.5904, 'conf_amount': 83, 'source_locations': {'date': [[{'y': 2116, 'x': 543}, {'y': 2111, 'x': 823}, {'y': 2148, 'x': 824}, {'y': 2153, 'x': 544}]], 'total': [[{'y': 1293, 'x': 650}, {'y': 1292, 'x': 753}, {'y': 1330, 'x': 753}, {'y': 1331, 'x': 650}]], 'receipt_no': [[{'y': 2165, 'x': 399}, {'y': 2161, 'x': 617}, {'y': 2196, 'x': 618}, {'y': 2200, 'x': 400}]], 'merchant_name': [[{'y': 44, 'x': 315}, {'y': 46, 'x': 504}, {'y': 100, 'x': 504}, {'y': 98, 'x': 315}], [{'y': 94, 'x': 203}, {'y': 97, 'x': 592}, {'y': 136, 'x': 592}, {'y': 134, 'x': 203}]], 'doc': [[{'y': -57, 'x': -40}, {'y': -72, 'x': 818}, {'y': 2299, 'x': 859}, {'y': 2314, 'x': 1}]], 'merchant_address': [[{'y': 145, 'x': 187}, {'y': 147, 'x': 613}, {'y': 182, 'x': 613}, {'y': 179, 'x': 187}]]}}]}\n",
      "Grocery named: LIDL Müllerstraße 48-48a, 2023-06-10 16:03\n",
      "Translation mode : False\n",
      "lidl-15-06-23.json :  {'ocr_type': 'receipts', 'request_id': 'P_92.184.108.112_lj4r41n2_vzg', 'ref_no': 'ocr_python_123', 'file_name': 'lidl-15-06-23.jpg', 'request_received_on': 1687293713487, 'success': True, 'image_width': 753, 'image_height': 2200, 'image_rotation': 0, 'recognition_completed_on': 1687293714066, 'receipts': [{'merchant_name': 'Müllerstraße 48-48a', 'merchant_address': '13349 Berlin-Wedding', 'merchant_phone': None, 'merchant_website': None, 'merchant_tax_reg_no': None, 'merchant_company_reg_no': None, 'region': None, 'mall': None, 'country': 'DE', 'receipt_no': 'DE813388858', 'date': '2023-06-15', 'time': '20:00', 'items': [{'amount': 0.75, 'category': None, 'description': 'Paprika rot kg', 'flags': ' A', 'qty': None, 'remarks': None, 'tags': None, 'unitPrice': None}, {'amount': 1.1, 'category': None, 'description': 'TomateStrau. kg', 'flags': ' A', 'qty': None, 'remarks': None, 'tags': None, 'unitPrice': None}, {'amount': 2.49, 'category': None, 'description': 'Nektarinen', 'flags': ' A', 'qty': None, 'remarks': None, 'tags': None, 'unitPrice': None}, {'amount': 1.99, 'category': None, 'description': 'Asiatisches Gemüse', 'flags': ' A', 'qty': None, 'remarks': None, 'tags': None, 'unitPrice': None}, {'amount': 2.99, 'category': None, 'description': 'Butterkäse [ OGT]', 'flags': ' A', 'qty': None, 'remarks': None, 'tags': None, 'unitPrice': None}, {'amount': 1.99, 'category': None, 'description': 'Griech. Joghurt 2%', 'flags': ' A', 'qty': None, 'remarks': None, 'tags': None, 'unitPrice': None}, {'amount': 1.79, 'category': None, 'description': 'DelverdeClass. Integ', 'flags': ' A', 'qty': None, 'remarks': None, 'tags': None, 'unitPrice': None}, {'amount': 0.79, 'category': None, 'description': 'Haferf. Kern', 'flags': ' A', 'qty': None, 'remarks': None, 'tags': None, 'unitPrice': None}, {'amount': 2.49, 'category': None, 'description': 'Knuspermüsli + Schoko', 'flags': ' A', 'qty': None, 'remarks': None, 'tags': None, 'unitPrice': None}, {'amount': 0.95, 'category': None, 'description': 'H-Milch 1,5% OGT', 'flags': ' A', 'qty': None, 'remarks': None, 'tags': None, 'unitPrice': None}, {'amount': 0.89, 'category': None, 'description': 'Apfelmus gezuckert', 'flags': ' A', 'qty': None, 'remarks': None, 'tags': None, 'unitPrice': None}, {'amount': 1.99, 'category': None, 'description': 'Mehrfrucht-Karotten', 'flags': ' B', 'qty': None, 'remarks': None, 'tags': None, 'unitPrice': None}, {'amount': 0.75, 'category': None, 'description': 'Traube-Nuß Sch. 100g', 'flags': ' A', 'qty': None, 'remarks': None, 'tags': None, 'unitPrice': None}, {'amount': 1.99, 'category': None, 'description': 'Frucht-Nuss-Mix', 'flags': ' A', 'qty': None, 'remarks': None, 'tags': None, 'unitPrice': None}, {'amount': 1.99, 'category': None, 'description': 'Meisterbrot', 'flags': ' A', 'qty': None, 'remarks': None, 'tags': None, 'unitPrice': None}, {'amount': 0.99, 'category': None, 'description': 'Edelstahltopfreinig', 'flags': ' B', 'qty': None, 'remarks': None, 'tags': None, 'unitPrice': None}, {'amount': 4.79, 'category': None, 'description': 'Rinderhack 500g', 'flags': ' A', 'qty': None, 'remarks': None, 'tags': None, 'unitPrice': None}, {'amount': 3.99, 'category': None, 'description': 'Hähnchen-Geschn', 'flags': ' A', 'qty': None, 'remarks': None, 'tags': None, 'unitPrice': None}, {'amount': 34.71, 'category': None, 'description': 'zu zahlen', 'flags': '', 'qty': None, 'remarks': None, 'tags': None, 'unitPrice': None}, {'amount': 34.71, 'category': None, 'description': 'Kreditkarte', 'flags': '', 'qty': None, 'remarks': None, 'tags': None, 'unitPrice': None}, {'amount': 31.73, 'category': None, 'description': 'A 7%2,0829.65', 'flags': '', 'qty': None, 'remarks': None, 'tags': None, 'unitPrice': None}, {'amount': 2.98, 'category': None, 'description': 'B 19 %0,482,50', 'flags': '', 'qty': None, 'remarks': None, 'tags': None, 'unitPrice': None}], 'currency': 'EUR', 'total': 34.71, 'subtotal': None, 'tax': None, 'service_charge': None, 'tip': None, 'payment_method': None, 'payment_details': None, 'credit_card_type': None, 'credit_card_number': None, 'ocr_text': '            Müllerstraße 48-48a\\n           13349 Berlin-Wedding\\n                                     EUR\\n Paprika rot kg                     0,75 A\\n   0,300 kg x 2,49   EUR/kg\\n TomateStrau. kg                    1,10 A\\n   0,852 kg x 1,29   EUR/kg\\n Nektarinen                         2,49 A\\n Asiatisches Gemüse                 1,99 A\\n Butterkäse [ OGT]                  2,99 A\\n Griech. Joghurt 2%                 1,99 A\\n DelverdeClass. Integ.              1,79 A\\n Haferf. Kern                       0,79 A\\n Knuspermüsli + Schoko              2,49 A\\n H-Milch 1,5% OGT                   0,95 A\\n Apfelmus gezuckert                 0.89 A\\n Mehrfrucht-Karotten                1,99 B\\n Traube-Nuß Sch. 100g               0,75 A\\n Frucht-Nuss-Mix                    1,99 A\\n Meisterbrot                        1,99 A\\n Edelstahltopfreinig.               0,99 B\\n Rinderhack 500g                    4,79 A\\n Hähnchen-Geschn.                   3,99 A\\n zu zahlen                         34,71\\n Kreditkarte                       34,71\\n MWSTX        MWST +    Netto = Brutto\\n A 7%         2,08      29.65      31,73\\n B 19 %       0,48       2,50       2,98\\n Summe        2,56      32,15      34,71\\n    Lade dir die Lidl Plus App herunter\\n und spare bei deinem nächsten Einkauf.\\n                                         1\\n TSE Transaktionsnummer: 360100\\n Seriennr. Kasse: LDL-000-5044-1\\n Prüfwert: sVRqH + v1SI/uJI3vU8qMZeFMA3UzzFK1\\n 1EvibcEn1QSykt + kYBAy5Gqhh70sGwE0ep8EADDqGW\\n bvbjtY6MEJQFBUM200cEJX10g0K78gzPZXFWB9ujTj\\n 14HRxohe/u33\\n Signaturzähler: 730205\\n 2023-06-15T18: 00: 45.000Z\\n 2023-06-15T18: 01: 52.000Z\\n 5044 762623/01              15.06.23 20:00\\n         UST-ID-NR: DE813388858', 'ocr_confidence': 95.97, 'width': 707, 'height': 2133, 'avg_char_width': 16.6049, 'avg_line_height': 30.776, 'conf_amount': 83, 'source_locations': {'date': [[{'y': 2114, 'x': 486}, {'y': 2114, 'x': 739}, {'y': 2150, 'x': 739}, {'y': 2150, 'x': 486}]], 'total': [[{'y': 1342, 'x': 590}, {'y': 1341, 'x': 682}, {'y': 1377, 'x': 682}, {'y': 1378, 'x': 590}]], 'receipt_no': [[{'y': 2158, 'x': 352}, {'y': 2161, 'x': 556}, {'y': 2195, 'x': 556}, {'y': 2192, 'x': 352}]], 'merchant_name': [[{'y': 111, 'x': 209}, {'y': 124, 'x': 546}, {'y': 156, 'x': 545}, {'y': 143, 'x': 208}]], 'doc': [[{'y': -46, 'x': -12}, {'y': -46, 'x': 765}, {'y': 2299, 'x': 765}, {'y': 2299, 'x': -12}]], 'merchant_address': [[{'y': 150, 'x': 194}, {'y': 163, 'x': 563}, {'y': 196, 'x': 562}, {'y': 183, 'x': 193}]]}}]}\n",
      "Grocery named: Müllerstraße 48-48a, 2023-06-15 20:00\n",
      "Translation mode : False\n",
      "lidl-17-06-23.json :  {'ocr_type': 'receipts', 'request_id': 'P_92.184.108.112_lj4r435b_c1z', 'ref_no': 'ocr_python_123', 'file_name': 'lidl-17-06-23.jpg', 'request_received_on': 1687293715439, 'success': True, 'image_width': 978, 'image_height': 2200, 'image_rotation': 0.032, 'recognition_completed_on': 1687293716031, 'receipts': [{'merchant_name': 'LODL Müllerstraße 48-48a', 'merchant_address': '13349 Berlin-Wedding', 'merchant_phone': None, 'merchant_website': None, 'merchant_tax_reg_no': None, 'merchant_company_reg_no': None, 'region': None, 'mall': None, 'country': 'DE', 'receipt_no': 'DE813388858', 'date': '2023-06-17', 'time': '14:15', 'items': [{'amount': 1.12, 'category': None, 'description': 'Bananen kg', 'flags': ' A', 'qty': None, 'remarks': None, 'tags': None, 'unitPrice': None}, {'amount': 2.99, 'category': None, 'description': 'Apfel rot, fru.-süß', 'flags': ' A', 'qty': None, 'remarks': None, 'tags': None, 'unitPrice': None}, {'amount': 1.99, 'category': None, 'description': 'Mexikanisches Gemüse', 'flags': ' A', 'qty': None, 'remarks': None, 'tags': None, 'unitPrice': None}, {'amount': 1.99, 'category': None, 'description': 'Feinschmeckergemüse', 'flags': ' A', 'qty': None, 'remarks': None, 'tags': None, 'unitPrice': None}, {'amount': 2.49, 'category': None, 'description': 'Knuspermüsli + Schoko', 'flags': ' A', 'qty': None, 'remarks': None, 'tags': None, 'unitPrice': None}, {'amount': 0.89, 'category': None, 'description': 'Apfelmus gezuckert', 'flags': ' A', 'qty': None, 'remarks': None, 'tags': None, 'unitPrice': None}, {'amount': 0.75, 'category': None, 'description': 'Traube-Nuß Sch. 100g', 'flags': ' A', 'qty': None, 'remarks': None, 'tags': None, 'unitPrice': None}, {'amount': 12.22, 'category': None, 'description': 'zu zahlen', 'flags': '', 'qty': None, 'remarks': None, 'tags': None, 'unitPrice': None}, {'amount': 12.22, 'category': None, 'description': 'Kreditkarte', 'flags': '', 'qty': None, 'remarks': None, 'tags': None, 'unitPrice': None}, {'amount': 12.22, 'category': None, 'description': 'A 7%0,8011,42', 'flags': '', 'qty': None, 'remarks': None, 'tags': None, 'unitPrice': None}], 'currency': 'EUR', 'total': 12.22, 'subtotal': None, 'tax': None, 'service_charge': None, 'tip': None, 'payment_method': None, 'payment_details': None, 'credit_card_type': None, 'credit_card_number': None, 'ocr_text': '                 LODL\\n           Müllerstraße 48-48a\\n          13349 Berlin-Wedding\\n                                     EUR\\n Bananen kg                         1,12 A\\n  0,872 kg x 1,29 EUR/kg\\n Apfel rot, fru.-süß                2,99 A\\n Mexikanisches Gemüse               1,99 A\\n Feinschmeckergemüse                1,99 A\\n Knuspermüsli + Schoko              2,49 A\\n Apfelmus gezuckert                 0,89 A\\n Traube-Nuß Sch. 100g               0,75 A\\n zu zahlen                         12,22\\n Kreditkarte                       12,22\\n   MWSTX       MWST +    Netto    Brutto\\n  A 7%         0,80      11,42      12,22\\n  Summe        0,80      11,42      12,22\\n     Lade dir die Lidl Plus App herunter\\n   und spare bei deinem nächsten Einkauf.\\n   TSE Transaktionsnummer: 363189\\n   Seriennr. Kasse: LDL-000-5044-1\\n   Prüfwert: 07Kkp0cRjGwjzwvwR9aZz0n6wPRZ6R0b\\n   05umdMAKgn2If + GhkQCX + uz1HCDSG41eodv3ndOCHt\\n   BfmhJqgQiXqm9BOU1Ou + vWmAA5RJQjz1 + ea08da7LW\\n   1toHnupiLbqz\\n   Signaturzähler: 736505\\n   2023-06-17T12: 15: 40.000Z\\n    2023-06-17T12: 16: 13.000Z\\n    5044 764277/01              17.06.23 14:15\\n             UST-ID-NR: DE813388858', 'ocr_confidence': 94.53, 'width': 961, 'height': 2103, 'avg_char_width': 21.3937, 'avg_line_height': 42.192, 'conf_amount': 83, 'source_locations': {'date': [[{'y': 2053, 'x': 629}, {'y': 2064, 'x': 950}, {'y': 2127, 'x': 948}, {'y': 2117, 'x': 627}]], 'total': [[{'y': 1082, 'x': 761}, {'y': 1086, 'x': 878}, {'y': 1130, 'x': 877}, {'y': 1126, 'x': 760}]], 'receipt_no': [[{'y': 2110, 'x': 465}, {'y': 2121, 'x': 718}, {'y': 2163, 'x': 716}, {'y': 2152, 'x': 463}]], 'merchant_name': [[{'y': 52, 'x': 385}, {'y': 62, 'x': 603}, {'y': 129, 'x': 599}, {'y': 119, 'x': 382}], [{'y': 115, 'x': 254}, {'y': 148, 'x': 705}, {'y': 193, 'x': 701}, {'y': 161, 'x': 251}]], 'doc': [[{'y': -70, 'x': -4}, {'y': -36, 'x': 1052}, {'y': 2276, 'x': 976}, {'y': 2241, 'x': -80}]], 'merchant_address': [[{'y': 169, 'x': 234}, {'y': 207, 'x': 726}, {'y': 253, 'x': 722}, {'y': 216, 'x': 231}]]}}]}\n",
      "Grocery named: LODL Müllerstraße 48-48a, 2023-06-17 14:15\n",
      "Translation mode : False\n",
      "lidl-21-06-23.json :  {'ocr_type': 'receipts', 'request_id': 'P_92.184.96.6_ljvhu6zy_ome', 'ref_no': 'ocr_python_123', 'file_name': 'lidl-21-06-23.jpg', 'request_received_on': 1688910724079, 'success': True, 'image_width': 864, 'image_height': 2200, 'image_rotation': -0.074, 'recognition_completed_on': 1688910724574, 'receipts': [{'merchant_name': 'LIDL Müllerstraße 48-48a', 'merchant_address': '13349 Berlin-Wedding', 'merchant_phone': None, 'merchant_website': None, 'merchant_tax_reg_no': None, 'merchant_company_reg_no': None, 'region': None, 'mall': None, 'country': 'DE', 'receipt_no': 'DE813388858', 'date': '2023-06-21', 'time': '19:25', 'items': [{'amount': 0.87, 'category': None, 'description': 'TomateStrau. kg', 'flags': ' A', 'qty': None, 'remarks': None, 'tags': None, 'unitPrice': None}, {'amount': 1.06, 'category': None, 'description': 'Bananen kg', 'flags': ' A', 'qty': None, 'remarks': None, 'tags': None, 'unitPrice': None}, {'amount': 0.39, 'category': None, 'description': 'Gurke Stk', 'flags': ' A', 'qty': None, 'remarks': None, 'tags': None, 'unitPrice': None}, {'amount': 3.49, 'category': None, 'description': 'Bami Goreng', 'flags': ' A', 'qty': None, 'remarks': None, 'tags': None, 'unitPrice': None}, {'amount': 3.49, 'category': None, 'description': 'Nasi Goreng', 'flags': ' A', 'qty': None, 'remarks': None, 'tags': None, 'unitPrice': None}, {'amount': 1.99, 'category': None, 'description': 'Asiatisches Gemüse', 'flags': ' A', 'qty': None, 'remarks': None, 'tags': None, 'unitPrice': None}, {'amount': 0.95, 'category': None, 'description': 'H-Milch 1,5% OGT', 'flags': ' A', 'qty': None, 'remarks': None, 'tags': None, 'unitPrice': None}, {'amount': 1.49, 'category': None, 'description': 'Fr.Eier.a.Bo.ha', 'flags': ' A', 'qty': None, 'remarks': None, 'tags': None, 'unitPrice': None}, {'amount': 0.89, 'category': None, 'description': 'Meisterbrot', 'flags': ' A', 'qty': None, 'remarks': None, 'tags': None, 'unitPrice': None}, {'amount': 0.59, 'category': None, 'description': 'Tiefkühltasche', 'flags': ' B', 'qty': None, 'remarks': None, 'tags': None, 'unitPrice': None}, {'amount': 3.99, 'category': None, 'description': 'Hähnchen-Geschn', 'flags': ' A', 'qty': None, 'remarks': None, 'tags': None, 'unitPrice': None}, {'amount': 21.19, 'category': None, 'description': 'zu zahlen', 'flags': '', 'qty': None, 'remarks': None, 'tags': None, 'unitPrice': None}, {'amount': 21.19, 'category': None, 'description': 'Kreditkarte', 'flags': '', 'qty': None, 'remarks': None, 'tags': None, 'unitPrice': None}, {'amount': 20.6, 'category': None, 'description': 'A 7%1,3519,25', 'flags': '', 'qty': None, 'remarks': None, 'tags': None, 'unitPrice': None}, {'amount': 0.59, 'category': None, 'description': 'B 19 %0,090,50', 'flags': '', 'qty': None, 'remarks': None, 'tags': None, 'unitPrice': None}], 'currency': 'EUR', 'total': 21.19, 'subtotal': None, 'tax': None, 'service_charge': None, 'tip': None, 'payment_method': None, 'payment_details': None, 'credit_card_type': None, 'credit_card_number': None, 'ocr_text': '                        LIDL\\n                  Müllerstraße 48-48a\\n                 13349 Berlin-Wedding\\n                                           EUR\\n       TomateStrau. kg\\n                                         0,87 A\\n        0,672 kg x 1,29 EUR/kg\\n      Bananen kg\\n                                         1,06 A\\n        0,818 kg x 1,29   EUR/kg\\n      Gurke Stk\\n                                        0,39 A\\n      Bami Goreng\\n                                        3,49 A\\n      Nasi Goreng\\n                                        3,49 A\\n     Asiatisches Gemüse\\n                                        1,99 A\\n     H-Milch 1,5% OGT\\n                                        0.95 A\\n     Fr.Eier.a.Bo.ha\\n                                        1,49 A\\n     Apfelmus gezuckert\\n     Meisterbrot                       0,89 A\\n                                       1,99 A\\n     Tiefkühltasche\\n                                       0,59 B\\n    Hähnchen-Geschn.\\n                                       3,99 A\\n    zu zahlen\\n                                     21.19\\n    Kreditkarte\\n                                     21,19\\n    MWSTX        MWST + Netto = Brutto\\n   A 7%          1,35      19,25     20,60\\n   B 19 %       0,09       0,50       0,59\\n  Summe         1,44      19,75      21,19\\n     Lade dir die Lidl Plus App herunter\\n  und spare bei deinem nächsten Einkauf.\\n TSE Transaktionsnummer: 370247\\n Seriennr. Kasse: LDL-000-5044-1\\n Prüfwert: dygnXwLGZ00hPuxTEo9YHVifH5PAAC4\\n mGNMUQQK9GA5WVNwyLtieVXhHDO/UJS5j1t/Owo6k\\n 6v07EdDszjCDTk + gWEIXTG6m + styVwTUZPLnt7Lp2/\\n HMWPPkh6kgpI\\n Signaturzähler: 750809\\n 2023-06-21T17: 25: 02.000Z\\n 2023-06-21T17: 26: 23.000Z 21.06.23 19:25\\n 5044 768180/01\\n         UST-ID-NR: DE813388858\\n                          -F-G', 'ocr_confidence': 95.31, 'width': 931, 'height': 2174, 'avg_char_width': 19.5032, 'avg_line_height': 35.9315, 'conf_amount': 83, 'source_locations': {'date': [[{'y': 2020, 'x': 560}, {'y': 1999, 'x': 847}, {'y': 2055, 'x': 851}, {'y': 2076, 'x': 564}]], 'total': [[{'y': 1238, 'x': 693}, {'y': 1231, 'x': 802}, {'y': 1271, 'x': 805}, {'y': 1278, 'x': 696}]], 'receipt_no': [[{'y': 2106, 'x': 412}, {'y': 2075, 'x': 643}, {'y': 2114, 'x': 648}, {'y': 2145, 'x': 417}]], 'merchant_name': [[{'y': 40, 'x': 340}, {'y': 37, 'x': 542}, {'y': 99, 'x': 543}, {'y': 102, 'x': 342}], [{'y': 115, 'x': 222}, {'y': 106, 'x': 629}, {'y': 145, 'x': 630}, {'y': 155, 'x': 223}]], 'doc': [[{'y': -34, 'x': -171}, {'y': -110, 'x': 850}, {'y': 2274, 'x': 1026}, {'y': 2350, 'x': 5}]], 'merchant_address': [[{'y': 168, 'x': 204}, {'y': 156, 'x': 649}, {'y': 197, 'x': 650}, {'y': 209, 'x': 206}]]}}]}\n",
      "Grocery named: LIDL Müllerstraße 48-48a, 2023-06-21 19:25\n",
      "Translation mode : False\n",
      "lidl-23-06-23.json :  {'ocr_type': 'receipts', 'request_id': 'P_92.184.96.6_ljvhuatc_zrc', 'ref_no': 'ocr_python_123', 'file_name': 'lidl-23-06-23.jpg', 'request_received_on': 1688910729026, 'success': True, 'image_width': 929, 'image_height': 2200, 'image_rotation': -0.029, 'recognition_completed_on': 1688910729535, 'receipts': [{'merchant_name': 'LİDL', 'merchant_address': 'Reinickendorfer Str. 41, 13347 Berlin-Mitte', 'merchant_phone': None, 'merchant_website': None, 'merchant_tax_reg_no': None, 'merchant_company_reg_no': None, 'region': None, 'mall': None, 'country': 'DE', 'receipt_no': 'DE813388858', 'date': '2023-06-23', 'time': '18:32', 'items': [{'amount': 1.49, 'category': None, 'description': 'Schalotten 500g', 'flags': ' A', 'qty': None, 'remarks': None, 'tags': None, 'unitPrice': None}, {'amount': 1.99, 'category': None, 'description': 'Feinschmeckergemüse', 'flags': ' A', 'qty': None, 'remarks': None, 'tags': None, 'unitPrice': None}, {'amount': 1.78, 'category': None, 'description': 'Mozzarella light0,89 2', 'flags': ' A', 'qty': None, 'remarks': None, 'tags': None, 'unitPrice': None}, {'amount': 0.89, 'category': None, 'description': 'Apfelmus gezuckert', 'flags': ' A', 'qty': None, 'remarks': None, 'tags': None, 'unitPrice': None}, {'amount': 1.99, 'category': None, 'description': 'Mehrfrucht-Karotten', 'flags': ' B', 'qty': None, 'remarks': None, 'tags': None, 'unitPrice': None}, {'amount': 0.69, 'category': None, 'description': 'Zitronensaft', 'flags': ' B', 'qty': None, 'remarks': None, 'tags': None, 'unitPrice': None}, {'amount': 0.75, 'category': None, 'description': 'Traube-Nuß Sch. 100g', 'flags': ' A', 'qty': None, 'remarks': None, 'tags': None, 'unitPrice': None}, {'amount': 6.99, 'category': None, 'description': 'Puten-Minifilet XXL', 'flags': ' A', 'qty': None, 'remarks': None, 'tags': None, 'unitPrice': None}, {'amount': 4.79, 'category': None, 'description': 'Rinderhack 500g', 'flags': ' A', 'qty': None, 'remarks': None, 'tags': None, 'unitPrice': None}, {'amount': 21.36, 'category': None, 'description': 'zu zahlen', 'flags': '', 'qty': None, 'remarks': None, 'tags': None, 'unitPrice': None}, {'amount': 21.36, 'category': None, 'description': 'Kreditkarte', 'flags': '', 'qty': None, 'remarks': None, 'tags': None, 'unitPrice': None}, {'amount': 18.68, 'category': None, 'description': 'A 7%1,2217,46', 'flags': '', 'qty': None, 'remarks': None, 'tags': None, 'unitPrice': None}, {'amount': 2.68, 'category': None, 'description': 'B 19 %0,432,25', 'flags': '', 'qty': None, 'remarks': None, 'tags': None, 'unitPrice': None}], 'currency': 'EUR', 'total': 21.36, 'subtotal': None, 'tax': None, 'service_charge': None, 'tip': None, 'payment_method': None, 'payment_details': None, 'credit_card_type': None, 'credit_card_number': None, 'ocr_text': '                    LİDL\\n            Reinickendorfer Str. 41\\n              13347 Berlin-Mitte\\n                                       EUR\\n  Schalotten 500g                     1,49 A\\n  Feinschmeckergemüse                 1,99 A\\n  Mozzarella light       0,89 2        1,78 A\\n  Apfelmus gezuckert                  0,89 A\\n  Mehrfrucht-Karotten                 1,99 B\\n  Zitronensaft                       0,69 B\\n  Traube-Nuß Sch. 100g               0,75 A\\n  Puten-Minifilet XXL                6,99 A\\n  Rinderhack 500g                    4,79 A\\n  zu zahlen                         21,36\\n  Kreditkarte                       21,36\\n   MWST%       MWST +    Netto = Brutto\\n  A 7%         1,22      17,46      18,68\\n  B 19 %       0,43       2,25       2,68\\n  Summe        1,65      19,71      21,36\\n    Lade dir die Lidl Plus App herunter\\n  und spare bei deinem nächsten Einkauf\\n TSE Transaktionsnummer: 408661\\n Seriennr. Kasse: LDL-000-3398-1\\n Prüfwert: 6M2fAI5vdu + 8v3V7yqdPQyNGN71lUbJi\\n iUafrFHsG + HLY3iCrbn8EKpF4xMv71JDpkdpdRBKuV\\n Ozcn08/n98U3Mv + yUYceJ3/JMUF31PugkRxtHJN2LU\\n SyqE/iqmC7jJ\\n Signaturzähler: 827469\\n 2023-06-23T16: 32: 13.000Z\\n 2023-06-23T16: 32: 53.000Z\\n 3398 892127/01             23.06.23 18:32\\n         UST-ID-NR: DE813388858', 'ocr_confidence': 95.67, 'width': 911, 'height': 2120, 'avg_char_width': 20.4209, 'avg_line_height': 38.8346, 'conf_amount': 83, 'source_locations': {'date': [[{'y': 2064, 'x': 600}, {'y': 2055, 'x': 914}, {'y': 2118, 'x': 915}, {'y': 2127, 'x': 601}]], 'total': [[{'y': 1127, 'x': 736}, {'y': 1124, 'x': 850}, {'y': 1165, 'x': 851}, {'y': 1169, 'x': 737}]], 'receipt_no': [[{'y': 2137, 'x': 439}, {'y': 2130, 'x': 686}, {'y': 2173, 'x': 687}, {'y': 2180, 'x': 440}]], 'merchant_name': [[{'y': 56, 'x': 378}, {'y': 51, 'x': 590}, {'y': 128, 'x': 592}, {'y': 133, 'x': 380}]], 'doc': [[{'y': -34, 'x': -59}, {'y': -63, 'x': 942}, {'y': 2267, 'x': 1009}, {'y': 2296, 'x': 7}]], 'merchant_address': [[{'y': 138, 'x': 209}, {'y': 129, 'x': 725}, {'y': 173, 'x': 726}, {'y': 182, 'x': 210}], [{'y': 197, 'x': 260}, {'y': 185, 'x': 684}, {'y': 228, 'x': 685}, {'y': 240, 'x': 261}]]}}]}\n",
      "Grocery named: LİDL, 2023-06-23 18:32\n",
      "Translation mode : False\n",
      "lidl-27-06-23.json :  {'ocr_type': 'receipts', 'request_id': 'P_92.184.96.6_ljvhucev_7v2', 'ref_no': 'ocr_python_123', 'file_name': 'lidl-27-06-23.jpg', 'request_received_on': 1688910731095, 'success': True, 'image_width': 885, 'image_height': 2200, 'image_rotation': 0.01, 'recognition_completed_on': 1688910731601, 'receipts': [{'merchant_name': 'LIDL', 'merchant_address': 'Reinickendorfer Str. 41, 13347 Berlin-Mitte', 'merchant_phone': None, 'merchant_website': None, 'merchant_tax_reg_no': None, 'merchant_company_reg_no': None, 'region': None, 'mall': None, 'country': 'DE', 'receipt_no': 'DE813388858', 'date': '2023-06-27', 'time': '18:34', 'items': [{'amount': 1.37, 'category': None, 'description': 'Bananen kg', 'flags': ' A', 'qty': None, 'remarks': None, 'tags': None, 'unitPrice': None}, {'amount': 0.83, 'category': None, 'description': 'TomateStrau. kg', 'flags': ' A', 'qty': None, 'remarks': None, 'tags': None, 'unitPrice': None}, {'amount': 2.59, 'category': None, 'description': 'Nektarinen', 'flags': ' A', 'qty': None, 'remarks': None, 'tags': None, 'unitPrice': None}, {'amount': 0.44, 'category': None, 'description': 'Gurke Stk', 'flags': ' A', 'qty': None, 'remarks': None, 'tags': None, 'unitPrice': None}, {'amount': 1.99, 'category': None, 'description': 'Feinschmeckergemüse', 'flags': ' A', 'qty': None, 'remarks': None, 'tags': None, 'unitPrice': None}, {'amount': 1.79, 'category': None, 'description': 'Del.Kochschinken', 'flags': ' A', 'qty': None, 'remarks': None, 'tags': None, 'unitPrice': None}, {'amount': 0.95, 'category': None, 'description': 'H-Milch 1,5% OGT', 'flags': ' A', 'qty': None, 'remarks': None, 'tags': None, 'unitPrice': None}, {'amount': 2.49, 'category': None, 'description': 'Knuspermüsli + Schoko', 'flags': ' A', 'qty': None, 'remarks': None, 'tags': None, 'unitPrice': None}, {'amount': 2.99, 'category': None, 'description': 'Basmati Reis', 'flags': ' A', 'qty': None, 'remarks': None, 'tags': None, 'unitPrice': None}, {'amount': 1.99, 'category': None, 'description': 'Mehrfrucht-Karotten', 'flags': ' B', 'qty': None, 'remarks': None, 'tags': None, 'unitPrice': None}, {'amount': 0.75, 'category': None, 'description': 'Traube-Nuß Sch. 100g', 'flags': ' A', 'qty': None, 'remarks': None, 'tags': None, 'unitPrice': None}, {'amount': 1.99, 'category': None, 'description': 'Meisterbrot', 'flags': ' A', 'qty': None, 'remarks': None, 'tags': None, 'unitPrice': None}, {'amount': 20.17, 'category': None, 'description': 'zu zahlen', 'flags': '', 'qty': None, 'remarks': None, 'tags': None, 'unitPrice': None}, {'amount': 20.17, 'category': None, 'description': 'Kreditkarte', 'flags': '', 'qty': None, 'remarks': None, 'tags': None, 'unitPrice': None}, {'amount': 18.18, 'category': None, 'description': 'A 7%1,1916,99', 'flags': '', 'qty': None, 'remarks': None, 'tags': None, 'unitPrice': None}, {'amount': 1.99, 'category': None, 'description': 'B 190,321,67', 'flags': '', 'qty': None, 'remarks': None, 'tags': None, 'unitPrice': None}], 'currency': 'EUR', 'total': 20.17, 'subtotal': None, 'tax': None, 'service_charge': None, 'tip': None, 'payment_method': None, 'payment_details': None, 'credit_card_type': None, 'credit_card_number': None, 'ocr_text': '                 LIDL\\n         Reinickendorfer Str. 41\\n           13347 Berlin-Mitte\\n                                     EUR\\n Bananen kg\\n                                    1,37 A\\n  1,062 kg x 1,29    EUR/kg\\n TomateStrau. kg\\n                                    0,83 A\\n  0,642 kg x 1,29    EUR/kg\\n Nektarinen\\n                                    2,59 A\\n Gurke Stk\\n                                    0,44 A\\n Feinschmeckergemüse                1,99 A\\n Del.Kochschinken                   1,79 A\\n H-Milch 1,5% OGT                   0,95 A\\n Knuspermüsli + Schoko              2,49 A\\n Basmati Reis                       2,99 A\\n Mehrfrucht-Karotten                1,99 B\\n Traube-Nuß Sch. 100g               0,75 A\\n Meisterbrot                        1,99 A\\n zu zahlen                         20,17\\n Kreditkarte                       20,17\\n  MWSTX       MWST Netto = Brutto\\n A 7%         1,19      16,99      18,18\\n B 19         0,32       1,67       1,99\\n Summe        1,51      18,66      20,17\\n    Lade dir die Lidl Plus App herunter\\n  und spare bei deinem nächsten Einkauf.\\n TSE Transaktionsnummer: 415586\\n Seriennr. Kasse: LDL-000-3398-1\\n Prüfwert: Q1tPNqW + 2dEfNfESODjkJZe4Hjzi9fIu\\n  d270TU67ukkoPQpk5/1WcQjXelHRavZJS8m43D4wFm\\n  PDEESMYR1AGZDQMVHacSc0z/8bT4s/eHRJ7FuyJQ1b\\n  HgU1SLtpoHgI\\n  Signaturzähler: 841497\\n  2023-06-27T16: 34: 17.000Z\\n  2023-06-27T16: 35: 06.000Z\\n  3398 894835/01              27.06.23 18:34\\n           UST-ID-NR: DE813388858', 'ocr_confidence': 95.26, 'width': 861, 'height': 2149, 'avg_char_width': 19.9845, 'avg_line_height': 35.287, 'conf_amount': 83, 'source_locations': {'date': [[{'y': 2114, 'x': 576}, {'y': 2117, 'x': 882}, {'y': 2155, 'x': 882}, {'y': 2152, 'x': 575}]], 'total': [[{'y': 1273, 'x': 697}, {'y': 1274, 'x': 806}, {'y': 1310, 'x': 806}, {'y': 1309, 'x': 697}]], 'receipt_no': [[{'y': 2148, 'x': 430}, {'y': 2151, 'x': 659}, {'y': 2201, 'x': 658}, {'y': 2198, 'x': 429}]], 'merchant_name': [[{'y': 50, 'x': 352}, {'y': 55, 'x': 559}, {'y': 114, 'x': 557}, {'y': 109, 'x': 350}]], 'doc': [[{'y': -64, 'x': -14}, {'y': -55, 'x': 932}, {'y': 2309, 'x': 909}, {'y': 2299, 'x': -37}]], 'merchant_address': [[{'y': 107, 'x': 186}, {'y': 130, 'x': 690}, {'y': 167, 'x': 688}, {'y': 145, 'x': 184}], [{'y': 162, 'x': 235}, {'y': 181, 'x': 651}, {'y': 217, 'x': 649}, {'y': 197, 'x': 233}]]}}]}\n",
      "Grocery named: LIDL, 2023-06-27 18:34\n",
      "Translation mode : False\n"
     ]
    }
   ],
   "source": [
    "#init translator\n",
    "from googletrans import Translator\n",
    "translator = Translator()\n",
    "translation_flag = False\n",
    "#initialize table\n",
    "products = []\n",
    "items = []\n",
    "# init parameters\n",
    "merchant_name = []\n",
    "merchant_address = []\n",
    "country = []\n",
    "date = []\n",
    "total = []\n",
    "taxes = []\n",
    "\n",
    "\n",
    "for filename in os.listdir(folder_path_json):\n",
    "    #read json file\n",
    "    if filename.endswith(\".json\"):\n",
    "        json_path = os.path.join(folder_path_json, filename)\n",
    "        #Read all json in json folder\n",
    "        with open(json_path, \"r\") as openfile:\n",
    "            #reading from json file\n",
    "            json_object = json.load(openfile)\n",
    "        print(filename, \": \", json_object)\n",
    "\n",
    "        if json_object[\"success\"] != False:\n",
    "            #Sort the items, ... in the reicept\n",
    "            if json_object[\"receipts\"] is not None:\n",
    "                receipt_object = json_object[\"receipts\"]\n",
    "                #receipt_object.append(json_object[\"receipts\"])\n",
    "                # Access the \"items\" list within the \"receipts\" object\n",
    "                items = json_object[\"receipts\"][0][\"items\"]\n",
    "                #items.append(json_object[\"receipts\"][0][\"items\"])\n",
    "                #print(\"items: \",items)\n",
    "                total.append(json_object[\"receipts\"][0][\"total\"])\n",
    "                # print(\"total: \",total)\n",
    "                taxes.append(json_object[\"receipts\"][0][\"tax\"])\n",
    "                merchant_name.append(json_object[\"receipts\"][0][\"merchant_name\"])\n",
    "                merchant_address.append(json_object[\"receipts\"][0][\"merchant_address\"])\n",
    "                country.append(json_object[\"receipts\"][0][\"country\"])\n",
    "                date_str = str(json_object[\"receipts\"][0][\"date\"]) if json_object[\"receipts\"][0][\"date\"] else str(datetime.now().strftime(\"%Y-%m-%d\"))\n",
    "                date_str += \" \"\n",
    "                date_str += str(json_object[\"receipts\"][0][\"time\"]) if json_object[\"receipts\"][0][\"time\"] else str(\"19:00\")\n",
    "                date.append(date_str)\n",
    "                print(\"Grocery named: %s, %s\" % (json_object[\"receipts\"][0][\"merchant_name\"], date_str))\n",
    "\n",
    "                #add for each item merchant_name country, date\n",
    "                if items is not None:\n",
    "                    for item in items:\n",
    "                        item.update({\"merchant_name\": json_object[\"receipts\"][0][\"merchant_name\"]})\n",
    "                        item.update({\"merchant_address\": json_object[\"receipts\"][0][\"merchant_address\"]})\n",
    "                        item.update({\"country\": json_object[\"receipts\"][0][\"country\"]})\n",
    "                        item.update({\"date\": date_str})\n",
    "                else:\n",
    "                    print(\"Any items detected\")  \n",
    "            else:\n",
    "                print(\"Error is\"+json_object[\"message\"])\n",
    "        if items is not None:\n",
    "            #translate all the descriptions\n",
    "            try:\n",
    "                if translation_flag:\n",
    "                    for item in items: \n",
    "                        translation = translator.translate(item[\"description\"], dest=\"fr\")\n",
    "                        item[\"description\"] = translation.text\n",
    "                        #print(\"Description : \", item[\"description\"])\n",
    "                print(f\"Translation mode : {translation_flag}\")\n",
    "            except:\n",
    "                print(\"translation canceled\")   \n",
    "\n",
    "            #find all the product, only the product -> find with tag ?\n",
    "            for item in items:\n",
    "                flag = item[\"flags\"]\n",
    "                if flag != \"\":\n",
    "                    products.append(item)\n",
    "            #print(products)\n",
    "        else:\n",
    "            print(\"Any items detected -- check OCRing method\")\n",
    "        \n",
    "#save data into csv file\n",
    "if items and products is not None:\n",
    "    #export product all\n",
    "    path_csv = 'receipts/export_products/'\n",
    "    formatted_datetime = datetime.now().strftime(\"%Y-%m-%dT%Hh%Mmin%Ss\")\n",
    "    # Create the new file name with the formatted datetime\n",
    "    file_name_csv = f\"{path_csv}\"\n",
    "    if translation_flag:\n",
    "        file_name_csv += f\"export_FR/export_products_FR_{formatted_datetime}.csv\"\n",
    "        pd.DataFrame(pd.DataFrame(products)[[\"date\", \"description\", \"amount\", \"merchant_name\", \"merchant_address\", \"country\", \"flags\"]]).to_csv(file_name_csv, index=False, sep=\";\")\n",
    "    else:\n",
    "        file_name_csv += f\"export_DE/export_products_DE_{formatted_datetime}.csv\"\n",
    "        pd.DataFrame(pd.DataFrame(products)[[\"date\", \"description\", \"amount\", \"merchant_name\", \"merchant_address\", \"country\", \"flags\"]]).to_csv(file_name_csv, index=False, sep=\";\")\n"
   ]
  },
  {
   "cell_type": "markdown",
   "metadata": {},
   "source": [
    "### 4) Send csv to database\n"
   ]
  },
  {
   "cell_type": "code",
   "execution_count": 50,
   "metadata": {},
   "outputs": [],
   "source": [
    "import psycopg2\n",
    "conn = None\n",
    "\n",
    "CSV_DIR = \"C:\\\\Users\\\\leray\\\\OneDrive\\\\Documents\\\\Data_Workspace\\\\receipt_OCR_project\\\\receipt-ocr\\\\python-receipt-ocr\\\\receipts\\\\\"\n",
    "SQl_DIR = \"SQL\\\\\""
   ]
  },
  {
   "cell_type": "code",
   "execution_count": 30,
   "metadata": {},
   "outputs": [
    {
     "name": "stdout",
     "output_type": "stream",
     "text": [
      "database connected\n",
      "[WinError 267] Nom de répertoire non valide: 'C:\\\\Users\\\\leray\\\\OneDrive\\\\Documents\\\\Data_Workspace\\\\receipt_OCR_project\\\\receipt-ocr\\\\python-receipt-ocr\\\\receipts\\\\export_products.csv'\n"
     ]
    }
   ],
   "source": [
    "try:\n",
    "    conn = psycopg2.connect(host='localhost',\n",
    "                            database='timescaledbforreceipt',\n",
    "                            user='postgres',\n",
    "                            password='pg123')\n",
    "    print('database connected')\n",
    "\n",
    "    # Get a list of all the CSV files in the directory\n",
    "    listdir = os.listdir(CSV_DIR)\n",
    "    file_names = []\n",
    "    for i in range(len(listdir)):\n",
    "        file_names.append(CSV_DIR+listdir[i])\n",
    "\n",
    "    with conn.cursor() as cur:\n",
    "        conn.commit()\n",
    "        cur.close()\n",
    "\n",
    "    for file_name in file_names:\n",
    "        with open(file_name, 'r') as file_in:\n",
    "            next(file_in)\n",
    "            with conn.cursor() as cur:\n",
    "                # headers\n",
    "                cur.execute(\"Select * FROM receipts LIMIT 0\")\n",
    "                headers = [desc[0] for desc in cur.description]\n",
    "                # Now upload the data as though it was a file\n",
    "                cur.copy_from(file_in, \"receipts\",\n",
    "                              columns=headers, sep=\";\", null=\"\")\n",
    "                # caractère \"\" qui doivent être mis en null https://docs.postgresql.fr/12/sql-copy.html\n",
    "            conn.commit()\n",
    "    print(\"finish\")\n",
    "    cur.close()\n",
    "\n",
    "\n",
    "except (Exception, psycopg2.DatabaseError) as error:\n",
    "    print(error)\n",
    "\n",
    "finally:\n",
    "    if conn is not None:\n",
    "        conn.close()  # close the communication with the PostgreSQL by calling the close() method of the connection object"
   ]
  },
  {
   "cell_type": "markdown",
   "metadata": {},
   "source": [
    "### 5) Retrived data from the timescaleDB"
   ]
  },
  {
   "cell_type": "markdown",
   "metadata": {},
   "source": [
    "https://www.timescale.com/blog/speeding-up-data-analysis/"
   ]
  },
  {
   "cell_type": "code",
   "execution_count": 40,
   "metadata": {},
   "outputs": [
    {
     "name": "stdout",
     "output_type": "stream",
     "text": [
      "database connected\n"
     ]
    },
    {
     "name": "stderr",
     "output_type": "stream",
     "text": [
      "C:\\Users\\leray\\AppData\\Local\\Temp\\ipykernel_7160\\1764840774.py:9: UserWarning: pandas only supports SQLAlchemy connectable (engine/connection) or database string URI or sqlite3 DBAPI2 connection. Other DBAPI2 objects are not tested. Please consider using SQLAlchemy.\n",
      "  df_products = pd.read_sql_query(query_select_all, conn)\n",
      "C:\\Users\\leray\\AppData\\Local\\Temp\\ipykernel_7160\\1764840774.py:12: UserWarning: pandas only supports SQLAlchemy connectable (engine/connection) or database string URI or sqlite3 DBAPI2 connection. Other DBAPI2 objects are not tested. Please consider using SQLAlchemy.\n",
      "  df_products_groupby = pd.read_sql_query(query_group_by, conn)\n"
     ]
    }
   ],
   "source": [
    "try:\n",
    "    conn = psycopg2.connect(host='localhost',\n",
    "                            database='timescaledbforreceipt',\n",
    "                            user='postgres',\n",
    "                            password='pg123')\n",
    "    print('database connected')\n",
    "    # Execute a query and fetch the results\n",
    "    query_select_all = \"SELECT * FROM receipts\"\n",
    "    df_products = pd.read_sql_query(query_select_all, conn)\n",
    "    with open(SQl_DIR+'GroupBy.sql', 'r') as file:\n",
    "        query_group_by = file.read()\n",
    "    df_products_groupby = pd.read_sql_query(query_group_by, conn)\n",
    "\n",
    "except (Exception, psycopg2.DatabaseError) as error:\n",
    "    print(error)\n",
    "\n",
    "finally:\n",
    "    if conn is not None:\n",
    "        conn.close()  # close the communication with the PostgreSQL by calling the close() method of the connection object"
   ]
  },
  {
   "cell_type": "code",
   "execution_count": 48,
   "metadata": {},
   "outputs": [
    {
     "data": {
      "text/html": [
       "<div>\n",
       "<style scoped>\n",
       "    .dataframe tbody tr th:only-of-type {\n",
       "        vertical-align: middle;\n",
       "    }\n",
       "\n",
       "    .dataframe tbody tr th {\n",
       "        vertical-align: top;\n",
       "    }\n",
       "\n",
       "    .dataframe thead th {\n",
       "        text-align: right;\n",
       "    }\n",
       "</style>\n",
       "<table border=\"1\" class=\"dataframe\">\n",
       "  <thead>\n",
       "    <tr style=\"text-align: right;\">\n",
       "      <th></th>\n",
       "      <th>day</th>\n",
       "      <th>sum</th>\n",
       "      <th>description</th>\n",
       "      <th>merchant_address</th>\n",
       "    </tr>\n",
       "  </thead>\n",
       "  <tbody>\n",
       "    <tr>\n",
       "      <th>0</th>\n",
       "      <td>2023-06-03 00:00:00+00:00</td>\n",
       "      <td>1.99</td>\n",
       "      <td>Légumes asiatiques</td>\n",
       "      <td>13349 Berlin-Wedding</td>\n",
       "    </tr>\n",
       "    <tr>\n",
       "      <th>1</th>\n",
       "      <td>2023-06-03 00:00:00+00:00</td>\n",
       "      <td>0.95</td>\n",
       "      <td>Salade d'iceberg</td>\n",
       "      <td>13349 Berlin-Wedding</td>\n",
       "    </tr>\n",
       "    <tr>\n",
       "      <th>2</th>\n",
       "      <td>2023-06-03 00:00:00+00:00</td>\n",
       "      <td>0.89</td>\n",
       "      <td>Sauce de pomme sugared</td>\n",
       "      <td>13349 Berlin-Wedding</td>\n",
       "    </tr>\n",
       "    <tr>\n",
       "      <th>3</th>\n",
       "      <td>2023-06-03 00:00:00+00:00</td>\n",
       "      <td>1.95</td>\n",
       "      <td>Hygienespray Univer</td>\n",
       "      <td>13349 Berlin-Wedding</td>\n",
       "    </tr>\n",
       "    <tr>\n",
       "      <th>4</th>\n",
       "      <td>2023-06-03 00:00:00+00:00</td>\n",
       "      <td>1.01</td>\n",
       "      <td>Tomatestrau.kg</td>\n",
       "      <td>13349 Berlin-Wedding</td>\n",
       "    </tr>\n",
       "  </tbody>\n",
       "</table>\n",
       "</div>"
      ],
      "text/plain": [
       "                        day   sum             description  \\\n",
       "0 2023-06-03 00:00:00+00:00  1.99      Légumes asiatiques   \n",
       "1 2023-06-03 00:00:00+00:00  0.95        Salade d'iceberg   \n",
       "2 2023-06-03 00:00:00+00:00  0.89  Sauce de pomme sugared   \n",
       "3 2023-06-03 00:00:00+00:00  1.95     Hygienespray Univer   \n",
       "4 2023-06-03 00:00:00+00:00  1.01          Tomatestrau.kg   \n",
       "\n",
       "       merchant_address  \n",
       "0  13349 Berlin-Wedding  \n",
       "1  13349 Berlin-Wedding  \n",
       "2  13349 Berlin-Wedding  \n",
       "3  13349 Berlin-Wedding  \n",
       "4  13349 Berlin-Wedding  "
      ]
     },
     "execution_count": 48,
     "metadata": {},
     "output_type": "execute_result"
    }
   ],
   "source": [
    "df_products_groupby.head()\n"
   ]
  },
  {
   "cell_type": "markdown",
   "metadata": {},
   "source": [
    "### format datasets"
   ]
  },
  {
   "cell_type": "code",
   "execution_count": 44,
   "metadata": {},
   "outputs": [
    {
     "name": "stdout",
     "output_type": "stream",
     "text": [
      "0      5\n",
      "1      1\n",
      "2      2\n",
      "3      3\n",
      "4      4\n",
      "      ..\n",
      "119    1\n",
      "120    1\n",
      "121    1\n",
      "122    1\n",
      "123    1\n",
      "Name: weekday_label, Length: 124, dtype: int64\n"
     ]
    },
    {
     "name": "stderr",
     "output_type": "stream",
     "text": [
      "C:\\Users\\leray\\AppData\\Local\\Temp\\ipykernel_7160\\3726481207.py:9: SettingWithCopyWarning: \n",
      "A value is trying to be set on a copy of a slice from a DataFrame\n",
      "\n",
      "See the caveats in the documentation: https://pandas.pydata.org/pandas-docs/stable/user_guide/indexing.html#returning-a-view-versus-a-copy\n",
      "  df_products['weekday_label'][weekday] = dict_weekday[key]\n"
     ]
    }
   ],
   "source": [
    "#weekday\n",
    "df_products['weekday']=df_products['time'].dt.weekday\n",
    "df_products['weekday_label']=df_products['weekday']\n",
    "dict_weekday = {'Monday': 1, 'Tuesday': 2, 'Wednesday': 3, 'Thursday': 4, 'Friday': 5, 'Saturday': 6, 'Sunday': 7}\n",
    "\n",
    "for weekday in df_products['weekday']:\n",
    "    for key, items in dict_weekday.items():\n",
    "        if items == weekday:\n",
    "            df_products['weekday_label'][weekday] = dict_weekday[key]\n",
    "            \n",
    "print(df_products['weekday_label'])"
   ]
  }
 ],
 "metadata": {
  "kernelspec": {
   "display_name": "myenv",
   "language": "python",
   "name": "python3"
  },
  "language_info": {
   "codemirror_mode": {
    "name": "ipython",
    "version": 3
   },
   "file_extension": ".py",
   "mimetype": "text/x-python",
   "name": "python",
   "nbconvert_exporter": "python",
   "pygments_lexer": "ipython3",
   "version": "3.10.11"
  },
  "orig_nbformat": 4
 },
 "nbformat": 4,
 "nbformat_minor": 2
}
